{
 "cells": [
  {
   "cell_type": "markdown",
   "source": [
    "Imports"
   ],
   "metadata": {
    "collapsed": false
   }
  },
  {
   "cell_type": "code",
   "execution_count": 1,
   "metadata": {
    "collapsed": true
   },
   "outputs": [],
   "source": [
    "import numpy as np\n",
    "import pandas as pd\n",
    "from sklearn.ensemble import RandomForestRegressor, RandomForestClassifier\n",
    "from sklearn.metrics import confusion_matrix\n",
    "from sklearn.neighbors import KNeighborsClassifier\n",
    "from sklearn.preprocessing import MinMaxScaler\n",
    "import seaborn as sns\n",
    "from statistics import mean\n",
    "from sklearn.metrics import accuracy_score, mean_squared_error"
   ]
  },
  {
   "cell_type": "markdown",
   "source": [
    "Data import"
   ],
   "metadata": {
    "collapsed": false
   }
  },
  {
   "cell_type": "code",
   "execution_count": 2,
   "outputs": [
    {
     "name": "stdout",
     "output_type": "stream",
     "text": [
      "Index(['ID', 'INTERPRET', 'TITEL', 'TEXT', 'processed_TEXT', 'POSITION',\n",
      "       'DATUM_VON', 'DATUM_BIS', 'DAUER', 'JAHR', 'MONAT',\n",
      "       'ANZ_UNIQUE_WOERTER', 'LAENGE_LAENGSTES_WORT', 'RANK_SCORE',\n",
      "       'NUMBER_OF_STOPWORDS', 'STOPWORD_PERCENTAGE', 'SUBJECTIVITY',\n",
      "       'POLARITY', 'processed_TITLE'],\n",
      "      dtype='object')\n"
     ]
    }
   ],
   "source": [
    "df = pd.read_csv('data/processed/EDA.csv', usecols=['ID','INTERPRET', 'TITEL', 'TEXT', 'processed_TEXT','POSITION','DATUM_VON', 'DATUM_BIS', 'DAUER', 'JAHR', 'MONAT', 'ANZ_UNIQUE_WOERTER', 'LAENGE_LAENGSTES_WORT', 'RANK_SCORE', 'NUMBER_OF_STOPWORDS', 'STOPWORD_PERCENTAGE', 'SUBJECTIVITY', 'POLARITY', 'processed_TITLE'])\n",
    "print(df.columns)"
   ],
   "metadata": {
    "collapsed": false
   }
  },
  {
   "cell_type": "code",
   "execution_count": 4,
   "outputs": [
    {
     "data": {
      "text/plain": "            ID                    INTERPRET           TITEL  \\\n0          408                  Rumpelstilz          Kiosk    \n1          408                  Rumpelstilz          Kiosk    \n2          425               Costa Cordalis          Anita    \n3          425               Costa Cordalis          Anita    \n4          425               Costa Cordalis          Anita    \n...        ...                          ...             ...   \n22757  2303823            AnnenMayKantereit  3 Tage am Meer   \n22758  2304169          Farid Bang & B-Case          Baller   \n22759  2304914                    Yung Hurn         Alleine   \n22760  2304939                  Azet & Zuna          Ohh oh   \n22761  2305285  Capital Bra & Lucry & Suena           Musik   \n\n                                                    TEXT  \\\n0      ALSO ER SAMMLE FUER EINEN GUTEN ZWECK  SAGT DE...   \n1      ALSO ER SAMMLE FUER EINEN GUTEN ZWECK  SAGT DE...   \n2      JVUIOUGIVTOH ICH FAND SIE IRGENDWO  ALLEIN IN ...   \n3      JVUIOUGIVTOH ICH FAND SIE IRGENDWO  ALLEIN IN ...   \n4      JVUIOUGIVTOH ICH FAND SIE IRGENDWO  ALLEIN IN ...   \n...                                                  ...   \n22757  ICH WEISS  WAS ICH KANN TROTZDEM AB UND AN KOM...   \n22758  BALLER   LA LA LA  ICH ZIEH  DIE WAFFE UND ICH...   \n22759  BABY  SAG MIR  WAS DU HEUTE MACHST HAST DU ZEI...   \n22760  OH  OH  AH OH   ULTRA PLUS  BABY     BIN MEIN ...   \n22761  BITTE BITTE GIB  MIR DAS GEFUEHL  DASS DU MICH...   \n\n                                          processed_TEXT  POSITION  \\\n0      ['ALSO', 'SAMML', 'FUER', 'GUT', 'ZWECK', 'SAG...        50   \n1      ['ALSO', 'SAMML', 'FUER', 'GUT', 'ZWECK', 'SAG...         4   \n2      ['JVUIOUGIVTOH', 'FAND', 'IRGENDWO', 'ALLEIN',...        23   \n3      ['JVUIOUGIVTOH', 'FAND', 'IRGENDWO', 'ALLEIN',...        39   \n4      ['JVUIOUGIVTOH', 'FAND', 'IRGENDWO', 'ALLEIN',...        27   \n...                                                  ...       ...   \n22757  ['WEISS', 'KANN', 'TROTZD', 'KOMM', 'EN', 'ZWE...        21   \n22758  ['BALL', 'LA', 'LA', 'LA', 'ZIEH', 'WAFF', 'BA...        42   \n22759  ['BABY', 'SAG', 'HEUT', 'MACH', 'JA', 'BABY', ...        20   \n22760  ['OH', 'OH', 'AH', 'OH', 'ULTRA', 'BABY', 'EIG...         5   \n22761  ['BITT', 'BITT', 'GIB', 'GEFUEHL', 'NOCH', 'LI...        38   \n\n        DATUM_VON   DATUM_BIS  DAUER  JAHR  MONAT  ANZ_UNIQUE_WOERTER  \\\n0      2009-03-06  2009-03-12      6  2009      3                  83   \n1      1984-10-22  1984-10-28      6  1984     10                  83   \n2      2003-08-25  2003-08-31      6  2003      8                  73   \n3      2003-07-28  2003-08-03      6  2003      8                  73   \n4      2003-07-28  2003-08-03      6  2003      8                  73   \n...           ...         ...    ...   ...    ...                 ...   \n22757  1980-11-24  1980-11-30      6  1980     11                  45   \n22758  2020-04-10  2020-04-16      6  2020      4                 149   \n22759  2019-10-18  2019-10-24      6  2019     10                  58   \n22760  2019-07-26  2019-08-01      6  2019      8                 109   \n22761  2020-04-24  2020-04-30      6  2020      4                 117   \n\n       LAENGE_LAENGSTES_WORT  NUMBER_OF_STOPWORDS  STOPWORD_PERCENTAGE  \\\n0                         13                   48              0.00211   \n1                         13                   48              0.00211   \n2                         12                   43              0.00189   \n3                         12                   43              0.00189   \n4                         12                   43              0.00189   \n...                      ...                  ...                  ...   \n22757                     11                   26              0.00114   \n22758                     14                   60              0.00264   \n22759                      7                   42              0.00185   \n22760                     13                   51              0.00224   \n22761                     16                   48              0.00211   \n\n       SUBJECTIVITY  POLARITY      processed_TITLE  RANK_SCORE  \n0          0.400000  0.100000            ['KIOSK']          24  \n1          0.400000  0.100000            ['KIOSK']          24  \n2          0.000000  0.000000            ['ANITA']          27  \n3          0.000000  0.000000            ['ANITA']          27  \n4          0.000000  0.000000            ['ANITA']          27  \n...             ...       ...                  ...         ...  \n22757      0.000000  0.000000  ['', 'TAG', 'MEER']          30  \n22758      0.525000  0.045833             ['BALL']           9  \n22759      0.600000  0.600000           ['ALLEIN']          31  \n22760      0.616667 -0.216667        ['OHH', 'OH']          46  \n22761      0.400000 -0.133333            ['MUSIK']          13  \n\n[22762 rows x 19 columns]",
      "text/html": "<div>\n<style scoped>\n    .dataframe tbody tr th:only-of-type {\n        vertical-align: middle;\n    }\n\n    .dataframe tbody tr th {\n        vertical-align: top;\n    }\n\n    .dataframe thead th {\n        text-align: right;\n    }\n</style>\n<table border=\"1\" class=\"dataframe\">\n  <thead>\n    <tr style=\"text-align: right;\">\n      <th></th>\n      <th>ID</th>\n      <th>INTERPRET</th>\n      <th>TITEL</th>\n      <th>TEXT</th>\n      <th>processed_TEXT</th>\n      <th>POSITION</th>\n      <th>DATUM_VON</th>\n      <th>DATUM_BIS</th>\n      <th>DAUER</th>\n      <th>JAHR</th>\n      <th>MONAT</th>\n      <th>ANZ_UNIQUE_WOERTER</th>\n      <th>LAENGE_LAENGSTES_WORT</th>\n      <th>NUMBER_OF_STOPWORDS</th>\n      <th>STOPWORD_PERCENTAGE</th>\n      <th>SUBJECTIVITY</th>\n      <th>POLARITY</th>\n      <th>processed_TITLE</th>\n      <th>RANK_SCORE</th>\n    </tr>\n  </thead>\n  <tbody>\n    <tr>\n      <th>0</th>\n      <td>408</td>\n      <td>Rumpelstilz</td>\n      <td>Kiosk</td>\n      <td>ALSO ER SAMMLE FUER EINEN GUTEN ZWECK  SAGT DE...</td>\n      <td>['ALSO', 'SAMML', 'FUER', 'GUT', 'ZWECK', 'SAG...</td>\n      <td>50</td>\n      <td>2009-03-06</td>\n      <td>2009-03-12</td>\n      <td>6</td>\n      <td>2009</td>\n      <td>3</td>\n      <td>83</td>\n      <td>13</td>\n      <td>48</td>\n      <td>0.00211</td>\n      <td>0.400000</td>\n      <td>0.100000</td>\n      <td>['KIOSK']</td>\n      <td>24</td>\n    </tr>\n    <tr>\n      <th>1</th>\n      <td>408</td>\n      <td>Rumpelstilz</td>\n      <td>Kiosk</td>\n      <td>ALSO ER SAMMLE FUER EINEN GUTEN ZWECK  SAGT DE...</td>\n      <td>['ALSO', 'SAMML', 'FUER', 'GUT', 'ZWECK', 'SAG...</td>\n      <td>4</td>\n      <td>1984-10-22</td>\n      <td>1984-10-28</td>\n      <td>6</td>\n      <td>1984</td>\n      <td>10</td>\n      <td>83</td>\n      <td>13</td>\n      <td>48</td>\n      <td>0.00211</td>\n      <td>0.400000</td>\n      <td>0.100000</td>\n      <td>['KIOSK']</td>\n      <td>24</td>\n    </tr>\n    <tr>\n      <th>2</th>\n      <td>425</td>\n      <td>Costa Cordalis</td>\n      <td>Anita</td>\n      <td>JVUIOUGIVTOH ICH FAND SIE IRGENDWO  ALLEIN IN ...</td>\n      <td>['JVUIOUGIVTOH', 'FAND', 'IRGENDWO', 'ALLEIN',...</td>\n      <td>23</td>\n      <td>2003-08-25</td>\n      <td>2003-08-31</td>\n      <td>6</td>\n      <td>2003</td>\n      <td>8</td>\n      <td>73</td>\n      <td>12</td>\n      <td>43</td>\n      <td>0.00189</td>\n      <td>0.000000</td>\n      <td>0.000000</td>\n      <td>['ANITA']</td>\n      <td>27</td>\n    </tr>\n    <tr>\n      <th>3</th>\n      <td>425</td>\n      <td>Costa Cordalis</td>\n      <td>Anita</td>\n      <td>JVUIOUGIVTOH ICH FAND SIE IRGENDWO  ALLEIN IN ...</td>\n      <td>['JVUIOUGIVTOH', 'FAND', 'IRGENDWO', 'ALLEIN',...</td>\n      <td>39</td>\n      <td>2003-07-28</td>\n      <td>2003-08-03</td>\n      <td>6</td>\n      <td>2003</td>\n      <td>8</td>\n      <td>73</td>\n      <td>12</td>\n      <td>43</td>\n      <td>0.00189</td>\n      <td>0.000000</td>\n      <td>0.000000</td>\n      <td>['ANITA']</td>\n      <td>27</td>\n    </tr>\n    <tr>\n      <th>4</th>\n      <td>425</td>\n      <td>Costa Cordalis</td>\n      <td>Anita</td>\n      <td>JVUIOUGIVTOH ICH FAND SIE IRGENDWO  ALLEIN IN ...</td>\n      <td>['JVUIOUGIVTOH', 'FAND', 'IRGENDWO', 'ALLEIN',...</td>\n      <td>27</td>\n      <td>2003-07-28</td>\n      <td>2003-08-03</td>\n      <td>6</td>\n      <td>2003</td>\n      <td>8</td>\n      <td>73</td>\n      <td>12</td>\n      <td>43</td>\n      <td>0.00189</td>\n      <td>0.000000</td>\n      <td>0.000000</td>\n      <td>['ANITA']</td>\n      <td>27</td>\n    </tr>\n    <tr>\n      <th>...</th>\n      <td>...</td>\n      <td>...</td>\n      <td>...</td>\n      <td>...</td>\n      <td>...</td>\n      <td>...</td>\n      <td>...</td>\n      <td>...</td>\n      <td>...</td>\n      <td>...</td>\n      <td>...</td>\n      <td>...</td>\n      <td>...</td>\n      <td>...</td>\n      <td>...</td>\n      <td>...</td>\n      <td>...</td>\n      <td>...</td>\n      <td>...</td>\n    </tr>\n    <tr>\n      <th>22757</th>\n      <td>2303823</td>\n      <td>AnnenMayKantereit</td>\n      <td>3 Tage am Meer</td>\n      <td>ICH WEISS  WAS ICH KANN TROTZDEM AB UND AN KOM...</td>\n      <td>['WEISS', 'KANN', 'TROTZD', 'KOMM', 'EN', 'ZWE...</td>\n      <td>21</td>\n      <td>1980-11-24</td>\n      <td>1980-11-30</td>\n      <td>6</td>\n      <td>1980</td>\n      <td>11</td>\n      <td>45</td>\n      <td>11</td>\n      <td>26</td>\n      <td>0.00114</td>\n      <td>0.000000</td>\n      <td>0.000000</td>\n      <td>['', 'TAG', 'MEER']</td>\n      <td>30</td>\n    </tr>\n    <tr>\n      <th>22758</th>\n      <td>2304169</td>\n      <td>Farid Bang &amp; B-Case</td>\n      <td>Baller</td>\n      <td>BALLER   LA LA LA  ICH ZIEH  DIE WAFFE UND ICH...</td>\n      <td>['BALL', 'LA', 'LA', 'LA', 'ZIEH', 'WAFF', 'BA...</td>\n      <td>42</td>\n      <td>2020-04-10</td>\n      <td>2020-04-16</td>\n      <td>6</td>\n      <td>2020</td>\n      <td>4</td>\n      <td>149</td>\n      <td>14</td>\n      <td>60</td>\n      <td>0.00264</td>\n      <td>0.525000</td>\n      <td>0.045833</td>\n      <td>['BALL']</td>\n      <td>9</td>\n    </tr>\n    <tr>\n      <th>22759</th>\n      <td>2304914</td>\n      <td>Yung Hurn</td>\n      <td>Alleine</td>\n      <td>BABY  SAG MIR  WAS DU HEUTE MACHST HAST DU ZEI...</td>\n      <td>['BABY', 'SAG', 'HEUT', 'MACH', 'JA', 'BABY', ...</td>\n      <td>20</td>\n      <td>2019-10-18</td>\n      <td>2019-10-24</td>\n      <td>6</td>\n      <td>2019</td>\n      <td>10</td>\n      <td>58</td>\n      <td>7</td>\n      <td>42</td>\n      <td>0.00185</td>\n      <td>0.600000</td>\n      <td>0.600000</td>\n      <td>['ALLEIN']</td>\n      <td>31</td>\n    </tr>\n    <tr>\n      <th>22760</th>\n      <td>2304939</td>\n      <td>Azet &amp; Zuna</td>\n      <td>Ohh oh</td>\n      <td>OH  OH  AH OH   ULTRA PLUS  BABY     BIN MEIN ...</td>\n      <td>['OH', 'OH', 'AH', 'OH', 'ULTRA', 'BABY', 'EIG...</td>\n      <td>5</td>\n      <td>2019-07-26</td>\n      <td>2019-08-01</td>\n      <td>6</td>\n      <td>2019</td>\n      <td>8</td>\n      <td>109</td>\n      <td>13</td>\n      <td>51</td>\n      <td>0.00224</td>\n      <td>0.616667</td>\n      <td>-0.216667</td>\n      <td>['OHH', 'OH']</td>\n      <td>46</td>\n    </tr>\n    <tr>\n      <th>22761</th>\n      <td>2305285</td>\n      <td>Capital Bra &amp; Lucry &amp; Suena</td>\n      <td>Musik</td>\n      <td>BITTE BITTE GIB  MIR DAS GEFUEHL  DASS DU MICH...</td>\n      <td>['BITT', 'BITT', 'GIB', 'GEFUEHL', 'NOCH', 'LI...</td>\n      <td>38</td>\n      <td>2020-04-24</td>\n      <td>2020-04-30</td>\n      <td>6</td>\n      <td>2020</td>\n      <td>4</td>\n      <td>117</td>\n      <td>16</td>\n      <td>48</td>\n      <td>0.00211</td>\n      <td>0.400000</td>\n      <td>-0.133333</td>\n      <td>['MUSIK']</td>\n      <td>13</td>\n    </tr>\n  </tbody>\n</table>\n<p>22762 rows × 19 columns</p>\n</div>"
     },
     "execution_count": 4,
     "metadata": {},
     "output_type": "execute_result"
    }
   ],
   "source": [
    "df"
   ],
   "metadata": {
    "collapsed": false
   }
  },
  {
   "cell_type": "markdown",
   "source": [
    "Train-Test Split"
   ],
   "metadata": {
    "collapsed": false
   }
  },
  {
   "cell_type": "code",
   "execution_count": 6,
   "outputs": [
    {
     "name": "stdout",
     "output_type": "stream",
     "text": [
      "(22056, 5)\n",
      "(706, 5)\n"
     ]
    }
   ],
   "source": [
    "df_test = df.loc[df['JAHR'] == 2022]\n",
    "df_train = df.loc[df['JAHR'] < 2022]\n",
    "X_test = df_test[['JAHR', 'ANZ_UNIQUE_WOERTER', 'NUMBER_OF_STOPWORDS', 'STOPWORD_PERCENTAGE', 'SUBJECTIVITY']]\n",
    "y_test = df_test['RANK_SCORE']\n",
    "\n",
    "X_train = df_train[['JAHR', 'ANZ_UNIQUE_WOERTER', 'NUMBER_OF_STOPWORDS', 'STOPWORD_PERCENTAGE', 'SUBJECTIVITY']]\n",
    "y_train = df_train['RANK_SCORE']\n",
    "print(np.shape(X_train))\n",
    "print(np.shape(X_test))\n",
    "\n",
    "#X_train, X_test, y_train, y_test = train_test_split(df['DAUER'], df.RANK_SCORE, test_size=0.5, stratify=df.RANK_SCORE, random_state=123456)"
   ],
   "metadata": {
    "collapsed": false
   }
  },
  {
   "cell_type": "markdown",
   "source": [
    "Modelling"
   ],
   "metadata": {
    "collapsed": false
   }
  },
  {
   "cell_type": "code",
   "execution_count": 7,
   "outputs": [
    {
     "name": "stdout",
     "output_type": "stream",
     "text": [
      "AxesSubplot(0.125,0.11;0.775x0.77)\n"
     ]
    },
    {
     "data": {
      "text/plain": "<Figure size 640x480 with 1 Axes>",
      "image/png": "[encoded data removed]"
     },
     "metadata": {},
     "output_type": "display_data"
    }
   ],
   "source": [
    "print(y_train.hist())"
   ],
   "metadata": {
    "collapsed": false
   }
  },
  {
   "cell_type": "code",
   "execution_count": 9,
   "outputs": [
    {
     "data": {
      "text/plain": "RandomForestClassifier(oob_score=True, random_state=123450)",
      "text/html": "<style>#sk-container-id-1 {color: black;background-color: white;}#sk-container-id-1 pre{padding: 0;}#sk-container-id-1 div.sk-toggleable {background-color: white;}#sk-container-id-1 label.sk-toggleable__label {cursor: pointer;display: block;width: 100%;margin-bottom: 0;padding: 0.3em;box-sizing: border-box;text-align: center;}#sk-container-id-1 label.sk-toggleable__label-arrow:before {content: \"▸\";float: left;margin-right: 0.25em;color: #696969;}#sk-container-id-1 label.sk-toggleable__label-arrow:hover:before {color: black;}#sk-container-id-1 div.sk-estimator:hover label.sk-toggleable__label-arrow:before {color: black;}#sk-container-id-1 div.sk-toggleable__content {max-height: 0;max-width: 0;overflow: hidden;text-align: left;background-color: #f0f8ff;}#sk-container-id-1 div.sk-toggleable__content pre {margin: 0.2em;color: black;border-radius: 0.25em;background-color: #f0f8ff;}#sk-container-id-1 input.sk-toggleable__control:checked~div.sk-toggleable__content {max-height: 200px;max-width: 100%;overflow: auto;}#sk-container-id-1 input.sk-toggleable__control:checked~label.sk-toggleable__label-arrow:before {content: \"▾\";}#sk-container-id-1 div.sk-estimator input.sk-toggleable__control:checked~label.sk-toggleable__label {background-color: #d4ebff;}#sk-container-id-1 div.sk-label input.sk-toggleable__control:checked~label.sk-toggleable__label {background-color: #d4ebff;}#sk-container-id-1 input.sk-hidden--visually {border: 0;clip: rect(1px 1px 1px 1px);clip: rect(1px, 1px, 1px, 1px);height: 1px;margin: -1px;overflow: hidden;padding: 0;position: absolute;width: 1px;}#sk-container-id-1 div.sk-estimator {font-family: monospace;background-color: #f0f8ff;border: 1px dotted black;border-radius: 0.25em;box-sizing: border-box;margin-bottom: 0.5em;}#sk-container-id-1 div.sk-estimator:hover {background-color: #d4ebff;}#sk-container-id-1 div.sk-parallel-item::after {content: \"\";width: 100%;border-bottom: 1px solid gray;flex-grow: 1;}#sk-container-id-1 div.sk-label:hover label.sk-toggleable__label {background-color: #d4ebff;}#sk-container-id-1 div.sk-serial::before {content: \"\";position: absolute;border-left: 1px solid gray;box-sizing: border-box;top: 0;bottom: 0;left: 50%;z-index: 0;}#sk-container-id-1 div.sk-serial {display: flex;flex-direction: column;align-items: center;background-color: white;padding-right: 0.2em;padding-left: 0.2em;position: relative;}#sk-container-id-1 div.sk-item {position: relative;z-index: 1;}#sk-container-id-1 div.sk-parallel {display: flex;align-items: stretch;justify-content: center;background-color: white;position: relative;}#sk-container-id-1 div.sk-item::before, #sk-container-id-1 div.sk-parallel-item::before {content: \"\";position: absolute;border-left: 1px solid gray;box-sizing: border-box;top: 0;bottom: 0;left: 50%;z-index: -1;}#sk-container-id-1 div.sk-parallel-item {display: flex;flex-direction: column;z-index: 1;position: relative;background-color: white;}#sk-container-id-1 div.sk-parallel-item:first-child::after {align-self: flex-end;width: 50%;}#sk-container-id-1 div.sk-parallel-item:last-child::after {align-self: flex-start;width: 50%;}#sk-container-id-1 div.sk-parallel-item:only-child::after {width: 0;}#sk-container-id-1 div.sk-dashed-wrapped {border: 1px dashed gray;margin: 0 0.4em 0.5em 0.4em;box-sizing: border-box;padding-bottom: 0.4em;background-color: white;}#sk-container-id-1 div.sk-label label {font-family: monospace;font-weight: bold;display: inline-block;line-height: 1.2em;}#sk-container-id-1 div.sk-label-container {text-align: center;}#sk-container-id-1 div.sk-container {/* jupyter's `normalize.less` sets `[hidden] { display: none; }` but bootstrap.min.css set `[hidden] { display: none !important; }` so we also need the `!important` here to be able to override the default hidden behavior on the sphinx rendered scikit-learn.org. See: https://github.com/scikit-learn/scikit-learn/issues/21755 */display: inline-block !important;position: relative;}#sk-container-id-1 div.sk-text-repr-fallback {display: none;}</style><div id=\"sk-container-id-1\" class=\"sk-top-container\"><div class=\"sk-text-repr-fallback\"><pre>RandomForestClassifier(oob_score=True, random_state=123450)</pre><b>In a Jupyter environment, please rerun this cell to show the HTML representation or trust the notebook. <br />On GitHub, the HTML representation is unable to render, please try loading this page with nbviewer.org.</b></div><div class=\"sk-container\" hidden><div class=\"sk-item\"><div class=\"sk-estimator sk-toggleable\"><input class=\"sk-toggleable__control sk-hidden--visually\" id=\"sk-estimator-id-1\" type=\"checkbox\" checked><label for=\"sk-estimator-id-1\" class=\"sk-toggleable__label sk-toggleable__label-arrow\">RandomForestClassifier</label><div class=\"sk-toggleable__content\"><pre>RandomForestClassifier(oob_score=True, random_state=123450)</pre></div></div></div></div></div>"
     },
     "execution_count": 9,
     "metadata": {},
     "output_type": "execute_result"
    }
   ],
   "source": [
    "rf = RandomForestClassifier(n_estimators=100, random_state=123450, oob_score=True)\n",
    "rf.fit(X_train, y_train)"
   ],
   "metadata": {
    "collapsed": false
   }
  },
  {
   "cell_type": "code",
   "execution_count": 10,
   "outputs": [
    {
     "data": {
      "text/plain": "0.3286118980169972"
     },
     "execution_count": 10,
     "metadata": {},
     "output_type": "execute_result"
    }
   ],
   "source": [
    "ypred = rf.predict(X_test)\n",
    "accuracy_score(y_test,ypred)\n",
    "#mean_squared_error(y_test, ypred)"
   ],
   "metadata": {
    "collapsed": false
   }
  },
  {
   "cell_type": "code",
   "execution_count": 11,
   "outputs": [
    {
     "name": "stdout",
     "output_type": "stream",
     "text": [
      "0.9986398258977149\n",
      "MSE:  159.5\n",
      "RMSE:  79.75\n",
      "(706,)\n",
      "(706,)\n",
      "     y_test  y_pred\n",
      "124      26      26\n",
      "125      26      26\n",
      "127      26      26\n",
      "128      26      26\n",
      "129      26      26\n"
     ]
    }
   ],
   "source": [
    "score = rf.score(X_train, y_train)\n",
    "ypred = rf.predict(X_test)\n",
    "mse = mean_squared_error(y_test, ypred)\n",
    "\n",
    "print(score)\n",
    "print(\"MSE: \", mse)\n",
    "print(\"RMSE: \", mse*(1/2.0))\n",
    "print(np.shape(ypred))\n",
    "print(np.shape(y_test))\n",
    "df_ = pd.DataFrame()\n",
    "df_[\"y_test\"] = y_test\n",
    "df_[\"y_pred\"] = ypred\n",
    "print(df_.head())"
   ],
   "metadata": {
    "collapsed": false
   }
  },
  {
   "cell_type": "code",
   "execution_count": 85,
   "outputs": [
    {
     "ename": "ValueError",
     "evalue": "Classification metrics can't handle a mix of multiclass and continuous targets",
     "output_type": "error",
     "traceback": [
      "\u001B[1;31m---------------------------------------------------------------------------\u001B[0m",
      "\u001B[1;31mValueError\u001B[0m                                Traceback (most recent call last)",
      "Cell \u001B[1;32mIn [85], line 2\u001B[0m\n\u001B[0;32m      1\u001B[0m predicted \u001B[38;5;241m=\u001B[39m rf\u001B[38;5;241m.\u001B[39mpredict(X_test)\n\u001B[1;32m----> 2\u001B[0m accuracy \u001B[38;5;241m=\u001B[39m \u001B[43maccuracy_score\u001B[49m\u001B[43m(\u001B[49m\u001B[43my_test\u001B[49m\u001B[43m,\u001B[49m\u001B[43m \u001B[49m\u001B[43mpredicted\u001B[49m\u001B[43m)\u001B[49m\n\u001B[0;32m      3\u001B[0m mse \u001B[38;5;241m=\u001B[39m mean_squared_error(y_test, predicted)\n\u001B[0;32m      5\u001B[0m \u001B[38;5;28mprint\u001B[39m(\u001B[38;5;124mf\u001B[39m\u001B[38;5;124m'\u001B[39m\u001B[38;5;124mOut-of-bag score estimate: \u001B[39m\u001B[38;5;132;01m{\u001B[39;00mrf\u001B[38;5;241m.\u001B[39moob_score_\u001B[38;5;132;01m:\u001B[39;00m\u001B[38;5;124m.3\u001B[39m\u001B[38;5;132;01m}\u001B[39;00m\u001B[38;5;124m'\u001B[39m)\n",
      "File \u001B[1;32m~\\AppData\\Roaming\\JetBrains\\DataSpell2022.2\\projects\\workspace\\venv\\Lib\\site-packages\\sklearn\\metrics\\_classification.py:211\u001B[0m, in \u001B[0;36maccuracy_score\u001B[1;34m(y_true, y_pred, normalize, sample_weight)\u001B[0m\n\u001B[0;32m    145\u001B[0m \u001B[38;5;124;03m\"\"\"Accuracy classification score.\u001B[39;00m\n\u001B[0;32m    146\u001B[0m \n\u001B[0;32m    147\u001B[0m \u001B[38;5;124;03mIn multilabel classification, this function computes subset accuracy:\u001B[39;00m\n\u001B[1;32m   (...)\u001B[0m\n\u001B[0;32m    207\u001B[0m \u001B[38;5;124;03m0.5\u001B[39;00m\n\u001B[0;32m    208\u001B[0m \u001B[38;5;124;03m\"\"\"\u001B[39;00m\n\u001B[0;32m    210\u001B[0m \u001B[38;5;66;03m# Compute accuracy for each possible representation\u001B[39;00m\n\u001B[1;32m--> 211\u001B[0m y_type, y_true, y_pred \u001B[38;5;241m=\u001B[39m \u001B[43m_check_targets\u001B[49m\u001B[43m(\u001B[49m\u001B[43my_true\u001B[49m\u001B[43m,\u001B[49m\u001B[43m \u001B[49m\u001B[43my_pred\u001B[49m\u001B[43m)\u001B[49m\n\u001B[0;32m    212\u001B[0m check_consistent_length(y_true, y_pred, sample_weight)\n\u001B[0;32m    213\u001B[0m \u001B[38;5;28;01mif\u001B[39;00m y_type\u001B[38;5;241m.\u001B[39mstartswith(\u001B[38;5;124m\"\u001B[39m\u001B[38;5;124mmultilabel\u001B[39m\u001B[38;5;124m\"\u001B[39m):\n",
      "File \u001B[1;32m~\\AppData\\Roaming\\JetBrains\\DataSpell2022.2\\projects\\workspace\\venv\\Lib\\site-packages\\sklearn\\metrics\\_classification.py:93\u001B[0m, in \u001B[0;36m_check_targets\u001B[1;34m(y_true, y_pred)\u001B[0m\n\u001B[0;32m     90\u001B[0m     y_type \u001B[38;5;241m=\u001B[39m {\u001B[38;5;124m\"\u001B[39m\u001B[38;5;124mmulticlass\u001B[39m\u001B[38;5;124m\"\u001B[39m}\n\u001B[0;32m     92\u001B[0m \u001B[38;5;28;01mif\u001B[39;00m \u001B[38;5;28mlen\u001B[39m(y_type) \u001B[38;5;241m>\u001B[39m \u001B[38;5;241m1\u001B[39m:\n\u001B[1;32m---> 93\u001B[0m     \u001B[38;5;28;01mraise\u001B[39;00m \u001B[38;5;167;01mValueError\u001B[39;00m(\n\u001B[0;32m     94\u001B[0m         \u001B[38;5;124m\"\u001B[39m\u001B[38;5;124mClassification metrics can\u001B[39m\u001B[38;5;124m'\u001B[39m\u001B[38;5;124mt handle a mix of \u001B[39m\u001B[38;5;132;01m{0}\u001B[39;00m\u001B[38;5;124m and \u001B[39m\u001B[38;5;132;01m{1}\u001B[39;00m\u001B[38;5;124m targets\u001B[39m\u001B[38;5;124m\"\u001B[39m\u001B[38;5;241m.\u001B[39mformat(\n\u001B[0;32m     95\u001B[0m             type_true, type_pred\n\u001B[0;32m     96\u001B[0m         )\n\u001B[0;32m     97\u001B[0m     )\n\u001B[0;32m     99\u001B[0m \u001B[38;5;66;03m# We can't have more than one value on y_type => The set is no more needed\u001B[39;00m\n\u001B[0;32m    100\u001B[0m y_type \u001B[38;5;241m=\u001B[39m y_type\u001B[38;5;241m.\u001B[39mpop()\n",
      "\u001B[1;31mValueError\u001B[0m: Classification metrics can't handle a mix of multiclass and continuous targets"
     ]
    }
   ],
   "source": [
    "predicted = rf.predict(X_test)\n",
    "accuracy = accuracy_score(y_test, predicted)\n",
    "mse = mean_squared_error(y_test, predicted)\n",
    "\n",
    "print(f'Out-of-bag score estimate: {rf.oob_score_:.3}')\n",
    "print(f'Mean accuracy score: {accuracy:.3}')\n",
    "print(f'Mean Squared Error: {mse:.13}')"
   ],
   "metadata": {
    "collapsed": false
   }
  },
  {
   "cell_type": "code",
   "execution_count": 17,
   "outputs": [
    {
     "name": "stdout",
     "output_type": "stream",
     "text": [
      "MinMaxScaler()\n",
      "[705.  49.]\n",
      "[[0.         0.52083333]\n",
      " [0.00142045 0.52083333]\n",
      " [0.00284091 0.52083333]\n",
      " ...\n",
      " [0.99715909 0.95833333]\n",
      " [0.99857955 0.64583333]\n",
      " [1.         0.14583333]]\n"
     ]
    }
   ],
   "source": [
    "scaler = MinMaxScaler()\n",
    "data = [[index, ypred[index]] for index in range(1,len(ypred))]\n",
    "print(scaler.fit(data))\n",
    "print(scaler.data_max_)\n",
    "print(scaler.transform(data))\n",
    "\n",
    "knn = KNeighborsClassifier(n_neighbors=3)\n",
    "knn.fit(X_train)"
   ],
   "metadata": {
    "collapsed": false
   }
  },
  {
   "cell_type": "markdown",
   "source": [],
   "metadata": {
    "collapsed": false
   }
  },
  {
   "cell_type": "code",
   "execution_count": 63,
   "outputs": [
    {
     "ename": "ValueError",
     "evalue": "Shape of passed values is (50, 50), indices imply (22762, 22762)",
     "output_type": "error",
     "traceback": [
      "\u001B[1;31m---------------------------------------------------------------------------\u001B[0m",
      "\u001B[1;31mValueError\u001B[0m                                Traceback (most recent call last)",
      "Cell \u001B[1;32mIn [63], line 1\u001B[0m\n\u001B[1;32m----> 1\u001B[0m cm \u001B[38;5;241m=\u001B[39m \u001B[43mpd\u001B[49m\u001B[38;5;241;43m.\u001B[39;49m\u001B[43mDataFrame\u001B[49m\u001B[43m(\u001B[49m\u001B[43mconfusion_matrix\u001B[49m\u001B[43m(\u001B[49m\u001B[43my_test\u001B[49m\u001B[43m,\u001B[49m\u001B[43m \u001B[49m\u001B[43mpredicted\u001B[49m\u001B[43m)\u001B[49m\u001B[43m,\u001B[49m\u001B[43m \u001B[49m\u001B[43mcolumns\u001B[49m\u001B[38;5;241;43m=\u001B[39;49m\u001B[43mdf\u001B[49m\u001B[38;5;241;43m.\u001B[39;49m\u001B[43mRANK_SCORE\u001B[49m\u001B[43m,\u001B[49m\u001B[43m \u001B[49m\u001B[43mindex\u001B[49m\u001B[38;5;241;43m=\u001B[39;49m\u001B[43mdf\u001B[49m\u001B[38;5;241;43m.\u001B[39;49m\u001B[43mRANK_SCORE\u001B[49m\u001B[43m)\u001B[49m\n\u001B[0;32m      2\u001B[0m sns\u001B[38;5;241m.\u001B[39mheatmap(cm, annot\u001B[38;5;241m=\u001B[39m\u001B[38;5;28;01mTrue\u001B[39;00m)\n",
      "File \u001B[1;32m~\\AppData\\Roaming\\JetBrains\\DataSpell2022.2\\projects\\workspace\\venv\\Lib\\site-packages\\pandas\\core\\frame.py:720\u001B[0m, in \u001B[0;36mDataFrame.__init__\u001B[1;34m(self, data, index, columns, dtype, copy)\u001B[0m\n\u001B[0;32m    710\u001B[0m         mgr \u001B[38;5;241m=\u001B[39m dict_to_mgr(\n\u001B[0;32m    711\u001B[0m             \u001B[38;5;66;03m# error: Item \"ndarray\" of \"Union[ndarray, Series, Index]\" has no\u001B[39;00m\n\u001B[0;32m    712\u001B[0m             \u001B[38;5;66;03m# attribute \"name\"\u001B[39;00m\n\u001B[1;32m   (...)\u001B[0m\n\u001B[0;32m    717\u001B[0m             typ\u001B[38;5;241m=\u001B[39mmanager,\n\u001B[0;32m    718\u001B[0m         )\n\u001B[0;32m    719\u001B[0m     \u001B[38;5;28;01melse\u001B[39;00m:\n\u001B[1;32m--> 720\u001B[0m         mgr \u001B[38;5;241m=\u001B[39m \u001B[43mndarray_to_mgr\u001B[49m\u001B[43m(\u001B[49m\n\u001B[0;32m    721\u001B[0m \u001B[43m            \u001B[49m\u001B[43mdata\u001B[49m\u001B[43m,\u001B[49m\n\u001B[0;32m    722\u001B[0m \u001B[43m            \u001B[49m\u001B[43mindex\u001B[49m\u001B[43m,\u001B[49m\n\u001B[0;32m    723\u001B[0m \u001B[43m            \u001B[49m\u001B[43mcolumns\u001B[49m\u001B[43m,\u001B[49m\n\u001B[0;32m    724\u001B[0m \u001B[43m            \u001B[49m\u001B[43mdtype\u001B[49m\u001B[38;5;241;43m=\u001B[39;49m\u001B[43mdtype\u001B[49m\u001B[43m,\u001B[49m\n\u001B[0;32m    725\u001B[0m \u001B[43m            \u001B[49m\u001B[43mcopy\u001B[49m\u001B[38;5;241;43m=\u001B[39;49m\u001B[43mcopy\u001B[49m\u001B[43m,\u001B[49m\n\u001B[0;32m    726\u001B[0m \u001B[43m            \u001B[49m\u001B[43mtyp\u001B[49m\u001B[38;5;241;43m=\u001B[39;49m\u001B[43mmanager\u001B[49m\u001B[43m,\u001B[49m\n\u001B[0;32m    727\u001B[0m \u001B[43m        \u001B[49m\u001B[43m)\u001B[49m\n\u001B[0;32m    729\u001B[0m \u001B[38;5;66;03m# For data is list-like, or Iterable (will consume into list)\u001B[39;00m\n\u001B[0;32m    730\u001B[0m \u001B[38;5;28;01melif\u001B[39;00m is_list_like(data):\n",
      "File \u001B[1;32m~\\AppData\\Roaming\\JetBrains\\DataSpell2022.2\\projects\\workspace\\venv\\Lib\\site-packages\\pandas\\core\\internals\\construction.py:349\u001B[0m, in \u001B[0;36mndarray_to_mgr\u001B[1;34m(values, index, columns, dtype, copy, typ)\u001B[0m\n\u001B[0;32m    344\u001B[0m \u001B[38;5;66;03m# _prep_ndarraylike ensures that values.ndim == 2 at this point\u001B[39;00m\n\u001B[0;32m    345\u001B[0m index, columns \u001B[38;5;241m=\u001B[39m _get_axes(\n\u001B[0;32m    346\u001B[0m     values\u001B[38;5;241m.\u001B[39mshape[\u001B[38;5;241m0\u001B[39m], values\u001B[38;5;241m.\u001B[39mshape[\u001B[38;5;241m1\u001B[39m], index\u001B[38;5;241m=\u001B[39mindex, columns\u001B[38;5;241m=\u001B[39mcolumns\n\u001B[0;32m    347\u001B[0m )\n\u001B[1;32m--> 349\u001B[0m \u001B[43m_check_values_indices_shape_match\u001B[49m\u001B[43m(\u001B[49m\u001B[43mvalues\u001B[49m\u001B[43m,\u001B[49m\u001B[43m \u001B[49m\u001B[43mindex\u001B[49m\u001B[43m,\u001B[49m\u001B[43m \u001B[49m\u001B[43mcolumns\u001B[49m\u001B[43m)\u001B[49m\n\u001B[0;32m    351\u001B[0m \u001B[38;5;28;01mif\u001B[39;00m typ \u001B[38;5;241m==\u001B[39m \u001B[38;5;124m\"\u001B[39m\u001B[38;5;124marray\u001B[39m\u001B[38;5;124m\"\u001B[39m:\n\u001B[0;32m    353\u001B[0m     \u001B[38;5;28;01mif\u001B[39;00m \u001B[38;5;28missubclass\u001B[39m(values\u001B[38;5;241m.\u001B[39mdtype\u001B[38;5;241m.\u001B[39mtype, \u001B[38;5;28mstr\u001B[39m):\n",
      "File \u001B[1;32m~\\AppData\\Roaming\\JetBrains\\DataSpell2022.2\\projects\\workspace\\venv\\Lib\\site-packages\\pandas\\core\\internals\\construction.py:420\u001B[0m, in \u001B[0;36m_check_values_indices_shape_match\u001B[1;34m(values, index, columns)\u001B[0m\n\u001B[0;32m    418\u001B[0m passed \u001B[38;5;241m=\u001B[39m values\u001B[38;5;241m.\u001B[39mshape\n\u001B[0;32m    419\u001B[0m implied \u001B[38;5;241m=\u001B[39m (\u001B[38;5;28mlen\u001B[39m(index), \u001B[38;5;28mlen\u001B[39m(columns))\n\u001B[1;32m--> 420\u001B[0m \u001B[38;5;28;01mraise\u001B[39;00m \u001B[38;5;167;01mValueError\u001B[39;00m(\u001B[38;5;124mf\u001B[39m\u001B[38;5;124m\"\u001B[39m\u001B[38;5;124mShape of passed values is \u001B[39m\u001B[38;5;132;01m{\u001B[39;00mpassed\u001B[38;5;132;01m}\u001B[39;00m\u001B[38;5;124m, indices imply \u001B[39m\u001B[38;5;132;01m{\u001B[39;00mimplied\u001B[38;5;132;01m}\u001B[39;00m\u001B[38;5;124m\"\u001B[39m)\n",
      "\u001B[1;31mValueError\u001B[0m: Shape of passed values is (50, 50), indices imply (22762, 22762)"
     ]
    }
   ],
   "source": [
    "cm = pd.DataFrame(confusion_matrix(y_test, predicted), columns=df.RANK_SCORE, index=df.RANK_SCORE)\n",
    "sns.heatmap(cm, annot=True)"
   ],
   "metadata": {
    "collapsed": false
   }
  },
  {
   "cell_type": "code",
   "execution_count": null,
   "outputs": [],
   "source": [
    "df.RANK_SCORE"
   ],
   "metadata": {
    "collapsed": false
   }
  },
  {
   "cell_type": "code",
   "execution_count": null,
   "outputs": [],
   "source": [],
   "metadata": {
    "collapsed": false
   }
  }
 ],
 "metadata": {
  "kernelspec": {
   "display_name": "Python 3",
   "language": "python",
   "name": "python3"
  },
  "language_info": {
   "codemirror_mode": {
    "name": "ipython",
    "version": 2
   },
   "file_extension": ".py",
   "mimetype": "text/x-python",
   "name": "python",
   "nbconvert_exporter": "python",
   "pygments_lexer": "ipython2",
   "version": "2.7.6"
  }
 },
 "nbformat": 4,
 "nbformat_minor": 0
}
