{
 "cells": [
  {
   "cell_type": "markdown",
   "source": [
    "Imports"
   ],
   "metadata": {
    "collapsed": false
   }
  },
  {
   "cell_type": "code",
   "execution_count": 68,
   "outputs": [],
   "source": [
    "import numpy as np\n",
    "import math\n",
    "import pandas as pd\n",
    "from matplotlib import pyplot as plt\n",
    "from sklearn.tree import DecisionTreeClassifier\n",
    "from sklearn.neighbors import KNeighborsClassifier\n",
    "from sklearn.preprocessing import MinMaxScaler\n",
    "from xgboost import XGBClassifier\n",
    "from collections import Counter\n",
    "import seaborn as sns\n",
    "from imblearn.combine import SMOTETomek\n",
    "from sklearn.metrics import accuracy_score, mean_squared_error"
   ],
   "metadata": {
    "collapsed": false
   }
  },
  {
   "cell_type": "markdown",
   "source": [
    "Data import"
   ],
   "metadata": {
    "collapsed": false
   }
  },
  {
   "cell_type": "code",
   "execution_count": 69,
   "outputs": [
    {
     "name": "stdout",
     "output_type": "stream",
     "text": [
      "Index(['ID', 'INTERPRET', 'TITEL', 'processed_TITLE', 'TEXT', 'processed_TEXT',\n",
      "       'DATUM_VON', 'DATUM_BIS', 'JAHR', 'MONAT', 'DAUER',\n",
      "       'ANZ_UNIQUE_WOERTER', 'MAX_WORT_WDH', 'WORT_MAX_WDH',\n",
      "       'LEN_LAENGSTES_WORT', 'ANZ_TITLE_WDH', 'PCT_STOPWORD', 'PCT_WORT_WDH',\n",
      "       'PCT_TITLE_WDH', 'LEN_TITLE', 'LEN_TEXT', 'IS_SEASONAL',\n",
      "       'IS_MULTILINGUAL', 'PCT_GERMAN', 'POSITION', 'RANK_SCORE',\n",
      "       'MAX_RANK_SCORE', 'MEAN_RANK_SCORE'],\n",
      "      dtype='object')\n"
     ]
    }
   ],
   "source": [
    "df = pd.read_csv('data/processed/EDA.csv', usecols=['ID', 'INTERPRET', 'TITEL', 'processed_TITLE', 'TEXT', 'processed_TEXT','DATUM_VON', 'DATUM_BIS', 'JAHR', 'MONAT', 'DAUER','ANZ_UNIQUE_WOERTER', 'MAX_WORT_WDH', 'WORT_MAX_WDH','LEN_LAENGSTES_WORT', 'ANZ_TITLE_WDH','PCT_STOPWORD', 'PCT_WORT_WDH','PCT_TITLE_WDH','LEN_TITLE','LEN_TEXT','IS_SEASONAL', 'IS_MULTILINGUAL','PCT_GERMAN', 'POSITION', 'RANK_SCORE', 'MAX_RANK_SCORE','MEAN_RANK_SCORE'])\n",
    "print(df.columns)"
   ],
   "metadata": {
    "collapsed": false
   }
  },
  {
   "cell_type": "code",
   "execution_count": 70,
   "outputs": [
    {
     "name": "stdout",
     "output_type": "stream",
     "text": [
      "(22762, 28)\n"
     ]
    }
   ],
   "source": [
    "print(np.shape(df))"
   ],
   "metadata": {
    "collapsed": false
   }
  },
  {
   "cell_type": "code",
   "execution_count": 71,
   "outputs": [],
   "source": [
    "#SMOTETOMEK\n",
    "def smote_resample(X,y):\n",
    "    smt = SMOTETomek(random_state=42)\n",
    "    X_res, y_res = smt.fit_resample(X, y)\n",
    "    return X_res,y_res"
   ],
   "metadata": {
    "collapsed": false
   }
  },
  {
   "cell_type": "code",
   "execution_count": 72,
   "outputs": [],
   "source": [
    "def determine_top10():\n",
    "    for index, row in df.iterrows():\n",
    "        if np.isnan(row['TOP10']) or row['TOP10'] == False:\n",
    "            df.loc[(df['ID'] == row['ID']), 'TOP10'] = row['POSITION']<=10"
   ],
   "metadata": {
    "collapsed": false
   }
  },
  {
   "cell_type": "code",
   "execution_count": 79,
   "outputs": [],
   "source": [
    "def cluster_rank_score():\n",
    "    for index, row in df.iterrows():\n",
    "        if np.isnan(row['10er']):\n",
    "            df.loc[(df['ID'] == row['ID']), '10er'] = math.trunc((row['MAX_RANK_SCORE']-1)/10)"
   ],
   "metadata": {
    "collapsed": false
   }
  },
  {
   "cell_type": "code",
   "execution_count": 74,
   "outputs": [],
   "source": [
    "def sum_RANK_SCORE():\n",
    "    for index, row in df.iterrows():\n",
    "        if np.isnan(row['SUMMED_RANK_SCORE']):\n",
    "            df.loc[(df['ID'] == row['ID']), 'SUMMED_RANK_SCORE'] = sum(df.loc[(df['ID'] == row['ID']), 'RANK_SCORE'])"
   ],
   "metadata": {
    "collapsed": false
   }
  },
  {
   "cell_type": "code",
   "execution_count": 75,
   "outputs": [],
   "source": [
    "from sklearn.metrics import confusion_matrix, classification_report\n",
    "def model_score(y_pred, y_test, labels, name):\n",
    "    print('----------')\n",
    "    print('Modell: ' +  name)\n",
    "    print('Confusion matrix')\n",
    "    cm = confusion_matrix(y_true=y_test,y_pred=y_pred, labels=labels)\n",
    "    print(cm)\n",
    "    report = classification_report(y_true=y_test, y_pred=y_pred, labels=labels)\n",
    "    print(report)\n"
   ],
   "metadata": {
    "collapsed": false
   }
  },
  {
   "cell_type": "code",
   "execution_count": 76,
   "outputs": [],
   "source": [
    "from sklearn import tree\n",
    "def plot_tree(classifier, class_names, feature_names):\n",
    "    fig = plt.figure(figsize=(25,20))\n",
    "    _ = tree.plot_tree(classifier,\n",
    "                       feature_names=feature_names,\n",
    "                       class_names=class_names,\n",
    "                       filled=True)"
   ],
   "metadata": {
    "collapsed": false
   }
  },
  {
   "cell_type": "code",
   "execution_count": 80,
   "outputs": [
    {
     "name": "stdout",
     "output_type": "stream",
     "text": [
      "    ID       INTERPRET   TITEL processed_TITLE  \\\n",
      "0  408     Rumpelstilz  Kiosk        ['KIOSK']   \n",
      "1  408     Rumpelstilz  Kiosk        ['KIOSK']   \n",
      "2  425  Costa Cordalis  Anita        ['ANITA']   \n",
      "3  425  Costa Cordalis  Anita        ['ANITA']   \n",
      "4  425  Costa Cordalis  Anita        ['ANITA']   \n",
      "\n",
      "                                                TEXT  \\\n",
      "0  ALSO ER SAMMLE FUER EINEN GUTEN ZWECK  SAGT DE...   \n",
      "1  ALSO ER SAMMLE FUER EINEN GUTEN ZWECK  SAGT DE...   \n",
      "2  JVUIOUGIVTOH ICH FAND SIE IRGENDWO  ALLEIN IN ...   \n",
      "3  JVUIOUGIVTOH ICH FAND SIE IRGENDWO  ALLEIN IN ...   \n",
      "4  JVUIOUGIVTOH ICH FAND SIE IRGENDWO  ALLEIN IN ...   \n",
      "\n",
      "                                      processed_TEXT   DATUM_VON   DATUM_BIS  \\\n",
      "0  ['ALSO', 'SAMML', 'FUER', 'GUT', 'ZWECK', 'SAG...  2009-03-06  2009-03-12   \n",
      "1  ['ALSO', 'SAMML', 'FUER', 'GUT', 'ZWECK', 'SAG...  1984-10-22  1984-10-28   \n",
      "2  ['JVUIOUGIVTOH', 'FAND', 'IRGENDWO', 'ALLEIN',...  2003-08-25  2003-08-31   \n",
      "3  ['JVUIOUGIVTOH', 'FAND', 'IRGENDWO', 'ALLEIN',...  2003-07-28  2003-08-03   \n",
      "4  ['JVUIOUGIVTOH', 'FAND', 'IRGENDWO', 'ALLEIN',...  2003-07-28  2003-08-03   \n",
      "\n",
      "   JAHR  MONAT  ...  IS_SEASONAL  IS_MULTILINGUAL  PCT_GERMAN POSITION  \\\n",
      "0  2009      3  ...        False            False         NaN       50   \n",
      "1  1984     10  ...        False            False         NaN        4   \n",
      "2  2003      8  ...        False            False         NaN       23   \n",
      "3  2003      8  ...        False            False         NaN       39   \n",
      "4  2003      8  ...        False            False         NaN       27   \n",
      "\n",
      "   RANK_SCORE  MAX_RANK_SCORE  MEAN_RANK_SCORE  SUMMED_RANK_SCORE  TOP10  10er  \n",
      "0           1              47               24               48.0   True   4.0  \n",
      "1          47              47               24               48.0   True   4.0  \n",
      "2          28              49               27              561.0  False   4.0  \n",
      "3          12              49               27              561.0  False   4.0  \n",
      "4          24              49               27              561.0  False   4.0  \n",
      "\n",
      "[5 rows x 31 columns]\n"
     ]
    }
   ],
   "source": [
    "df['SUMMED_RANK_SCORE'] = np.NaN\n",
    "sum_RANK_SCORE()\n",
    "df['TOP10'] = [False for _ in range(0, 22762)]\n",
    "determine_top10()\n",
    "df['10er'] = np.nan\n",
    "cluster_rank_score()\n",
    "print(df.head())"
   ],
   "metadata": {
    "collapsed": false
   }
  },
  {
   "cell_type": "markdown",
   "source": [
    "Train-Test Split & resample"
   ],
   "metadata": {
    "collapsed": false
   }
  },
  {
   "cell_type": "code",
   "execution_count": null,
   "outputs": [],
   "source": [
    "#df = df.groupby(['ID']).first()\n",
    "#print(len(df))"
   ],
   "metadata": {
    "collapsed": false
   }
  },
  {
   "cell_type": "code",
   "execution_count": 81,
   "outputs": [
    {
     "name": "stdout",
     "output_type": "stream",
     "text": [
      "(22056, 9)\n",
      "(706, 9)\n",
      "(87875, 9)\n",
      "(87875,)\n"
     ]
    }
   ],
   "source": [
    "df_test = df.loc[df['JAHR'] == 2022]\n",
    "df_train = df.loc[df['JAHR'] < 2022]\n",
    "\n",
    "#X_train = df_train[['ANZ_UNIQUE_WOERTER', 'MAX_WORT_WDH', 'LEN_LAENGSTES_WORT', 'ANZ_TITLE_WDH','LEN_TITLE','LEN_TEXT']]\n",
    "X_train = df_train[['ANZ_UNIQUE_WOERTER', 'MAX_WORT_WDH','LEN_LAENGSTES_WORT', 'ANZ_TITLE_WDH','PCT_STOPWORD', 'PCT_WORT_WDH','PCT_TITLE_WDH','LEN_TITLE','LEN_TEXT']]\n",
    "y_train = df_train['10er']\n",
    "\n",
    "#X_test = df_test[['ANZ_UNIQUE_WOERTER', 'MAX_WORT_WDH', 'LEN_LAENGSTES_WORT', 'ANZ_TITLE_WDH','LEN_TITLE','LEN_TEXT']]\n",
    "X_test = df_test[['ANZ_UNIQUE_WOERTER', 'MAX_WORT_WDH','LEN_LAENGSTES_WORT', 'ANZ_TITLE_WDH','PCT_STOPWORD', 'PCT_WORT_WDH','PCT_TITLE_WDH','LEN_TITLE','LEN_TEXT']]\n",
    "y_test = df_test['10er']\n",
    "print(np.shape(X_train))\n",
    "print(np.shape(X_test))\n",
    "\n",
    "#resample\n",
    "X_train, y_train = smote_resample(X_train,y_train)\n",
    "print(np.shape(X_train))\n",
    "print(np.shape(y_train))"
   ],
   "metadata": {
    "collapsed": false
   }
  },
  {
   "cell_type": "markdown",
   "source": [
    "Cross Validation"
   ],
   "metadata": {
    "collapsed": false
   }
  },
  {
   "cell_type": "code",
   "execution_count": null,
   "outputs": [],
   "source": [],
   "metadata": {
    "collapsed": false
   }
  },
  {
   "cell_type": "markdown",
   "source": [
    "Hyperparameter tuning"
   ],
   "metadata": {
    "collapsed": false
   }
  },
  {
   "cell_type": "code",
   "execution_count": 82,
   "outputs": [],
   "source": [
    "from sklearn.model_selection import GridSearchCV\n",
    "\n",
    "def tune_tree(params, classifier, scoring, X, y):\n",
    "    grid_search = GridSearchCV(estimator=classifier,param_grid=params,cv=4, n_jobs=-1, verbose=1, scoring = scoring)\n",
    "    grid_search.fit(X,y)\n",
    "    score_df = pd.DataFrame(grid_search.cv_results_)\n",
    "    score_df.nlargest(4,\"mean_test_score\")\n",
    "    return grid_search.best_estimator_, score_df"
   ],
   "metadata": {
    "collapsed": false
   }
  },
  {
   "cell_type": "markdown",
   "source": [
    "Modelling"
   ],
   "metadata": {
    "collapsed": false
   }
  },
  {
   "cell_type": "markdown",
   "source": [
    "DecisionTreeClassifier"
   ],
   "metadata": {
    "collapsed": false
   }
  },
  {
   "cell_type": "code",
   "execution_count": 83,
   "outputs": [
    {
     "name": "stdout",
     "output_type": "stream",
     "text": [
      "----------\n",
      "Modell: DecisionTree Classifier\n",
      "Confusion matrix\n",
      "[[  4   9   1   6   7]\n",
      " [  4   1   4  10  15]\n",
      " [ 20  10  18  11   9]\n",
      " [ 12  13   4  15  13]\n",
      " [ 54  33  53 120 260]]\n",
      "              precision    recall  f1-score   support\n",
      "\n",
      "         0.0       0.04      0.15      0.07        27\n",
      "         1.0       0.02      0.03      0.02        34\n",
      "         2.0       0.23      0.26      0.24        68\n",
      "         3.0       0.09      0.26      0.14        57\n",
      "         4.0       0.86      0.50      0.63       520\n",
      "\n",
      "    accuracy                           0.42       706\n",
      "   macro avg       0.25      0.24      0.22       706\n",
      "weighted avg       0.66      0.42      0.50       706\n",
      "\n",
      "Counter({4.0: 520, 2.0: 68, 3.0: 57, 1.0: 34, 0.0: 27})\n",
      "Counter({4.0: 304, 3.0: 162, 0.0: 94, 2.0: 80, 1.0: 66})\n",
      "Fitting 4 folds for each of 50 candidates, totalling 200 fits\n",
      "    mean_fit_time  std_fit_time  mean_score_time  std_score_time  \\\n",
      "0        0.228931      0.037865         0.017417        0.008123   \n",
      "1        0.190747      0.024020         0.009407        0.000761   \n",
      "2        0.192611      0.016416         0.012580        0.002894   \n",
      "3        0.214187      0.021151         0.012572        0.004826   \n",
      "4        0.193983      0.009161         0.012061        0.002520   \n",
      "5        0.255641      0.023355         0.013607        0.000341   \n",
      "6        0.261155      0.027937         0.013829        0.003099   \n",
      "7        0.290758      0.018628         0.013713        0.000871   \n",
      "8        0.311929      0.024247         0.017487        0.004867   \n",
      "9        0.307274      0.013284         0.011501        0.001791   \n",
      "10       0.432164      0.017398         0.020325        0.009438   \n",
      "11       0.446414      0.011186         0.020624        0.011532   \n",
      "12       0.408929      0.035127         0.014367        0.001502   \n",
      "13       0.455724      0.013930         0.021345        0.010851   \n",
      "14       0.475176      0.031646         0.017532        0.008619   \n",
      "15       0.779669      0.048803         0.020131        0.010409   \n",
      "16       0.758532      0.054845         0.012903        0.000727   \n",
      "17       0.690430      0.053753         0.023511        0.008571   \n",
      "18       0.783766      0.079099         0.017393        0.001116   \n",
      "19       0.779341      0.100868         0.022110        0.007315   \n",
      "20       1.114586      0.154663         0.022396        0.004141   \n",
      "21       1.040264      0.089646         0.024432        0.004727   \n",
      "22       1.041282      0.092211         0.026949        0.006627   \n",
      "23       0.945296      0.103680         0.015219        0.002425   \n",
      "24       0.897290      0.108164         0.016520        0.002182   \n",
      "25       0.256980      0.036451         0.026959        0.022366   \n",
      "26       0.336770      0.042596         0.015785        0.006729   \n",
      "27       0.301296      0.021044         0.014333        0.002152   \n",
      "28       0.334077      0.027413         0.016154        0.002567   \n",
      "29       0.316369      0.036411         0.011959        0.000662   \n",
      "30       0.393592      0.020331         0.027669        0.010767   \n",
      "31       0.408286      0.036662         0.014360        0.003346   \n",
      "32       0.412202      0.016316         0.014402        0.003823   \n",
      "33       0.426194      0.007745         0.011558        0.001261   \n",
      "34       0.352910      0.010448         0.013487        0.001999   \n",
      "35       0.673863      0.032291         0.018317        0.003019   \n",
      "36       0.708137      0.046451         0.028083        0.014023   \n",
      "37       0.696519      0.032636         0.012415        0.001524   \n",
      "38       0.590140      0.037338         0.013135        0.002479   \n",
      "39       0.553199      0.010367         0.013460        0.001881   \n",
      "40       0.889624      0.013892         0.015161        0.003635   \n",
      "41       1.080528      0.024826         0.014752        0.001897   \n",
      "42       0.922105      0.051116         0.012457        0.000664   \n",
      "43       0.839204      0.022193         0.013204        0.001751   \n",
      "44       0.867547      0.028984         0.012570        0.000782   \n",
      "45       1.518252      0.046821         0.017548        0.004805   \n",
      "46       1.329979      0.046818         0.019530        0.004293   \n",
      "47       1.657945      0.075708         0.028248        0.017551   \n",
      "48       1.480366      0.073452         0.025974        0.016695   \n",
      "49       1.408770      0.077917         0.014745        0.003255   \n",
      "\n",
      "   param_criterion param_max_depth param_min_samples_leaf  \\\n",
      "0             gini               2                      5   \n",
      "1             gini               2                     10   \n",
      "2             gini               2                     20   \n",
      "3             gini               2                     50   \n",
      "4             gini               2                    100   \n",
      "5             gini               3                      5   \n",
      "6             gini               3                     10   \n",
      "7             gini               3                     20   \n",
      "8             gini               3                     50   \n",
      "9             gini               3                    100   \n",
      "10            gini               5                      5   \n",
      "11            gini               5                     10   \n",
      "12            gini               5                     20   \n",
      "13            gini               5                     50   \n",
      "14            gini               5                    100   \n",
      "15            gini              10                      5   \n",
      "16            gini              10                     10   \n",
      "17            gini              10                     20   \n",
      "18            gini              10                     50   \n",
      "19            gini              10                    100   \n",
      "20            gini              20                      5   \n",
      "21            gini              20                     10   \n",
      "22            gini              20                     20   \n",
      "23            gini              20                     50   \n",
      "24            gini              20                    100   \n",
      "25         entropy               2                      5   \n",
      "26         entropy               2                     10   \n",
      "27         entropy               2                     20   \n",
      "28         entropy               2                     50   \n",
      "29         entropy               2                    100   \n",
      "30         entropy               3                      5   \n",
      "31         entropy               3                     10   \n",
      "32         entropy               3                     20   \n",
      "33         entropy               3                     50   \n",
      "34         entropy               3                    100   \n",
      "35         entropy               5                      5   \n",
      "36         entropy               5                     10   \n",
      "37         entropy               5                     20   \n",
      "38         entropy               5                     50   \n",
      "39         entropy               5                    100   \n",
      "40         entropy              10                      5   \n",
      "41         entropy              10                     10   \n",
      "42         entropy              10                     20   \n",
      "43         entropy              10                     50   \n",
      "44         entropy              10                    100   \n",
      "45         entropy              20                      5   \n",
      "46         entropy              20                     10   \n",
      "47         entropy              20                     20   \n",
      "48         entropy              20                     50   \n",
      "49         entropy              20                    100   \n",
      "\n",
      "                                               params  split0_test_score  \\\n",
      "0   {'criterion': 'gini', 'max_depth': 2, 'min_sam...           0.288680   \n",
      "1   {'criterion': 'gini', 'max_depth': 2, 'min_sam...           0.288680   \n",
      "2   {'criterion': 'gini', 'max_depth': 2, 'min_sam...           0.288680   \n",
      "3   {'criterion': 'gini', 'max_depth': 2, 'min_sam...           0.288680   \n",
      "4   {'criterion': 'gini', 'max_depth': 2, 'min_sam...           0.288680   \n",
      "5   {'criterion': 'gini', 'max_depth': 3, 'min_sam...           0.314898   \n",
      "6   {'criterion': 'gini', 'max_depth': 3, 'min_sam...           0.314898   \n",
      "7   {'criterion': 'gini', 'max_depth': 3, 'min_sam...           0.314898   \n",
      "8   {'criterion': 'gini', 'max_depth': 3, 'min_sam...           0.314898   \n",
      "9   {'criterion': 'gini', 'max_depth': 3, 'min_sam...           0.314898   \n",
      "10  {'criterion': 'gini', 'max_depth': 5, 'min_sam...           0.359689   \n",
      "11  {'criterion': 'gini', 'max_depth': 5, 'min_sam...           0.359689   \n",
      "12  {'criterion': 'gini', 'max_depth': 5, 'min_sam...           0.359689   \n",
      "13  {'criterion': 'gini', 'max_depth': 5, 'min_sam...           0.359461   \n",
      "14  {'criterion': 'gini', 'max_depth': 5, 'min_sam...           0.358505   \n",
      "15  {'criterion': 'gini', 'max_depth': 10, 'min_sa...           0.550184   \n",
      "16  {'criterion': 'gini', 'max_depth': 10, 'min_sa...           0.548182   \n",
      "17  {'criterion': 'gini', 'max_depth': 10, 'min_sa...           0.544813   \n",
      "18  {'criterion': 'gini', 'max_depth': 10, 'min_sa...           0.525104   \n",
      "19  {'criterion': 'gini', 'max_depth': 10, 'min_sa...           0.507852   \n",
      "20  {'criterion': 'gini', 'max_depth': 20, 'min_sa...           0.784105   \n",
      "21  {'criterion': 'gini', 'max_depth': 20, 'min_sa...           0.768128   \n",
      "22  {'criterion': 'gini', 'max_depth': 20, 'min_sa...           0.749647   \n",
      "23  {'criterion': 'gini', 'max_depth': 20, 'min_sa...           0.683372   \n",
      "24  {'criterion': 'gini', 'max_depth': 20, 'min_sa...           0.625654   \n",
      "25  {'criterion': 'entropy', 'max_depth': 2, 'min_...           0.288680   \n",
      "26  {'criterion': 'entropy', 'max_depth': 2, 'min_...           0.288680   \n",
      "27  {'criterion': 'entropy', 'max_depth': 2, 'min_...           0.288680   \n",
      "28  {'criterion': 'entropy', 'max_depth': 2, 'min_...           0.288680   \n",
      "29  {'criterion': 'entropy', 'max_depth': 2, 'min_...           0.288680   \n",
      "30  {'criterion': 'entropy', 'max_depth': 3, 'min_...           0.305749   \n",
      "31  {'criterion': 'entropy', 'max_depth': 3, 'min_...           0.305749   \n",
      "32  {'criterion': 'entropy', 'max_depth': 3, 'min_...           0.305749   \n",
      "33  {'criterion': 'entropy', 'max_depth': 3, 'min_...           0.305749   \n",
      "34  {'criterion': 'entropy', 'max_depth': 3, 'min_...           0.305749   \n",
      "35  {'criterion': 'entropy', 'max_depth': 5, 'min_...           0.352224   \n",
      "36  {'criterion': 'entropy', 'max_depth': 5, 'min_...           0.352224   \n",
      "37  {'criterion': 'entropy', 'max_depth': 5, 'min_...           0.352224   \n",
      "38  {'criterion': 'entropy', 'max_depth': 5, 'min_...           0.351950   \n",
      "39  {'criterion': 'entropy', 'max_depth': 5, 'min_...           0.351404   \n",
      "40  {'criterion': 'entropy', 'max_depth': 10, 'min...           0.551368   \n",
      "41  {'criterion': 'entropy', 'max_depth': 10, 'min...           0.547135   \n",
      "42  {'criterion': 'entropy', 'max_depth': 10, 'min...           0.542765   \n",
      "43  {'criterion': 'entropy', 'max_depth': 10, 'min...           0.537348   \n",
      "44  {'criterion': 'entropy', 'max_depth': 10, 'min...           0.512950   \n",
      "45  {'criterion': 'entropy', 'max_depth': 20, 'min...           0.811416   \n",
      "46  {'criterion': 'entropy', 'max_depth': 20, 'min...           0.794438   \n",
      "47  {'criterion': 'entropy', 'max_depth': 20, 'min...           0.767582   \n",
      "48  {'criterion': 'entropy', 'max_depth': 20, 'min...           0.714097   \n",
      "49  {'criterion': 'entropy', 'max_depth': 20, 'min...           0.630252   \n",
      "\n",
      "    split1_test_score  split2_test_score  split3_test_score  mean_test_score  \\\n",
      "0            0.280714           0.282717           0.200701         0.263203   \n",
      "1            0.280714           0.282717           0.200701         0.263203   \n",
      "2            0.280714           0.282717           0.200701         0.263203   \n",
      "3            0.280714           0.282717           0.200701         0.263203   \n",
      "4            0.280714           0.282717           0.200701         0.263203   \n",
      "5            0.275752           0.302517           0.231564         0.281183   \n",
      "6            0.275752           0.302517           0.231564         0.281183   \n",
      "7            0.275752           0.302517           0.231564         0.281183   \n",
      "8            0.275752           0.302517           0.231564         0.281183   \n",
      "9            0.275752           0.302517           0.231564         0.281183   \n",
      "10           0.334653           0.355865           0.300391         0.337650   \n",
      "11           0.334653           0.355865           0.300391         0.337650   \n",
      "12           0.334653           0.355911           0.300300         0.337638   \n",
      "13           0.334653           0.355455           0.300118         0.337422   \n",
      "14           0.330739           0.354135           0.299299         0.335670   \n",
      "15           0.504848           0.536711           0.485661         0.519351   \n",
      "16           0.498475           0.535527           0.482839         0.516256   \n",
      "17           0.499886           0.531749           0.483886         0.515084   \n",
      "18           0.482953           0.522327           0.476466         0.501712   \n",
      "19           0.470390           0.514407           0.456027         0.487169   \n",
      "20           0.785152           0.798216           0.775218         0.785673   \n",
      "21           0.760071           0.779872           0.755235         0.765826   \n",
      "22           0.732760           0.751741           0.725237         0.739846   \n",
      "23           0.677409           0.695389           0.665741         0.680478   \n",
      "24           0.623697           0.637990           0.611936         0.624819   \n",
      "25           0.278574           0.282717           0.200701         0.262668   \n",
      "26           0.278574           0.282717           0.200701         0.262668   \n",
      "27           0.278574           0.282717           0.200701         0.262668   \n",
      "28           0.278574           0.282717           0.200701         0.262668   \n",
      "29           0.278574           0.282717           0.200701         0.262668   \n",
      "30           0.278620           0.301015           0.224599         0.277496   \n",
      "31           0.278620           0.301015           0.224599         0.277496   \n",
      "32           0.278620           0.301015           0.224599         0.277496   \n",
      "33           0.278620           0.301015           0.224599         0.277496   \n",
      "34           0.278620           0.301015           0.224599         0.277496   \n",
      "35           0.319632           0.340980           0.276948         0.322446   \n",
      "36           0.319632           0.340980           0.276903         0.322435   \n",
      "37           0.319587           0.340980           0.276948         0.322435   \n",
      "38           0.319587           0.340980           0.276948         0.322366   \n",
      "39           0.319587           0.341254           0.276903         0.322287   \n",
      "40           0.536119           0.527061           0.497952         0.528125   \n",
      "41           0.533433           0.528791           0.497587         0.526737   \n",
      "42           0.528381           0.518913           0.498134         0.522048   \n",
      "43           0.517411           0.518822           0.488256         0.515459   \n",
      "44           0.487687           0.499977           0.467134         0.491937   \n",
      "45           0.799445           0.788657           0.780818         0.795084   \n",
      "46           0.780190           0.778370           0.762655         0.778913   \n",
      "47           0.753972           0.743002           0.746540         0.752774   \n",
      "48           0.697801           0.691656           0.673434         0.694247   \n",
      "49           0.625745           0.625381           0.614121         0.623875   \n",
      "\n",
      "    std_test_score  rank_test_score  \n",
      "0         0.036204               41  \n",
      "1         0.036204               41  \n",
      "2         0.036204               41  \n",
      "3         0.036204               41  \n",
      "4         0.036204               41  \n",
      "5         0.031951               31  \n",
      "6         0.031951               31  \n",
      "7         0.031951               31  \n",
      "8         0.031951               31  \n",
      "9         0.031951               31  \n",
      "10        0.023530               21  \n",
      "11        0.023530               21  \n",
      "12        0.023575               23  \n",
      "13        0.023506               24  \n",
      "14        0.023503               25  \n",
      "15        0.025482               14  \n",
      "16        0.026568               15  \n",
      "17        0.024320               17  \n",
      "18        0.022144               18  \n",
      "19        0.024602               20  \n",
      "20        0.008206                2  \n",
      "21        0.009326                4  \n",
      "22        0.011194                6  \n",
      "23        0.010692                8  \n",
      "24        0.009239                9  \n",
      "25        0.035956               46  \n",
      "26        0.035956               46  \n",
      "27        0.035956               46  \n",
      "28        0.035956               46  \n",
      "29        0.035956               46  \n",
      "30        0.032213               36  \n",
      "31        0.032213               36  \n",
      "32        0.032213               36  \n",
      "33        0.032213               36  \n",
      "34        0.032213               36  \n",
      "35        0.028758               26  \n",
      "36        0.028776               28  \n",
      "37        0.028760               27  \n",
      "38        0.028689               29  \n",
      "39        0.028612               30  \n",
      "40        0.019466               11  \n",
      "41        0.018130               12  \n",
      "42        0.016210               13  \n",
      "43        0.017566               16  \n",
      "44        0.016878               19  \n",
      "45        0.011517                1  \n",
      "46        0.011261                3  \n",
      "47        0.009421                5  \n",
      "48        0.014548                7  \n",
      "49        0.005949               10  \n",
      "DecisionTreeClassifier(criterion='entropy', max_depth=20, min_samples_leaf=5)\n",
      "Error in callback <function flush_figures at 0x000001E6C7930180> (for post_execute):\n"
     ]
    },
    {
     "ename": "KeyboardInterrupt",
     "evalue": "",
     "output_type": "error",
     "traceback": [
      "\u001B[1;31m---------------------------------------------------------------------------\u001B[0m",
      "\u001B[1;31mKeyboardInterrupt\u001B[0m                         Traceback (most recent call last)",
      "File \u001B[1;32m~\\AppData\\Roaming\\JetBrains\\DataSpell2022.2\\projects\\workspace\\venv\\Lib\\site-packages\\matplotlib_inline\\backend_inline.py:126\u001B[0m, in \u001B[0;36mflush_figures\u001B[1;34m()\u001B[0m\n\u001B[0;32m    123\u001B[0m \u001B[38;5;28;01mif\u001B[39;00m InlineBackend\u001B[38;5;241m.\u001B[39minstance()\u001B[38;5;241m.\u001B[39mclose_figures:\n\u001B[0;32m    124\u001B[0m     \u001B[38;5;66;03m# ignore the tracking, just draw and close all figures\u001B[39;00m\n\u001B[0;32m    125\u001B[0m     \u001B[38;5;28;01mtry\u001B[39;00m:\n\u001B[1;32m--> 126\u001B[0m         \u001B[38;5;28;01mreturn\u001B[39;00m \u001B[43mshow\u001B[49m\u001B[43m(\u001B[49m\u001B[38;5;28;43;01mTrue\u001B[39;49;00m\u001B[43m)\u001B[49m\n\u001B[0;32m    127\u001B[0m     \u001B[38;5;28;01mexcept\u001B[39;00m \u001B[38;5;167;01mException\u001B[39;00m \u001B[38;5;28;01mas\u001B[39;00m e:\n\u001B[0;32m    128\u001B[0m         \u001B[38;5;66;03m# safely show traceback if in IPython, else raise\u001B[39;00m\n\u001B[0;32m    129\u001B[0m         ip \u001B[38;5;241m=\u001B[39m get_ipython()\n",
      "File \u001B[1;32m~\\AppData\\Roaming\\JetBrains\\DataSpell2022.2\\projects\\workspace\\venv\\Lib\\site-packages\\matplotlib_inline\\backend_inline.py:90\u001B[0m, in \u001B[0;36mshow\u001B[1;34m(close, block)\u001B[0m\n\u001B[0;32m     88\u001B[0m \u001B[38;5;28;01mtry\u001B[39;00m:\n\u001B[0;32m     89\u001B[0m     \u001B[38;5;28;01mfor\u001B[39;00m figure_manager \u001B[38;5;129;01min\u001B[39;00m Gcf\u001B[38;5;241m.\u001B[39mget_all_fig_managers():\n\u001B[1;32m---> 90\u001B[0m         \u001B[43mdisplay\u001B[49m\u001B[43m(\u001B[49m\n\u001B[0;32m     91\u001B[0m \u001B[43m            \u001B[49m\u001B[43mfigure_manager\u001B[49m\u001B[38;5;241;43m.\u001B[39;49m\u001B[43mcanvas\u001B[49m\u001B[38;5;241;43m.\u001B[39;49m\u001B[43mfigure\u001B[49m\u001B[43m,\u001B[49m\n\u001B[0;32m     92\u001B[0m \u001B[43m            \u001B[49m\u001B[43mmetadata\u001B[49m\u001B[38;5;241;43m=\u001B[39;49m\u001B[43m_fetch_figure_metadata\u001B[49m\u001B[43m(\u001B[49m\u001B[43mfigure_manager\u001B[49m\u001B[38;5;241;43m.\u001B[39;49m\u001B[43mcanvas\u001B[49m\u001B[38;5;241;43m.\u001B[39;49m\u001B[43mfigure\u001B[49m\u001B[43m)\u001B[49m\n\u001B[0;32m     93\u001B[0m \u001B[43m        \u001B[49m\u001B[43m)\u001B[49m\n\u001B[0;32m     94\u001B[0m \u001B[38;5;28;01mfinally\u001B[39;00m:\n\u001B[0;32m     95\u001B[0m     show\u001B[38;5;241m.\u001B[39m_to_draw \u001B[38;5;241m=\u001B[39m []\n",
      "File \u001B[1;32m~\\AppData\\Roaming\\JetBrains\\DataSpell2022.2\\projects\\workspace\\venv\\Lib\\site-packages\\IPython\\core\\display_functions.py:298\u001B[0m, in \u001B[0;36mdisplay\u001B[1;34m(include, exclude, metadata, transient, display_id, raw, clear, *objs, **kwargs)\u001B[0m\n\u001B[0;32m    296\u001B[0m     publish_display_data(data\u001B[38;5;241m=\u001B[39mobj, metadata\u001B[38;5;241m=\u001B[39mmetadata, \u001B[38;5;241m*\u001B[39m\u001B[38;5;241m*\u001B[39mkwargs)\n\u001B[0;32m    297\u001B[0m \u001B[38;5;28;01melse\u001B[39;00m:\n\u001B[1;32m--> 298\u001B[0m     format_dict, md_dict \u001B[38;5;241m=\u001B[39m \u001B[38;5;28;43mformat\u001B[39;49m\u001B[43m(\u001B[49m\u001B[43mobj\u001B[49m\u001B[43m,\u001B[49m\u001B[43m \u001B[49m\u001B[43minclude\u001B[49m\u001B[38;5;241;43m=\u001B[39;49m\u001B[43minclude\u001B[49m\u001B[43m,\u001B[49m\u001B[43m \u001B[49m\u001B[43mexclude\u001B[49m\u001B[38;5;241;43m=\u001B[39;49m\u001B[43mexclude\u001B[49m\u001B[43m)\u001B[49m\n\u001B[0;32m    299\u001B[0m     \u001B[38;5;28;01mif\u001B[39;00m \u001B[38;5;129;01mnot\u001B[39;00m format_dict:\n\u001B[0;32m    300\u001B[0m         \u001B[38;5;66;03m# nothing to display (e.g. _ipython_display_ took over)\u001B[39;00m\n\u001B[0;32m    301\u001B[0m         \u001B[38;5;28;01mcontinue\u001B[39;00m\n",
      "File \u001B[1;32m~\\AppData\\Roaming\\JetBrains\\DataSpell2022.2\\projects\\workspace\\venv\\Lib\\site-packages\\IPython\\core\\formatters.py:177\u001B[0m, in \u001B[0;36mDisplayFormatter.format\u001B[1;34m(self, obj, include, exclude)\u001B[0m\n\u001B[0;32m    175\u001B[0m md \u001B[38;5;241m=\u001B[39m \u001B[38;5;28;01mNone\u001B[39;00m\n\u001B[0;32m    176\u001B[0m \u001B[38;5;28;01mtry\u001B[39;00m:\n\u001B[1;32m--> 177\u001B[0m     data \u001B[38;5;241m=\u001B[39m \u001B[43mformatter\u001B[49m\u001B[43m(\u001B[49m\u001B[43mobj\u001B[49m\u001B[43m)\u001B[49m\n\u001B[0;32m    178\u001B[0m \u001B[38;5;28;01mexcept\u001B[39;00m:\n\u001B[0;32m    179\u001B[0m     \u001B[38;5;66;03m# FIXME: log the exception\u001B[39;00m\n\u001B[0;32m    180\u001B[0m     \u001B[38;5;28;01mraise\u001B[39;00m\n",
      "File \u001B[1;32m~\\AppData\\Roaming\\JetBrains\\DataSpell2022.2\\projects\\workspace\\venv\\Lib\\site-packages\\decorator.py:232\u001B[0m, in \u001B[0;36mdecorate.<locals>.fun\u001B[1;34m(*args, **kw)\u001B[0m\n\u001B[0;32m    230\u001B[0m \u001B[38;5;28;01mif\u001B[39;00m \u001B[38;5;129;01mnot\u001B[39;00m kwsyntax:\n\u001B[0;32m    231\u001B[0m     args, kw \u001B[38;5;241m=\u001B[39m fix(args, kw, sig)\n\u001B[1;32m--> 232\u001B[0m \u001B[38;5;28;01mreturn\u001B[39;00m \u001B[43mcaller\u001B[49m\u001B[43m(\u001B[49m\u001B[43mfunc\u001B[49m\u001B[43m,\u001B[49m\u001B[43m \u001B[49m\u001B[38;5;241;43m*\u001B[39;49m\u001B[43m(\u001B[49m\u001B[43mextras\u001B[49m\u001B[43m \u001B[49m\u001B[38;5;241;43m+\u001B[39;49m\u001B[43m \u001B[49m\u001B[43margs\u001B[49m\u001B[43m)\u001B[49m\u001B[43m,\u001B[49m\u001B[43m \u001B[49m\u001B[38;5;241;43m*\u001B[39;49m\u001B[38;5;241;43m*\u001B[39;49m\u001B[43mkw\u001B[49m\u001B[43m)\u001B[49m\n",
      "File \u001B[1;32m~\\AppData\\Roaming\\JetBrains\\DataSpell2022.2\\projects\\workspace\\venv\\Lib\\site-packages\\IPython\\core\\formatters.py:221\u001B[0m, in \u001B[0;36mcatch_format_error\u001B[1;34m(method, self, *args, **kwargs)\u001B[0m\n\u001B[0;32m    219\u001B[0m \u001B[38;5;124;03m\"\"\"show traceback on failed format call\"\"\"\u001B[39;00m\n\u001B[0;32m    220\u001B[0m \u001B[38;5;28;01mtry\u001B[39;00m:\n\u001B[1;32m--> 221\u001B[0m     r \u001B[38;5;241m=\u001B[39m \u001B[43mmethod\u001B[49m\u001B[43m(\u001B[49m\u001B[38;5;28;43mself\u001B[39;49m\u001B[43m,\u001B[49m\u001B[43m \u001B[49m\u001B[38;5;241;43m*\u001B[39;49m\u001B[43margs\u001B[49m\u001B[43m,\u001B[49m\u001B[43m \u001B[49m\u001B[38;5;241;43m*\u001B[39;49m\u001B[38;5;241;43m*\u001B[39;49m\u001B[43mkwargs\u001B[49m\u001B[43m)\u001B[49m\n\u001B[0;32m    222\u001B[0m \u001B[38;5;28;01mexcept\u001B[39;00m \u001B[38;5;167;01mNotImplementedError\u001B[39;00m:\n\u001B[0;32m    223\u001B[0m     \u001B[38;5;66;03m# don't warn on NotImplementedErrors\u001B[39;00m\n\u001B[0;32m    224\u001B[0m     \u001B[38;5;28;01mreturn\u001B[39;00m \u001B[38;5;28mself\u001B[39m\u001B[38;5;241m.\u001B[39m_check_return(\u001B[38;5;28;01mNone\u001B[39;00m, args[\u001B[38;5;241m0\u001B[39m])\n",
      "File \u001B[1;32m~\\AppData\\Roaming\\JetBrains\\DataSpell2022.2\\projects\\workspace\\venv\\Lib\\site-packages\\IPython\\core\\formatters.py:338\u001B[0m, in \u001B[0;36mBaseFormatter.__call__\u001B[1;34m(self, obj)\u001B[0m\n\u001B[0;32m    336\u001B[0m     \u001B[38;5;28;01mpass\u001B[39;00m\n\u001B[0;32m    337\u001B[0m \u001B[38;5;28;01melse\u001B[39;00m:\n\u001B[1;32m--> 338\u001B[0m     \u001B[38;5;28;01mreturn\u001B[39;00m \u001B[43mprinter\u001B[49m\u001B[43m(\u001B[49m\u001B[43mobj\u001B[49m\u001B[43m)\u001B[49m\n\u001B[0;32m    339\u001B[0m \u001B[38;5;66;03m# Finally look for special method names\u001B[39;00m\n\u001B[0;32m    340\u001B[0m method \u001B[38;5;241m=\u001B[39m get_real_method(obj, \u001B[38;5;28mself\u001B[39m\u001B[38;5;241m.\u001B[39mprint_method)\n",
      "File \u001B[1;32m~\\AppData\\Roaming\\JetBrains\\DataSpell2022.2\\projects\\workspace\\venv\\Lib\\site-packages\\IPython\\core\\pylabtools.py:152\u001B[0m, in \u001B[0;36mprint_figure\u001B[1;34m(fig, fmt, bbox_inches, base64, **kwargs)\u001B[0m\n\u001B[0;32m    149\u001B[0m     \u001B[38;5;28;01mfrom\u001B[39;00m \u001B[38;5;21;01mmatplotlib\u001B[39;00m\u001B[38;5;21;01m.\u001B[39;00m\u001B[38;5;21;01mbackend_bases\u001B[39;00m \u001B[38;5;28;01mimport\u001B[39;00m FigureCanvasBase\n\u001B[0;32m    150\u001B[0m     FigureCanvasBase(fig)\n\u001B[1;32m--> 152\u001B[0m \u001B[43mfig\u001B[49m\u001B[38;5;241;43m.\u001B[39;49m\u001B[43mcanvas\u001B[49m\u001B[38;5;241;43m.\u001B[39;49m\u001B[43mprint_figure\u001B[49m\u001B[43m(\u001B[49m\u001B[43mbytes_io\u001B[49m\u001B[43m,\u001B[49m\u001B[43m \u001B[49m\u001B[38;5;241;43m*\u001B[39;49m\u001B[38;5;241;43m*\u001B[39;49m\u001B[43mkw\u001B[49m\u001B[43m)\u001B[49m\n\u001B[0;32m    153\u001B[0m data \u001B[38;5;241m=\u001B[39m bytes_io\u001B[38;5;241m.\u001B[39mgetvalue()\n\u001B[0;32m    154\u001B[0m \u001B[38;5;28;01mif\u001B[39;00m fmt \u001B[38;5;241m==\u001B[39m \u001B[38;5;124m'\u001B[39m\u001B[38;5;124msvg\u001B[39m\u001B[38;5;124m'\u001B[39m:\n",
      "File \u001B[1;32m~\\AppData\\Roaming\\JetBrains\\DataSpell2022.2\\projects\\workspace\\venv\\Lib\\site-packages\\matplotlib\\backend_bases.py:2318\u001B[0m, in \u001B[0;36mFigureCanvasBase.print_figure\u001B[1;34m(self, filename, dpi, facecolor, edgecolor, orientation, format, bbox_inches, pad_inches, bbox_extra_artists, backend, **kwargs)\u001B[0m\n\u001B[0;32m   2316\u001B[0m \u001B[38;5;28;01mif\u001B[39;00m bbox_inches:\n\u001B[0;32m   2317\u001B[0m     \u001B[38;5;28;01mif\u001B[39;00m bbox_inches \u001B[38;5;241m==\u001B[39m \u001B[38;5;124m\"\u001B[39m\u001B[38;5;124mtight\u001B[39m\u001B[38;5;124m\"\u001B[39m:\n\u001B[1;32m-> 2318\u001B[0m         bbox_inches \u001B[38;5;241m=\u001B[39m \u001B[38;5;28;43mself\u001B[39;49m\u001B[38;5;241;43m.\u001B[39;49m\u001B[43mfigure\u001B[49m\u001B[38;5;241;43m.\u001B[39;49m\u001B[43mget_tightbbox\u001B[49m\u001B[43m(\u001B[49m\n\u001B[0;32m   2319\u001B[0m \u001B[43m            \u001B[49m\u001B[43mrenderer\u001B[49m\u001B[43m,\u001B[49m\u001B[43m \u001B[49m\u001B[43mbbox_extra_artists\u001B[49m\u001B[38;5;241;43m=\u001B[39;49m\u001B[43mbbox_extra_artists\u001B[49m\u001B[43m)\u001B[49m\n\u001B[0;32m   2320\u001B[0m         \u001B[38;5;28;01mif\u001B[39;00m pad_inches \u001B[38;5;129;01mis\u001B[39;00m \u001B[38;5;28;01mNone\u001B[39;00m:\n\u001B[0;32m   2321\u001B[0m             pad_inches \u001B[38;5;241m=\u001B[39m rcParams[\u001B[38;5;124m'\u001B[39m\u001B[38;5;124msavefig.pad_inches\u001B[39m\u001B[38;5;124m'\u001B[39m]\n",
      "File \u001B[1;32m~\\AppData\\Roaming\\JetBrains\\DataSpell2022.2\\projects\\workspace\\venv\\Lib\\site-packages\\matplotlib\\figure.py:1743\u001B[0m, in \u001B[0;36mFigureBase.get_tightbbox\u001B[1;34m(self, renderer, bbox_extra_artists)\u001B[0m\n\u001B[0;32m   1739\u001B[0m \u001B[38;5;28;01mif\u001B[39;00m ax\u001B[38;5;241m.\u001B[39mget_visible():\n\u001B[0;32m   1740\u001B[0m     \u001B[38;5;66;03m# some axes don't take the bbox_extra_artists kwarg so we\u001B[39;00m\n\u001B[0;32m   1741\u001B[0m     \u001B[38;5;66;03m# need this conditional....\u001B[39;00m\n\u001B[0;32m   1742\u001B[0m     \u001B[38;5;28;01mtry\u001B[39;00m:\n\u001B[1;32m-> 1743\u001B[0m         bbox \u001B[38;5;241m=\u001B[39m \u001B[43max\u001B[49m\u001B[38;5;241;43m.\u001B[39;49m\u001B[43mget_tightbbox\u001B[49m\u001B[43m(\u001B[49m\n\u001B[0;32m   1744\u001B[0m \u001B[43m            \u001B[49m\u001B[43mrenderer\u001B[49m\u001B[43m,\u001B[49m\u001B[43m \u001B[49m\u001B[43mbbox_extra_artists\u001B[49m\u001B[38;5;241;43m=\u001B[39;49m\u001B[43mbbox_extra_artists\u001B[49m\u001B[43m)\u001B[49m\n\u001B[0;32m   1745\u001B[0m     \u001B[38;5;28;01mexcept\u001B[39;00m \u001B[38;5;167;01mTypeError\u001B[39;00m:\n\u001B[0;32m   1746\u001B[0m         bbox \u001B[38;5;241m=\u001B[39m ax\u001B[38;5;241m.\u001B[39mget_tightbbox(renderer)\n",
      "File \u001B[1;32m~\\AppData\\Roaming\\JetBrains\\DataSpell2022.2\\projects\\workspace\\venv\\Lib\\site-packages\\matplotlib\\axes\\_base.py:4451\u001B[0m, in \u001B[0;36m_AxesBase.get_tightbbox\u001B[1;34m(self, renderer, call_axes_locator, bbox_extra_artists, for_layout_only)\u001B[0m\n\u001B[0;32m   4448\u001B[0m     bbox_artists \u001B[38;5;241m=\u001B[39m \u001B[38;5;28mself\u001B[39m\u001B[38;5;241m.\u001B[39mget_default_bbox_extra_artists()\n\u001B[0;32m   4450\u001B[0m \u001B[38;5;28;01mfor\u001B[39;00m a \u001B[38;5;129;01min\u001B[39;00m bbox_artists:\n\u001B[1;32m-> 4451\u001B[0m     bbox \u001B[38;5;241m=\u001B[39m \u001B[43ma\u001B[49m\u001B[38;5;241;43m.\u001B[39;49m\u001B[43mget_tightbbox\u001B[49m\u001B[43m(\u001B[49m\u001B[43mrenderer\u001B[49m\u001B[43m)\u001B[49m\n\u001B[0;32m   4452\u001B[0m     \u001B[38;5;28;01mif\u001B[39;00m (bbox \u001B[38;5;129;01mis\u001B[39;00m \u001B[38;5;129;01mnot\u001B[39;00m \u001B[38;5;28;01mNone\u001B[39;00m\n\u001B[0;32m   4453\u001B[0m             \u001B[38;5;129;01mand\u001B[39;00m \u001B[38;5;241m0\u001B[39m \u001B[38;5;241m<\u001B[39m bbox\u001B[38;5;241m.\u001B[39mwidth \u001B[38;5;241m<\u001B[39m np\u001B[38;5;241m.\u001B[39minf\n\u001B[0;32m   4454\u001B[0m             \u001B[38;5;129;01mand\u001B[39;00m \u001B[38;5;241m0\u001B[39m \u001B[38;5;241m<\u001B[39m bbox\u001B[38;5;241m.\u001B[39mheight \u001B[38;5;241m<\u001B[39m np\u001B[38;5;241m.\u001B[39minf):\n\u001B[0;32m   4455\u001B[0m         bb\u001B[38;5;241m.\u001B[39mappend(bbox)\n",
      "File \u001B[1;32m~\\AppData\\Roaming\\JetBrains\\DataSpell2022.2\\projects\\workspace\\venv\\Lib\\site-packages\\matplotlib\\text.py:2023\u001B[0m, in \u001B[0;36mAnnotation.get_tightbbox\u001B[1;34m(self, renderer)\u001B[0m\n\u001B[0;32m   2021\u001B[0m \u001B[38;5;28;01mif\u001B[39;00m \u001B[38;5;129;01mnot\u001B[39;00m \u001B[38;5;28mself\u001B[39m\u001B[38;5;241m.\u001B[39m_check_xy(renderer):\n\u001B[0;32m   2022\u001B[0m     \u001B[38;5;28;01mreturn\u001B[39;00m Bbox\u001B[38;5;241m.\u001B[39mnull()\n\u001B[1;32m-> 2023\u001B[0m \u001B[38;5;28;01mreturn\u001B[39;00m \u001B[38;5;28;43msuper\u001B[39;49m\u001B[43m(\u001B[49m\u001B[43m)\u001B[49m\u001B[38;5;241;43m.\u001B[39;49m\u001B[43mget_tightbbox\u001B[49m\u001B[43m(\u001B[49m\u001B[43mrenderer\u001B[49m\u001B[43m)\u001B[49m\n",
      "File \u001B[1;32m~\\AppData\\Roaming\\JetBrains\\DataSpell2022.2\\projects\\workspace\\venv\\Lib\\site-packages\\matplotlib\\artist.py:337\u001B[0m, in \u001B[0;36mArtist.get_tightbbox\u001B[1;34m(self, renderer)\u001B[0m\n\u001B[0;32m    322\u001B[0m \u001B[38;5;28;01mdef\u001B[39;00m \u001B[38;5;21mget_tightbbox\u001B[39m(\u001B[38;5;28mself\u001B[39m, renderer\u001B[38;5;241m=\u001B[39m\u001B[38;5;28;01mNone\u001B[39;00m):\n\u001B[0;32m    323\u001B[0m     \u001B[38;5;124;03m\"\"\"\u001B[39;00m\n\u001B[0;32m    324\u001B[0m \u001B[38;5;124;03m    Like `.Artist.get_window_extent`, but includes any clipping.\u001B[39;00m\n\u001B[0;32m    325\u001B[0m \n\u001B[1;32m   (...)\u001B[0m\n\u001B[0;32m    335\u001B[0m \u001B[38;5;124;03m        The enclosing bounding box (in figure pixel coordinates).\u001B[39;00m\n\u001B[0;32m    336\u001B[0m \u001B[38;5;124;03m    \"\"\"\u001B[39;00m\n\u001B[1;32m--> 337\u001B[0m     bbox \u001B[38;5;241m=\u001B[39m \u001B[38;5;28;43mself\u001B[39;49m\u001B[38;5;241;43m.\u001B[39;49m\u001B[43mget_window_extent\u001B[49m\u001B[43m(\u001B[49m\u001B[43mrenderer\u001B[49m\u001B[43m)\u001B[49m\n\u001B[0;32m    338\u001B[0m     \u001B[38;5;28;01mif\u001B[39;00m \u001B[38;5;28mself\u001B[39m\u001B[38;5;241m.\u001B[39mget_clip_on():\n\u001B[0;32m    339\u001B[0m         clip_box \u001B[38;5;241m=\u001B[39m \u001B[38;5;28mself\u001B[39m\u001B[38;5;241m.\u001B[39mget_clip_box()\n",
      "File \u001B[1;32m~\\AppData\\Roaming\\JetBrains\\DataSpell2022.2\\projects\\workspace\\venv\\Lib\\site-packages\\matplotlib\\text.py:2009\u001B[0m, in \u001B[0;36mAnnotation.get_window_extent\u001B[1;34m(self, renderer)\u001B[0m\n\u001B[0;32m   2006\u001B[0m \u001B[38;5;28;01mif\u001B[39;00m \u001B[38;5;28mself\u001B[39m\u001B[38;5;241m.\u001B[39m_renderer \u001B[38;5;129;01mis\u001B[39;00m \u001B[38;5;28;01mNone\u001B[39;00m:\n\u001B[0;32m   2007\u001B[0m     \u001B[38;5;28;01mraise\u001B[39;00m \u001B[38;5;167;01mRuntimeError\u001B[39;00m(\u001B[38;5;124m'\u001B[39m\u001B[38;5;124mCannot get window extent w/o renderer\u001B[39m\u001B[38;5;124m'\u001B[39m)\n\u001B[1;32m-> 2009\u001B[0m \u001B[38;5;28;43mself\u001B[39;49m\u001B[38;5;241;43m.\u001B[39;49m\u001B[43mupdate_positions\u001B[49m\u001B[43m(\u001B[49m\u001B[38;5;28;43mself\u001B[39;49m\u001B[38;5;241;43m.\u001B[39;49m\u001B[43m_renderer\u001B[49m\u001B[43m)\u001B[49m\n\u001B[0;32m   2011\u001B[0m text_bbox \u001B[38;5;241m=\u001B[39m Text\u001B[38;5;241m.\u001B[39mget_window_extent(\u001B[38;5;28mself\u001B[39m)\n\u001B[0;32m   2012\u001B[0m bboxes \u001B[38;5;241m=\u001B[39m [text_bbox]\n",
      "File \u001B[1;32m~\\AppData\\Roaming\\JetBrains\\DataSpell2022.2\\projects\\workspace\\venv\\Lib\\site-packages\\matplotlib\\text.py:1919\u001B[0m, in \u001B[0;36mAnnotation.update_positions\u001B[1;34m(self, renderer)\u001B[0m\n\u001B[0;32m   1916\u001B[0m \u001B[38;5;28;01mif\u001B[39;00m arrowprops \u001B[38;5;129;01mis\u001B[39;00m \u001B[38;5;28;01mNone\u001B[39;00m:\n\u001B[0;32m   1917\u001B[0m     \u001B[38;5;28;01mreturn\u001B[39;00m\n\u001B[1;32m-> 1919\u001B[0m bbox \u001B[38;5;241m=\u001B[39m \u001B[43mText\u001B[49m\u001B[38;5;241;43m.\u001B[39;49m\u001B[43mget_window_extent\u001B[49m\u001B[43m(\u001B[49m\u001B[38;5;28;43mself\u001B[39;49m\u001B[43m,\u001B[49m\u001B[43m \u001B[49m\u001B[43mrenderer\u001B[49m\u001B[43m)\u001B[49m\n\u001B[0;32m   1921\u001B[0m arrow_end \u001B[38;5;241m=\u001B[39m x1, y1 \u001B[38;5;241m=\u001B[39m \u001B[38;5;28mself\u001B[39m\u001B[38;5;241m.\u001B[39m_get_position_xy(renderer)  \u001B[38;5;66;03m# Annotated pos.\u001B[39;00m\n\u001B[0;32m   1923\u001B[0m ms \u001B[38;5;241m=\u001B[39m arrowprops\u001B[38;5;241m.\u001B[39mget(\u001B[38;5;124m\"\u001B[39m\u001B[38;5;124mmutation_scale\u001B[39m\u001B[38;5;124m\"\u001B[39m, \u001B[38;5;28mself\u001B[39m\u001B[38;5;241m.\u001B[39mget_size())\n",
      "File \u001B[1;32m~\\AppData\\Roaming\\JetBrains\\DataSpell2022.2\\projects\\workspace\\venv\\Lib\\site-packages\\matplotlib\\text.py:915\u001B[0m, in \u001B[0;36mText.get_window_extent\u001B[1;34m(self, renderer, dpi)\u001B[0m\n\u001B[0;32m    910\u001B[0m     \u001B[38;5;28;01mraise\u001B[39;00m \u001B[38;5;167;01mRuntimeError\u001B[39;00m(\n\u001B[0;32m    911\u001B[0m         \u001B[38;5;124m\"\u001B[39m\u001B[38;5;124mCannot get window extent of text w/o renderer. You likely \u001B[39m\u001B[38;5;124m\"\u001B[39m\n\u001B[0;32m    912\u001B[0m         \u001B[38;5;124m\"\u001B[39m\u001B[38;5;124mwant to call \u001B[39m\u001B[38;5;124m'\u001B[39m\u001B[38;5;124mfigure.draw_without_rendering()\u001B[39m\u001B[38;5;124m'\u001B[39m\u001B[38;5;124m first.\u001B[39m\u001B[38;5;124m\"\u001B[39m)\n\u001B[0;32m    914\u001B[0m \u001B[38;5;28;01mwith\u001B[39;00m cbook\u001B[38;5;241m.\u001B[39m_setattr_cm(\u001B[38;5;28mself\u001B[39m\u001B[38;5;241m.\u001B[39mfigure, dpi\u001B[38;5;241m=\u001B[39mdpi):\n\u001B[1;32m--> 915\u001B[0m     bbox, info, descent \u001B[38;5;241m=\u001B[39m \u001B[38;5;28;43mself\u001B[39;49m\u001B[38;5;241;43m.\u001B[39;49m\u001B[43m_get_layout\u001B[49m\u001B[43m(\u001B[49m\u001B[38;5;28;43mself\u001B[39;49m\u001B[38;5;241;43m.\u001B[39;49m\u001B[43m_renderer\u001B[49m\u001B[43m)\u001B[49m\n\u001B[0;32m    916\u001B[0m     x, y \u001B[38;5;241m=\u001B[39m \u001B[38;5;28mself\u001B[39m\u001B[38;5;241m.\u001B[39mget_unitless_position()\n\u001B[0;32m    917\u001B[0m     x, y \u001B[38;5;241m=\u001B[39m \u001B[38;5;28mself\u001B[39m\u001B[38;5;241m.\u001B[39mget_transform()\u001B[38;5;241m.\u001B[39mtransform((x, y))\n",
      "File \u001B[1;32m~\\AppData\\Roaming\\JetBrains\\DataSpell2022.2\\projects\\workspace\\venv\\Lib\\site-packages\\matplotlib\\text.py:321\u001B[0m, in \u001B[0;36mText._get_layout\u001B[1;34m(self, renderer)\u001B[0m\n\u001B[0;32m    319\u001B[0m clean_line, ismath \u001B[38;5;241m=\u001B[39m \u001B[38;5;28mself\u001B[39m\u001B[38;5;241m.\u001B[39m_preprocess_math(line)\n\u001B[0;32m    320\u001B[0m \u001B[38;5;28;01mif\u001B[39;00m clean_line:\n\u001B[1;32m--> 321\u001B[0m     w, h, d \u001B[38;5;241m=\u001B[39m \u001B[43m_get_text_metrics_with_cache\u001B[49m\u001B[43m(\u001B[49m\n\u001B[0;32m    322\u001B[0m \u001B[43m        \u001B[49m\u001B[43mrenderer\u001B[49m\u001B[43m,\u001B[49m\u001B[43m \u001B[49m\u001B[43mclean_line\u001B[49m\u001B[43m,\u001B[49m\u001B[43m \u001B[49m\u001B[38;5;28;43mself\u001B[39;49m\u001B[38;5;241;43m.\u001B[39;49m\u001B[43m_fontproperties\u001B[49m\u001B[43m,\u001B[49m\n\u001B[0;32m    323\u001B[0m \u001B[43m        \u001B[49m\u001B[43mismath\u001B[49m\u001B[38;5;241;43m=\u001B[39;49m\u001B[43mismath\u001B[49m\u001B[43m,\u001B[49m\u001B[43m \u001B[49m\u001B[43mdpi\u001B[49m\u001B[38;5;241;43m=\u001B[39;49m\u001B[38;5;28;43mself\u001B[39;49m\u001B[38;5;241;43m.\u001B[39;49m\u001B[43mfigure\u001B[49m\u001B[38;5;241;43m.\u001B[39;49m\u001B[43mdpi\u001B[49m\u001B[43m)\u001B[49m\n\u001B[0;32m    324\u001B[0m \u001B[38;5;28;01melse\u001B[39;00m:\n\u001B[0;32m    325\u001B[0m     w \u001B[38;5;241m=\u001B[39m h \u001B[38;5;241m=\u001B[39m d \u001B[38;5;241m=\u001B[39m \u001B[38;5;241m0\u001B[39m\n",
      "File \u001B[1;32m~\\AppData\\Roaming\\JetBrains\\DataSpell2022.2\\projects\\workspace\\venv\\Lib\\site-packages\\matplotlib\\text.py:97\u001B[0m, in \u001B[0;36m_get_text_metrics_with_cache\u001B[1;34m(renderer, text, fontprop, ismath, dpi)\u001B[0m\n\u001B[0;32m     94\u001B[0m \u001B[38;5;124;03m\"\"\"Call ``renderer.get_text_width_height_descent``, caching the results.\"\"\"\u001B[39;00m\n\u001B[0;32m     95\u001B[0m \u001B[38;5;66;03m# Cached based on a copy of fontprop so that later in-place mutations of\u001B[39;00m\n\u001B[0;32m     96\u001B[0m \u001B[38;5;66;03m# the passed-in argument do not mess up the cache.\u001B[39;00m\n\u001B[1;32m---> 97\u001B[0m \u001B[38;5;28;01mreturn\u001B[39;00m \u001B[43m_get_text_metrics_with_cache_impl\u001B[49m\u001B[43m(\u001B[49m\n\u001B[0;32m     98\u001B[0m \u001B[43m    \u001B[49m\u001B[43mweakref\u001B[49m\u001B[38;5;241;43m.\u001B[39;49m\u001B[43mref\u001B[49m\u001B[43m(\u001B[49m\u001B[43mrenderer\u001B[49m\u001B[43m)\u001B[49m\u001B[43m,\u001B[49m\u001B[43m \u001B[49m\u001B[43mtext\u001B[49m\u001B[43m,\u001B[49m\u001B[43m \u001B[49m\u001B[43mfontprop\u001B[49m\u001B[38;5;241;43m.\u001B[39;49m\u001B[43mcopy\u001B[49m\u001B[43m(\u001B[49m\u001B[43m)\u001B[49m\u001B[43m,\u001B[49m\u001B[43m \u001B[49m\u001B[43mismath\u001B[49m\u001B[43m,\u001B[49m\u001B[43m \u001B[49m\u001B[43mdpi\u001B[49m\u001B[43m)\u001B[49m\n",
      "File \u001B[1;32m~\\AppData\\Roaming\\JetBrains\\DataSpell2022.2\\projects\\workspace\\venv\\Lib\\site-packages\\matplotlib\\text.py:105\u001B[0m, in \u001B[0;36m_get_text_metrics_with_cache_impl\u001B[1;34m(renderer_ref, text, fontprop, ismath, dpi)\u001B[0m\n\u001B[0;32m    101\u001B[0m \u001B[38;5;129m@functools\u001B[39m\u001B[38;5;241m.\u001B[39mlru_cache(\u001B[38;5;241m4096\u001B[39m)\n\u001B[0;32m    102\u001B[0m \u001B[38;5;28;01mdef\u001B[39;00m \u001B[38;5;21m_get_text_metrics_with_cache_impl\u001B[39m(\n\u001B[0;32m    103\u001B[0m         renderer_ref, text, fontprop, ismath, dpi):\n\u001B[0;32m    104\u001B[0m     \u001B[38;5;66;03m# dpi is unused, but participates in cache invalidation (via the renderer).\u001B[39;00m\n\u001B[1;32m--> 105\u001B[0m     \u001B[38;5;28;01mreturn\u001B[39;00m \u001B[43mrenderer_ref\u001B[49m\u001B[43m(\u001B[49m\u001B[43m)\u001B[49m\u001B[38;5;241;43m.\u001B[39;49m\u001B[43mget_text_width_height_descent\u001B[49m\u001B[43m(\u001B[49m\u001B[43mtext\u001B[49m\u001B[43m,\u001B[49m\u001B[43m \u001B[49m\u001B[43mfontprop\u001B[49m\u001B[43m,\u001B[49m\u001B[43m \u001B[49m\u001B[43mismath\u001B[49m\u001B[43m)\u001B[49m\n",
      "File \u001B[1;32m~\\AppData\\Roaming\\JetBrains\\DataSpell2022.2\\projects\\workspace\\venv\\Lib\\site-packages\\matplotlib\\backends\\backend_agg.py:239\u001B[0m, in \u001B[0;36mRendererAgg.get_text_width_height_descent\u001B[1;34m(self, s, prop, ismath)\u001B[0m\n\u001B[0;32m    236\u001B[0m     \u001B[38;5;28;01mreturn\u001B[39;00m width, height, descent\n\u001B[0;32m    238\u001B[0m font \u001B[38;5;241m=\u001B[39m \u001B[38;5;28mself\u001B[39m\u001B[38;5;241m.\u001B[39m_prepare_font(prop)\n\u001B[1;32m--> 239\u001B[0m \u001B[43mfont\u001B[49m\u001B[38;5;241;43m.\u001B[39;49m\u001B[43mset_text\u001B[49m\u001B[43m(\u001B[49m\u001B[43ms\u001B[49m\u001B[43m,\u001B[49m\u001B[43m \u001B[49m\u001B[38;5;241;43m0.0\u001B[39;49m\u001B[43m,\u001B[49m\u001B[43m \u001B[49m\u001B[43mflags\u001B[49m\u001B[38;5;241;43m=\u001B[39;49m\u001B[43mget_hinting_flag\u001B[49m\u001B[43m(\u001B[49m\u001B[43m)\u001B[49m\u001B[43m)\u001B[49m\n\u001B[0;32m    240\u001B[0m w, h \u001B[38;5;241m=\u001B[39m font\u001B[38;5;241m.\u001B[39mget_width_height()  \u001B[38;5;66;03m# width and height of unrotated string\u001B[39;00m\n\u001B[0;32m    241\u001B[0m d \u001B[38;5;241m=\u001B[39m font\u001B[38;5;241m.\u001B[39mget_descent()\n",
      "\u001B[1;31mKeyboardInterrupt\u001B[0m: "
     ]
    }
   ],
   "source": [
    "#model\n",
    "clf = DecisionTreeClassifier()\n",
    "clf.fit(X_train, y_train)\n",
    "y_pred = clf.predict(X_test)\n",
    "\n",
    "#evaluate inital tree\n",
    "model_score(y_pred=y_pred,y_test=y_test, labels=clf.classes_, name='DecisionTree Classifier')\n",
    "count = Counter(y_test)\n",
    "print(count)\n",
    "count = Counter(y_pred)\n",
    "print(count)\n",
    "\n",
    "#tune tree\n",
    "params = {\n",
    "    'max_depth': [2, 3, 5, 10, 20],\n",
    "    'min_samples_leaf': [5, 10, 20, 50, 100],\n",
    "    'criterion': [\"gini\", \"entropy\"]\n",
    "}\n",
    "\n",
    "clf, score_df = tune_tree(params, clf, \"accuracy\", X_train, y_train)\n",
    "print(score_df)\n",
    "print(clf)\n",
    "\n",
    "#print tree\n",
    "plot_tree(clf,['0','1','2','3','4'], X_train.columns)"
   ],
   "metadata": {
    "collapsed": false
   }
  },
  {
   "cell_type": "markdown",
   "source": [
    "----"
   ],
   "metadata": {
    "collapsed": false
   }
  },
  {
   "cell_type": "markdown",
   "source": [
    "Random Forrest"
   ],
   "metadata": {
    "collapsed": false
   }
  },
  {
   "cell_type": "code",
   "execution_count": 38,
   "outputs": [
    {
     "name": "stdout",
     "output_type": "stream",
     "text": [
      "----------\n",
      "Modell: RandomForest Classifier\n",
      "[[462  74]\n",
      " [122  48]]\n",
      "              precision    recall  f1-score   support\n",
      "\n",
      "       False       0.79      0.86      0.83       536\n",
      "        True       0.39      0.28      0.33       170\n",
      "\n",
      "    accuracy                           0.72       706\n",
      "   macro avg       0.59      0.57      0.58       706\n",
      "weighted avg       0.70      0.72      0.71       706\n",
      "\n",
      "Counter({False: 536, True: 170})\n",
      "Counter({False: 584, True: 122})\n"
     ]
    }
   ],
   "source": [
    "from sklearn.ensemble import RandomForestClassifier\n",
    "\n",
    "rf = RandomForestClassifier()\n",
    "rf.fit(X_train, y_train)\n",
    "y_pred = clf.predict(X_test)\n",
    "\n",
    "#evaluate initial tree\n",
    "model_score(y_pred=y_pred,y_test=y_test, labels=clf.classes_, name='RandomForest Classifier')\n",
    "count = Counter(y_test)\n",
    "print(count)\n",
    "count = Counter(y_pred)\n",
    "print(count)\n",
    "\n",
    "#tune tree\n",
    "params ={'bootstrap': [True, False],\n",
    "         'max_depth': [10, 20, 30, 40, 50, 60, 70, 80, 90, 100, None],\n",
    "         'max_features': ['auto', 'sqrt'],\n",
    "         'min_samples_leaf': [1, 2, 4],\n",
    "         'min_samples_split': [2, 5, 10],\n",
    "         'n_estimators': [200, 400, 600, 800, 1000, 1200, 1400, 1600, 1800, 2000]}\n",
    "\n",
    "clf, score_df = tune_tree(params, clf, \"accuracy\", X_train, y_train)\n",
    "print(score_df)\n",
    "print(clf)"
   ],
   "metadata": {
    "collapsed": false
   }
  },
  {
   "cell_type": "markdown",
   "source": [
    "-----------"
   ],
   "metadata": {
    "collapsed": false
   }
  },
  {
   "cell_type": "markdown",
   "source": [
    "XGBoosted Classifier"
   ],
   "metadata": {
    "collapsed": false
   }
  },
  {
   "cell_type": "code",
   "execution_count": 40,
   "outputs": [
    {
     "name": "stdout",
     "output_type": "stream",
     "text": [
      "----------\n",
      "Modell: XGBoosted Classifier\n",
      "[[514  22]\n",
      " [135  35]]\n",
      "              precision    recall  f1-score   support\n",
      "\n",
      "       False       0.79      0.96      0.87       536\n",
      "        True       0.61      0.21      0.31       170\n",
      "\n",
      "    accuracy                           0.78       706\n",
      "   macro avg       0.70      0.58      0.59       706\n",
      "weighted avg       0.75      0.78      0.73       706\n",
      "\n",
      "Counter({False: 536, True: 170})\n",
      "Counter({0: 649, 1: 57})\n"
     ]
    }
   ],
   "source": [
    "model = XGBClassifier()\n",
    "model.fit(X_train, y_train)\n",
    "y_pred = model.predict(X_test)\n",
    "model_score(y_pred=y_pred,y_test=y_test, labels=clf.classes_, name='XGBoosted Classifier')\n",
    "count = Counter(y_test)\n",
    "print(count)\n",
    "count = Counter(y_pred)\n",
    "print(count)"
   ],
   "metadata": {
    "collapsed": false
   }
  },
  {
   "cell_type": "code",
   "execution_count": 53,
   "outputs": [
    {
     "name": "stdout",
     "output_type": "stream",
     "text": [
      "0.726628895184136\n"
     ]
    }
   ],
   "source": [
    "ypred = model.predict(X_test)\n",
    "print(accuracy_score(ypred, y_test))"
   ],
   "metadata": {
    "collapsed": false
   }
  },
  {
   "cell_type": "code",
   "execution_count": 55,
   "outputs": [
    {
     "name": "stdout",
     "output_type": "stream",
     "text": [
      "Counter({0: 553, 1: 153})\n",
      "Counter({False: 536, True: 170})\n"
     ]
    }
   ],
   "source": [
    "count5 = Counter(ypred)\n",
    "print(count5)\n",
    "count6 = Counter(y_test)\n",
    "print(count6)"
   ],
   "metadata": {
    "collapsed": false
   }
  },
  {
   "cell_type": "code",
   "execution_count": 61,
   "outputs": [
    {
     "ename": "TypeError",
     "evalue": "numpy boolean subtract, the `-` operator, is not supported, use the bitwise_xor, the `^` operator, or the logical_xor function instead.",
     "output_type": "error",
     "traceback": [
      "\u001B[1;31m---------------------------------------------------------------------------\u001B[0m",
      "\u001B[1;31mTypeError\u001B[0m                                 Traceback (most recent call last)",
      "Cell \u001B[1;32mIn [61], line 3\u001B[0m\n\u001B[0;32m      1\u001B[0m score \u001B[38;5;241m=\u001B[39m rf\u001B[38;5;241m.\u001B[39mscore(X_train, y_train)\n\u001B[0;32m      2\u001B[0m ypred \u001B[38;5;241m=\u001B[39m rf\u001B[38;5;241m.\u001B[39mpredict(X_test)\n\u001B[1;32m----> 3\u001B[0m mse \u001B[38;5;241m=\u001B[39m \u001B[43mmean_squared_error\u001B[49m\u001B[43m(\u001B[49m\u001B[43my_test\u001B[49m\u001B[43m,\u001B[49m\u001B[43m \u001B[49m\u001B[43mypred\u001B[49m\u001B[43m)\u001B[49m\n\u001B[0;32m      5\u001B[0m \u001B[38;5;28mprint\u001B[39m(score)\n\u001B[0;32m      6\u001B[0m \u001B[38;5;28mprint\u001B[39m(\u001B[38;5;124m\"\u001B[39m\u001B[38;5;124mMSE: \u001B[39m\u001B[38;5;124m\"\u001B[39m, mse)\n",
      "File \u001B[1;32m~\\AppData\\Roaming\\JetBrains\\DataSpell2022.2\\projects\\workspace\\venv\\Lib\\site-packages\\sklearn\\metrics\\_regression.py:446\u001B[0m, in \u001B[0;36mmean_squared_error\u001B[1;34m(y_true, y_pred, sample_weight, multioutput, squared)\u001B[0m\n\u001B[0;32m    442\u001B[0m y_type, y_true, y_pred, multioutput \u001B[38;5;241m=\u001B[39m _check_reg_targets(\n\u001B[0;32m    443\u001B[0m     y_true, y_pred, multioutput\n\u001B[0;32m    444\u001B[0m )\n\u001B[0;32m    445\u001B[0m check_consistent_length(y_true, y_pred, sample_weight)\n\u001B[1;32m--> 446\u001B[0m output_errors \u001B[38;5;241m=\u001B[39m np\u001B[38;5;241m.\u001B[39maverage((\u001B[43my_true\u001B[49m\u001B[43m \u001B[49m\u001B[38;5;241;43m-\u001B[39;49m\u001B[43m \u001B[49m\u001B[43my_pred\u001B[49m) \u001B[38;5;241m*\u001B[39m\u001B[38;5;241m*\u001B[39m \u001B[38;5;241m2\u001B[39m, axis\u001B[38;5;241m=\u001B[39m\u001B[38;5;241m0\u001B[39m, weights\u001B[38;5;241m=\u001B[39msample_weight)\n\u001B[0;32m    448\u001B[0m \u001B[38;5;28;01mif\u001B[39;00m \u001B[38;5;129;01mnot\u001B[39;00m squared:\n\u001B[0;32m    449\u001B[0m     output_errors \u001B[38;5;241m=\u001B[39m np\u001B[38;5;241m.\u001B[39msqrt(output_errors)\n",
      "\u001B[1;31mTypeError\u001B[0m: numpy boolean subtract, the `-` operator, is not supported, use the bitwise_xor, the `^` operator, or the logical_xor function instead."
     ]
    }
   ],
   "source": [
    "score = rf.score(X_train, y_train)\n",
    "ypred = rf.predict(X_test)\n",
    "mse = mean_squared_error(y_test, ypred)\n",
    "\n",
    "print(score)\n",
    "print(\"MSE: \", mse)\n",
    "print(\"RMSE: \", mse*(1/2.0))\n",
    "print(np.shape(ypred))\n",
    "print(np.shape(y_test))\n",
    "df_ = pd.DataFrame()\n",
    "df_[\"y_test\"] = y_test\n",
    "df_[\"y_pred\"] = ypred\n",
    "print(df_.head())"
   ],
   "metadata": {
    "collapsed": false
   }
  },
  {
   "cell_type": "code",
   "execution_count": 85,
   "outputs": [
    {
     "ename": "ValueError",
     "evalue": "Classification metrics can't handle a mix of multiclass and continuous targets",
     "output_type": "error",
     "traceback": [
      "\u001B[1;31m---------------------------------------------------------------------------\u001B[0m",
      "\u001B[1;31mValueError\u001B[0m                                Traceback (most recent call last)",
      "Cell \u001B[1;32mIn [85], line 2\u001B[0m\n\u001B[0;32m      1\u001B[0m predicted \u001B[38;5;241m=\u001B[39m rf\u001B[38;5;241m.\u001B[39mpredict(X_test)\n\u001B[1;32m----> 2\u001B[0m accuracy \u001B[38;5;241m=\u001B[39m \u001B[43maccuracy_score\u001B[49m\u001B[43m(\u001B[49m\u001B[43my_test\u001B[49m\u001B[43m,\u001B[49m\u001B[43m \u001B[49m\u001B[43mpredicted\u001B[49m\u001B[43m)\u001B[49m\n\u001B[0;32m      3\u001B[0m mse \u001B[38;5;241m=\u001B[39m mean_squared_error(y_test, predicted)\n\u001B[0;32m      5\u001B[0m \u001B[38;5;28mprint\u001B[39m(\u001B[38;5;124mf\u001B[39m\u001B[38;5;124m'\u001B[39m\u001B[38;5;124mOut-of-bag score estimate: \u001B[39m\u001B[38;5;132;01m{\u001B[39;00mrf\u001B[38;5;241m.\u001B[39moob_score_\u001B[38;5;132;01m:\u001B[39;00m\u001B[38;5;124m.3\u001B[39m\u001B[38;5;132;01m}\u001B[39;00m\u001B[38;5;124m'\u001B[39m)\n",
      "File \u001B[1;32m~\\AppData\\Roaming\\JetBrains\\DataSpell2022.2\\projects\\workspace\\venv\\Lib\\site-packages\\sklearn\\metrics\\_classification.py:211\u001B[0m, in \u001B[0;36maccuracy_score\u001B[1;34m(y_true, y_pred, normalize, sample_weight)\u001B[0m\n\u001B[0;32m    145\u001B[0m \u001B[38;5;124;03m\"\"\"Accuracy classification score.\u001B[39;00m\n\u001B[0;32m    146\u001B[0m \n\u001B[0;32m    147\u001B[0m \u001B[38;5;124;03mIn multilabel classification, this function computes subset accuracy:\u001B[39;00m\n\u001B[1;32m   (...)\u001B[0m\n\u001B[0;32m    207\u001B[0m \u001B[38;5;124;03m0.5\u001B[39;00m\n\u001B[0;32m    208\u001B[0m \u001B[38;5;124;03m\"\"\"\u001B[39;00m\n\u001B[0;32m    210\u001B[0m \u001B[38;5;66;03m# Compute accuracy for each possible representation\u001B[39;00m\n\u001B[1;32m--> 211\u001B[0m y_type, y_true, y_pred \u001B[38;5;241m=\u001B[39m \u001B[43m_check_targets\u001B[49m\u001B[43m(\u001B[49m\u001B[43my_true\u001B[49m\u001B[43m,\u001B[49m\u001B[43m \u001B[49m\u001B[43my_pred\u001B[49m\u001B[43m)\u001B[49m\n\u001B[0;32m    212\u001B[0m check_consistent_length(y_true, y_pred, sample_weight)\n\u001B[0;32m    213\u001B[0m \u001B[38;5;28;01mif\u001B[39;00m y_type\u001B[38;5;241m.\u001B[39mstartswith(\u001B[38;5;124m\"\u001B[39m\u001B[38;5;124mmultilabel\u001B[39m\u001B[38;5;124m\"\u001B[39m):\n",
      "File \u001B[1;32m~\\AppData\\Roaming\\JetBrains\\DataSpell2022.2\\projects\\workspace\\venv\\Lib\\site-packages\\sklearn\\metrics\\_classification.py:93\u001B[0m, in \u001B[0;36m_check_targets\u001B[1;34m(y_true, y_pred)\u001B[0m\n\u001B[0;32m     90\u001B[0m     y_type \u001B[38;5;241m=\u001B[39m {\u001B[38;5;124m\"\u001B[39m\u001B[38;5;124mmulticlass\u001B[39m\u001B[38;5;124m\"\u001B[39m}\n\u001B[0;32m     92\u001B[0m \u001B[38;5;28;01mif\u001B[39;00m \u001B[38;5;28mlen\u001B[39m(y_type) \u001B[38;5;241m>\u001B[39m \u001B[38;5;241m1\u001B[39m:\n\u001B[1;32m---> 93\u001B[0m     \u001B[38;5;28;01mraise\u001B[39;00m \u001B[38;5;167;01mValueError\u001B[39;00m(\n\u001B[0;32m     94\u001B[0m         \u001B[38;5;124m\"\u001B[39m\u001B[38;5;124mClassification metrics can\u001B[39m\u001B[38;5;124m'\u001B[39m\u001B[38;5;124mt handle a mix of \u001B[39m\u001B[38;5;132;01m{0}\u001B[39;00m\u001B[38;5;124m and \u001B[39m\u001B[38;5;132;01m{1}\u001B[39;00m\u001B[38;5;124m targets\u001B[39m\u001B[38;5;124m\"\u001B[39m\u001B[38;5;241m.\u001B[39mformat(\n\u001B[0;32m     95\u001B[0m             type_true, type_pred\n\u001B[0;32m     96\u001B[0m         )\n\u001B[0;32m     97\u001B[0m     )\n\u001B[0;32m     99\u001B[0m \u001B[38;5;66;03m# We can't have more than one value on y_type => The set is no more needed\u001B[39;00m\n\u001B[0;32m    100\u001B[0m y_type \u001B[38;5;241m=\u001B[39m y_type\u001B[38;5;241m.\u001B[39mpop()\n",
      "\u001B[1;31mValueError\u001B[0m: Classification metrics can't handle a mix of multiclass and continuous targets"
     ]
    }
   ],
   "source": [
    "predicted = rf.predict(X_test)\n",
    "accuracy = accuracy_score(y_test, predicted)\n",
    "mse = mean_squared_error(y_test, predicted)\n",
    "\n",
    "print(f'Out-of-bag score estimate: {rf.oob_score_:.3}')\n",
    "print(f'Mean accuracy score: {accuracy:.3}')\n",
    "print(f'Mean Squared Error: {mse:.13}')"
   ],
   "metadata": {
    "collapsed": false
   }
  },
  {
   "cell_type": "code",
   "execution_count": 17,
   "outputs": [
    {
     "name": "stdout",
     "output_type": "stream",
     "text": [
      "MinMaxScaler()\n",
      "[705.  49.]\n",
      "[[0.         0.52083333]\n",
      " [0.00142045 0.52083333]\n",
      " [0.00284091 0.52083333]\n",
      " ...\n",
      " [0.99715909 0.95833333]\n",
      " [0.99857955 0.64583333]\n",
      " [1.         0.14583333]]\n"
     ]
    }
   ],
   "source": [
    "scaler = MinMaxScaler()\n",
    "data = [[index, ypred[index]] for index in range(1,len(ypred))]\n",
    "print(scaler.fit(data))\n",
    "print(scaler.data_max_)\n",
    "print(scaler.transform(data))\n",
    "\n",
    "knn = KNeighborsClassifier(n_neighbors=3)\n",
    "knn.fit(X_train)"
   ],
   "metadata": {
    "collapsed": false
   }
  },
  {
   "cell_type": "markdown",
   "source": [],
   "metadata": {
    "collapsed": false
   }
  },
  {
   "cell_type": "code",
   "execution_count": 63,
   "outputs": [
    {
     "ename": "ValueError",
     "evalue": "Shape of passed values is (50, 50), indices imply (22762, 22762)",
     "output_type": "error",
     "traceback": [
      "\u001B[1;31m---------------------------------------------------------------------------\u001B[0m",
      "\u001B[1;31mValueError\u001B[0m                                Traceback (most recent call last)",
      "Cell \u001B[1;32mIn [63], line 1\u001B[0m\n\u001B[1;32m----> 1\u001B[0m cm \u001B[38;5;241m=\u001B[39m \u001B[43mpd\u001B[49m\u001B[38;5;241;43m.\u001B[39;49m\u001B[43mDataFrame\u001B[49m\u001B[43m(\u001B[49m\u001B[43mconfusion_matrix\u001B[49m\u001B[43m(\u001B[49m\u001B[43my_test\u001B[49m\u001B[43m,\u001B[49m\u001B[43m \u001B[49m\u001B[43mpredicted\u001B[49m\u001B[43m)\u001B[49m\u001B[43m,\u001B[49m\u001B[43m \u001B[49m\u001B[43mcolumns\u001B[49m\u001B[38;5;241;43m=\u001B[39;49m\u001B[43mdf\u001B[49m\u001B[38;5;241;43m.\u001B[39;49m\u001B[43mRANK_SCORE\u001B[49m\u001B[43m,\u001B[49m\u001B[43m \u001B[49m\u001B[43mindex\u001B[49m\u001B[38;5;241;43m=\u001B[39;49m\u001B[43mdf\u001B[49m\u001B[38;5;241;43m.\u001B[39;49m\u001B[43mRANK_SCORE\u001B[49m\u001B[43m)\u001B[49m\n\u001B[0;32m      2\u001B[0m sns\u001B[38;5;241m.\u001B[39mheatmap(cm, annot\u001B[38;5;241m=\u001B[39m\u001B[38;5;28;01mTrue\u001B[39;00m)\n",
      "File \u001B[1;32m~\\AppData\\Roaming\\JetBrains\\DataSpell2022.2\\projects\\workspace\\venv\\Lib\\site-packages\\pandas\\core\\frame.py:720\u001B[0m, in \u001B[0;36mDataFrame.__init__\u001B[1;34m(self, data, index, columns, dtype, copy)\u001B[0m\n\u001B[0;32m    710\u001B[0m         mgr \u001B[38;5;241m=\u001B[39m dict_to_mgr(\n\u001B[0;32m    711\u001B[0m             \u001B[38;5;66;03m# error: Item \"ndarray\" of \"Union[ndarray, Series, Index]\" has no\u001B[39;00m\n\u001B[0;32m    712\u001B[0m             \u001B[38;5;66;03m# attribute \"name\"\u001B[39;00m\n\u001B[1;32m   (...)\u001B[0m\n\u001B[0;32m    717\u001B[0m             typ\u001B[38;5;241m=\u001B[39mmanager,\n\u001B[0;32m    718\u001B[0m         )\n\u001B[0;32m    719\u001B[0m     \u001B[38;5;28;01melse\u001B[39;00m:\n\u001B[1;32m--> 720\u001B[0m         mgr \u001B[38;5;241m=\u001B[39m \u001B[43mndarray_to_mgr\u001B[49m\u001B[43m(\u001B[49m\n\u001B[0;32m    721\u001B[0m \u001B[43m            \u001B[49m\u001B[43mdata\u001B[49m\u001B[43m,\u001B[49m\n\u001B[0;32m    722\u001B[0m \u001B[43m            \u001B[49m\u001B[43mindex\u001B[49m\u001B[43m,\u001B[49m\n\u001B[0;32m    723\u001B[0m \u001B[43m            \u001B[49m\u001B[43mcolumns\u001B[49m\u001B[43m,\u001B[49m\n\u001B[0;32m    724\u001B[0m \u001B[43m            \u001B[49m\u001B[43mdtype\u001B[49m\u001B[38;5;241;43m=\u001B[39;49m\u001B[43mdtype\u001B[49m\u001B[43m,\u001B[49m\n\u001B[0;32m    725\u001B[0m \u001B[43m            \u001B[49m\u001B[43mcopy\u001B[49m\u001B[38;5;241;43m=\u001B[39;49m\u001B[43mcopy\u001B[49m\u001B[43m,\u001B[49m\n\u001B[0;32m    726\u001B[0m \u001B[43m            \u001B[49m\u001B[43mtyp\u001B[49m\u001B[38;5;241;43m=\u001B[39;49m\u001B[43mmanager\u001B[49m\u001B[43m,\u001B[49m\n\u001B[0;32m    727\u001B[0m \u001B[43m        \u001B[49m\u001B[43m)\u001B[49m\n\u001B[0;32m    729\u001B[0m \u001B[38;5;66;03m# For data is list-like, or Iterable (will consume into list)\u001B[39;00m\n\u001B[0;32m    730\u001B[0m \u001B[38;5;28;01melif\u001B[39;00m is_list_like(data):\n",
      "File \u001B[1;32m~\\AppData\\Roaming\\JetBrains\\DataSpell2022.2\\projects\\workspace\\venv\\Lib\\site-packages\\pandas\\core\\internals\\construction.py:349\u001B[0m, in \u001B[0;36mndarray_to_mgr\u001B[1;34m(values, index, columns, dtype, copy, typ)\u001B[0m\n\u001B[0;32m    344\u001B[0m \u001B[38;5;66;03m# _prep_ndarraylike ensures that values.ndim == 2 at this point\u001B[39;00m\n\u001B[0;32m    345\u001B[0m index, columns \u001B[38;5;241m=\u001B[39m _get_axes(\n\u001B[0;32m    346\u001B[0m     values\u001B[38;5;241m.\u001B[39mshape[\u001B[38;5;241m0\u001B[39m], values\u001B[38;5;241m.\u001B[39mshape[\u001B[38;5;241m1\u001B[39m], index\u001B[38;5;241m=\u001B[39mindex, columns\u001B[38;5;241m=\u001B[39mcolumns\n\u001B[0;32m    347\u001B[0m )\n\u001B[1;32m--> 349\u001B[0m \u001B[43m_check_values_indices_shape_match\u001B[49m\u001B[43m(\u001B[49m\u001B[43mvalues\u001B[49m\u001B[43m,\u001B[49m\u001B[43m \u001B[49m\u001B[43mindex\u001B[49m\u001B[43m,\u001B[49m\u001B[43m \u001B[49m\u001B[43mcolumns\u001B[49m\u001B[43m)\u001B[49m\n\u001B[0;32m    351\u001B[0m \u001B[38;5;28;01mif\u001B[39;00m typ \u001B[38;5;241m==\u001B[39m \u001B[38;5;124m\"\u001B[39m\u001B[38;5;124marray\u001B[39m\u001B[38;5;124m\"\u001B[39m:\n\u001B[0;32m    353\u001B[0m     \u001B[38;5;28;01mif\u001B[39;00m \u001B[38;5;28missubclass\u001B[39m(values\u001B[38;5;241m.\u001B[39mdtype\u001B[38;5;241m.\u001B[39mtype, \u001B[38;5;28mstr\u001B[39m):\n",
      "File \u001B[1;32m~\\AppData\\Roaming\\JetBrains\\DataSpell2022.2\\projects\\workspace\\venv\\Lib\\site-packages\\pandas\\core\\internals\\construction.py:420\u001B[0m, in \u001B[0;36m_check_values_indices_shape_match\u001B[1;34m(values, index, columns)\u001B[0m\n\u001B[0;32m    418\u001B[0m passed \u001B[38;5;241m=\u001B[39m values\u001B[38;5;241m.\u001B[39mshape\n\u001B[0;32m    419\u001B[0m implied \u001B[38;5;241m=\u001B[39m (\u001B[38;5;28mlen\u001B[39m(index), \u001B[38;5;28mlen\u001B[39m(columns))\n\u001B[1;32m--> 420\u001B[0m \u001B[38;5;28;01mraise\u001B[39;00m \u001B[38;5;167;01mValueError\u001B[39;00m(\u001B[38;5;124mf\u001B[39m\u001B[38;5;124m\"\u001B[39m\u001B[38;5;124mShape of passed values is \u001B[39m\u001B[38;5;132;01m{\u001B[39;00mpassed\u001B[38;5;132;01m}\u001B[39;00m\u001B[38;5;124m, indices imply \u001B[39m\u001B[38;5;132;01m{\u001B[39;00mimplied\u001B[38;5;132;01m}\u001B[39;00m\u001B[38;5;124m\"\u001B[39m)\n",
      "\u001B[1;31mValueError\u001B[0m: Shape of passed values is (50, 50), indices imply (22762, 22762)"
     ]
    }
   ],
   "source": [
    "cm = pd.DataFrame(confusion_matrix(y_test, predicted), columns=df.RANK_SCORE, index=df.RANK_SCORE)\n",
    "sns.heatmap(cm, annot=True)"
   ],
   "metadata": {
    "collapsed": false
   }
  },
  {
   "cell_type": "code",
   "execution_count": null,
   "outputs": [],
   "source": [
    "df.RANK_SCORE"
   ],
   "metadata": {
    "collapsed": false
   }
  },
  {
   "cell_type": "markdown",
   "source": [
    "----"
   ],
   "metadata": {
    "collapsed": false
   }
  },
  {
   "cell_type": "markdown",
   "source": [
    "Regression"
   ],
   "metadata": {
    "collapsed": false
   }
  },
  {
   "cell_type": "markdown",
   "source": [],
   "metadata": {
    "collapsed": false
   }
  },
  {
   "cell_type": "code",
   "execution_count": 71,
   "outputs": [
    {
     "ename": "ValueError",
     "evalue": "x and y must be the same size",
     "output_type": "error",
     "traceback": [
      "\u001B[1;31m---------------------------------------------------------------------------\u001B[0m",
      "\u001B[1;31mValueError\u001B[0m                                Traceback (most recent call last)",
      "Cell \u001B[1;32mIn [71], line 8\u001B[0m\n\u001B[0;32m      5\u001B[0m ypred \u001B[38;5;241m=\u001B[39m reg\u001B[38;5;241m.\u001B[39mpredict(X_test)\n\u001B[0;32m      7\u001B[0m plt\u001B[38;5;241m.\u001B[39mfigure()\n\u001B[1;32m----> 8\u001B[0m \u001B[43mplt\u001B[49m\u001B[38;5;241;43m.\u001B[39;49m\u001B[43mscatter\u001B[49m\u001B[43m(\u001B[49m\u001B[43mX_train\u001B[49m\u001B[43m,\u001B[49m\u001B[43m \u001B[49m\u001B[43my_train\u001B[49m\u001B[43m,\u001B[49m\u001B[43m \u001B[49m\u001B[43ms\u001B[49m\u001B[38;5;241;43m=\u001B[39;49m\u001B[38;5;241;43m20\u001B[39;49m\u001B[43m,\u001B[49m\u001B[43m \u001B[49m\u001B[43medgecolor\u001B[49m\u001B[38;5;241;43m=\u001B[39;49m\u001B[38;5;124;43m\"\u001B[39;49m\u001B[38;5;124;43mblack\u001B[39;49m\u001B[38;5;124;43m\"\u001B[39;49m\u001B[43m,\u001B[49m\u001B[43m \u001B[49m\u001B[43mc\u001B[49m\u001B[38;5;241;43m=\u001B[39;49m\u001B[38;5;124;43m\"\u001B[39;49m\u001B[38;5;124;43mdarkorange\u001B[39;49m\u001B[38;5;124;43m\"\u001B[39;49m\u001B[43m,\u001B[49m\u001B[43m \u001B[49m\u001B[43mlabel\u001B[49m\u001B[38;5;241;43m=\u001B[39;49m\u001B[38;5;124;43m\"\u001B[39;49m\u001B[38;5;124;43mdata\u001B[39;49m\u001B[38;5;124;43m\"\u001B[39;49m\u001B[43m)\u001B[49m\n\u001B[0;32m      9\u001B[0m plt\u001B[38;5;241m.\u001B[39mplot(X_test, ypred, color\u001B[38;5;241m=\u001B[39m\u001B[38;5;124m\"\u001B[39m\u001B[38;5;124mcornflowerblue\u001B[39m\u001B[38;5;124m\"\u001B[39m, label\u001B[38;5;241m=\u001B[39m\u001B[38;5;124m\"\u001B[39m\u001B[38;5;124mmax_depth=2\u001B[39m\u001B[38;5;124m\"\u001B[39m, linewidth\u001B[38;5;241m=\u001B[39m\u001B[38;5;241m2\u001B[39m)\n\u001B[0;32m     10\u001B[0m plt\u001B[38;5;241m.\u001B[39mxlabel(\u001B[38;5;124m\"\u001B[39m\u001B[38;5;124mdata\u001B[39m\u001B[38;5;124m\"\u001B[39m)\n",
      "File \u001B[1;32m~\\AppData\\Roaming\\JetBrains\\DataSpell2022.2\\projects\\workspace\\venv\\Lib\\site-packages\\matplotlib\\pyplot.py:2790\u001B[0m, in \u001B[0;36mscatter\u001B[1;34m(x, y, s, c, marker, cmap, norm, vmin, vmax, alpha, linewidths, edgecolors, plotnonfinite, data, **kwargs)\u001B[0m\n\u001B[0;32m   2785\u001B[0m \u001B[38;5;129m@_copy_docstring_and_deprecators\u001B[39m(Axes\u001B[38;5;241m.\u001B[39mscatter)\n\u001B[0;32m   2786\u001B[0m \u001B[38;5;28;01mdef\u001B[39;00m \u001B[38;5;21mscatter\u001B[39m(\n\u001B[0;32m   2787\u001B[0m         x, y, s\u001B[38;5;241m=\u001B[39m\u001B[38;5;28;01mNone\u001B[39;00m, c\u001B[38;5;241m=\u001B[39m\u001B[38;5;28;01mNone\u001B[39;00m, marker\u001B[38;5;241m=\u001B[39m\u001B[38;5;28;01mNone\u001B[39;00m, cmap\u001B[38;5;241m=\u001B[39m\u001B[38;5;28;01mNone\u001B[39;00m, norm\u001B[38;5;241m=\u001B[39m\u001B[38;5;28;01mNone\u001B[39;00m,\n\u001B[0;32m   2788\u001B[0m         vmin\u001B[38;5;241m=\u001B[39m\u001B[38;5;28;01mNone\u001B[39;00m, vmax\u001B[38;5;241m=\u001B[39m\u001B[38;5;28;01mNone\u001B[39;00m, alpha\u001B[38;5;241m=\u001B[39m\u001B[38;5;28;01mNone\u001B[39;00m, linewidths\u001B[38;5;241m=\u001B[39m\u001B[38;5;28;01mNone\u001B[39;00m, \u001B[38;5;241m*\u001B[39m,\n\u001B[0;32m   2789\u001B[0m         edgecolors\u001B[38;5;241m=\u001B[39m\u001B[38;5;28;01mNone\u001B[39;00m, plotnonfinite\u001B[38;5;241m=\u001B[39m\u001B[38;5;28;01mFalse\u001B[39;00m, data\u001B[38;5;241m=\u001B[39m\u001B[38;5;28;01mNone\u001B[39;00m, \u001B[38;5;241m*\u001B[39m\u001B[38;5;241m*\u001B[39mkwargs):\n\u001B[1;32m-> 2790\u001B[0m     __ret \u001B[38;5;241m=\u001B[39m \u001B[43mgca\u001B[49m\u001B[43m(\u001B[49m\u001B[43m)\u001B[49m\u001B[38;5;241;43m.\u001B[39;49m\u001B[43mscatter\u001B[49m\u001B[43m(\u001B[49m\n\u001B[0;32m   2791\u001B[0m \u001B[43m        \u001B[49m\u001B[43mx\u001B[49m\u001B[43m,\u001B[49m\u001B[43m \u001B[49m\u001B[43my\u001B[49m\u001B[43m,\u001B[49m\u001B[43m \u001B[49m\u001B[43ms\u001B[49m\u001B[38;5;241;43m=\u001B[39;49m\u001B[43ms\u001B[49m\u001B[43m,\u001B[49m\u001B[43m \u001B[49m\u001B[43mc\u001B[49m\u001B[38;5;241;43m=\u001B[39;49m\u001B[43mc\u001B[49m\u001B[43m,\u001B[49m\u001B[43m \u001B[49m\u001B[43mmarker\u001B[49m\u001B[38;5;241;43m=\u001B[39;49m\u001B[43mmarker\u001B[49m\u001B[43m,\u001B[49m\u001B[43m \u001B[49m\u001B[43mcmap\u001B[49m\u001B[38;5;241;43m=\u001B[39;49m\u001B[43mcmap\u001B[49m\u001B[43m,\u001B[49m\u001B[43m \u001B[49m\u001B[43mnorm\u001B[49m\u001B[38;5;241;43m=\u001B[39;49m\u001B[43mnorm\u001B[49m\u001B[43m,\u001B[49m\n\u001B[0;32m   2792\u001B[0m \u001B[43m        \u001B[49m\u001B[43mvmin\u001B[49m\u001B[38;5;241;43m=\u001B[39;49m\u001B[43mvmin\u001B[49m\u001B[43m,\u001B[49m\u001B[43m \u001B[49m\u001B[43mvmax\u001B[49m\u001B[38;5;241;43m=\u001B[39;49m\u001B[43mvmax\u001B[49m\u001B[43m,\u001B[49m\u001B[43m \u001B[49m\u001B[43malpha\u001B[49m\u001B[38;5;241;43m=\u001B[39;49m\u001B[43malpha\u001B[49m\u001B[43m,\u001B[49m\u001B[43m \u001B[49m\u001B[43mlinewidths\u001B[49m\u001B[38;5;241;43m=\u001B[39;49m\u001B[43mlinewidths\u001B[49m\u001B[43m,\u001B[49m\n\u001B[0;32m   2793\u001B[0m \u001B[43m        \u001B[49m\u001B[43medgecolors\u001B[49m\u001B[38;5;241;43m=\u001B[39;49m\u001B[43medgecolors\u001B[49m\u001B[43m,\u001B[49m\u001B[43m \u001B[49m\u001B[43mplotnonfinite\u001B[49m\u001B[38;5;241;43m=\u001B[39;49m\u001B[43mplotnonfinite\u001B[49m\u001B[43m,\u001B[49m\n\u001B[0;32m   2794\u001B[0m \u001B[43m        \u001B[49m\u001B[38;5;241;43m*\u001B[39;49m\u001B[38;5;241;43m*\u001B[39;49m\u001B[43m(\u001B[49m\u001B[43m{\u001B[49m\u001B[38;5;124;43m\"\u001B[39;49m\u001B[38;5;124;43mdata\u001B[39;49m\u001B[38;5;124;43m\"\u001B[39;49m\u001B[43m:\u001B[49m\u001B[43m \u001B[49m\u001B[43mdata\u001B[49m\u001B[43m}\u001B[49m\u001B[43m \u001B[49m\u001B[38;5;28;43;01mif\u001B[39;49;00m\u001B[43m \u001B[49m\u001B[43mdata\u001B[49m\u001B[43m \u001B[49m\u001B[38;5;129;43;01mis\u001B[39;49;00m\u001B[43m \u001B[49m\u001B[38;5;129;43;01mnot\u001B[39;49;00m\u001B[43m \u001B[49m\u001B[38;5;28;43;01mNone\u001B[39;49;00m\u001B[43m \u001B[49m\u001B[38;5;28;43;01melse\u001B[39;49;00m\u001B[43m \u001B[49m\u001B[43m{\u001B[49m\u001B[43m}\u001B[49m\u001B[43m)\u001B[49m\u001B[43m,\u001B[49m\u001B[43m \u001B[49m\u001B[38;5;241;43m*\u001B[39;49m\u001B[38;5;241;43m*\u001B[39;49m\u001B[43mkwargs\u001B[49m\u001B[43m)\u001B[49m\n\u001B[0;32m   2795\u001B[0m     sci(__ret)\n\u001B[0;32m   2796\u001B[0m     \u001B[38;5;28;01mreturn\u001B[39;00m __ret\n",
      "File \u001B[1;32m~\\AppData\\Roaming\\JetBrains\\DataSpell2022.2\\projects\\workspace\\venv\\Lib\\site-packages\\matplotlib\\__init__.py:1423\u001B[0m, in \u001B[0;36m_preprocess_data.<locals>.inner\u001B[1;34m(ax, data, *args, **kwargs)\u001B[0m\n\u001B[0;32m   1420\u001B[0m \u001B[38;5;129m@functools\u001B[39m\u001B[38;5;241m.\u001B[39mwraps(func)\n\u001B[0;32m   1421\u001B[0m \u001B[38;5;28;01mdef\u001B[39;00m \u001B[38;5;21minner\u001B[39m(ax, \u001B[38;5;241m*\u001B[39margs, data\u001B[38;5;241m=\u001B[39m\u001B[38;5;28;01mNone\u001B[39;00m, \u001B[38;5;241m*\u001B[39m\u001B[38;5;241m*\u001B[39mkwargs):\n\u001B[0;32m   1422\u001B[0m     \u001B[38;5;28;01mif\u001B[39;00m data \u001B[38;5;129;01mis\u001B[39;00m \u001B[38;5;28;01mNone\u001B[39;00m:\n\u001B[1;32m-> 1423\u001B[0m         \u001B[38;5;28;01mreturn\u001B[39;00m \u001B[43mfunc\u001B[49m\u001B[43m(\u001B[49m\u001B[43max\u001B[49m\u001B[43m,\u001B[49m\u001B[43m \u001B[49m\u001B[38;5;241;43m*\u001B[39;49m\u001B[38;5;28;43mmap\u001B[39;49m\u001B[43m(\u001B[49m\u001B[43msanitize_sequence\u001B[49m\u001B[43m,\u001B[49m\u001B[43m \u001B[49m\u001B[43margs\u001B[49m\u001B[43m)\u001B[49m\u001B[43m,\u001B[49m\u001B[43m \u001B[49m\u001B[38;5;241;43m*\u001B[39;49m\u001B[38;5;241;43m*\u001B[39;49m\u001B[43mkwargs\u001B[49m\u001B[43m)\u001B[49m\n\u001B[0;32m   1425\u001B[0m     bound \u001B[38;5;241m=\u001B[39m new_sig\u001B[38;5;241m.\u001B[39mbind(ax, \u001B[38;5;241m*\u001B[39margs, \u001B[38;5;241m*\u001B[39m\u001B[38;5;241m*\u001B[39mkwargs)\n\u001B[0;32m   1426\u001B[0m     auto_label \u001B[38;5;241m=\u001B[39m (bound\u001B[38;5;241m.\u001B[39marguments\u001B[38;5;241m.\u001B[39mget(label_namer)\n\u001B[0;32m   1427\u001B[0m                   \u001B[38;5;129;01mor\u001B[39;00m bound\u001B[38;5;241m.\u001B[39mkwargs\u001B[38;5;241m.\u001B[39mget(label_namer))\n",
      "File \u001B[1;32m~\\AppData\\Roaming\\JetBrains\\DataSpell2022.2\\projects\\workspace\\venv\\Lib\\site-packages\\matplotlib\\axes\\_axes.py:4520\u001B[0m, in \u001B[0;36mAxes.scatter\u001B[1;34m(self, x, y, s, c, marker, cmap, norm, vmin, vmax, alpha, linewidths, edgecolors, plotnonfinite, **kwargs)\u001B[0m\n\u001B[0;32m   4518\u001B[0m y \u001B[38;5;241m=\u001B[39m np\u001B[38;5;241m.\u001B[39mma\u001B[38;5;241m.\u001B[39mravel(y)\n\u001B[0;32m   4519\u001B[0m \u001B[38;5;28;01mif\u001B[39;00m x\u001B[38;5;241m.\u001B[39msize \u001B[38;5;241m!=\u001B[39m y\u001B[38;5;241m.\u001B[39msize:\n\u001B[1;32m-> 4520\u001B[0m     \u001B[38;5;28;01mraise\u001B[39;00m \u001B[38;5;167;01mValueError\u001B[39;00m(\u001B[38;5;124m\"\u001B[39m\u001B[38;5;124mx and y must be the same size\u001B[39m\u001B[38;5;124m\"\u001B[39m)\n\u001B[0;32m   4522\u001B[0m \u001B[38;5;28;01mif\u001B[39;00m s \u001B[38;5;129;01mis\u001B[39;00m \u001B[38;5;28;01mNone\u001B[39;00m:\n\u001B[0;32m   4523\u001B[0m     s \u001B[38;5;241m=\u001B[39m (\u001B[38;5;241m20\u001B[39m \u001B[38;5;28;01mif\u001B[39;00m mpl\u001B[38;5;241m.\u001B[39mrcParams[\u001B[38;5;124m'\u001B[39m\u001B[38;5;124m_internal.classic_mode\u001B[39m\u001B[38;5;124m'\u001B[39m] \u001B[38;5;28;01melse\u001B[39;00m\n\u001B[0;32m   4524\u001B[0m          mpl\u001B[38;5;241m.\u001B[39mrcParams[\u001B[38;5;124m'\u001B[39m\u001B[38;5;124mlines.markersize\u001B[39m\u001B[38;5;124m'\u001B[39m] \u001B[38;5;241m*\u001B[39m\u001B[38;5;241m*\u001B[39m \u001B[38;5;241m2.0\u001B[39m)\n",
      "\u001B[1;31mValueError\u001B[0m: x and y must be the same size"
     ]
    },
    {
     "data": {
      "text/plain": "<Figure size 640x480 with 1 Axes>",
      "image/png": "[encoded data removed]"
     },
     "metadata": {},
     "output_type": "display_data"
    }
   ],
   "source": [
    "from sklearn.tree import DecisionTreeRegressor\n",
    "reg =DecisionTreeRegressor()\n",
    "reg.fit(X_train, y_train)\n",
    "reg.score(X_test,y_test)\n",
    "ypred = reg.predict(X_test)\n",
    "\n",
    "plt.figure()\n",
    "plt.scatter(X_train, y_train, s=20, edgecolor=\"black\", c=\"darkorange\", label=\"data\")\n",
    "plt.plot(X_test, ypred, color=\"cornflowerblue\", label=\"max_depth=2\", linewidth=2)\n",
    "plt.xlabel(\"data\")\n",
    "plt.ylabel(\"target\")\n",
    "plt.title(\"Decision Tree Regression\")\n",
    "plt.legend()\n",
    "plt.show()"
   ],
   "metadata": {
    "collapsed": false
   }
  },
  {
   "cell_type": "markdown",
   "source": [
    "Evaluation"
   ],
   "metadata": {
    "collapsed": false
   }
  }
 ],
 "metadata": {
  "kernelspec": {
   "display_name": "Python 3",
   "language": "python",
   "name": "python3"
  },
  "language_info": {
   "codemirror_mode": {
    "name": "ipython",
    "version": 2
   },
   "file_extension": ".py",
   "mimetype": "text/x-python",
   "name": "python",
   "nbconvert_exporter": "python",
   "pygments_lexer": "ipython2",
   "version": "2.7.6"
  }
 },
 "nbformat": 4,
 "nbformat_minor": 0
}
