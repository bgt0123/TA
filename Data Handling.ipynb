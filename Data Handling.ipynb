{
 "cells": [
  {
   "cell_type": "code",
   "execution_count": 61,
   "metadata": {
    "collapsed": true
   },
   "outputs": [],
   "source": [
    "import re\n",
    "import pandas as pd\n",
    "from profanity import profanity\n",
    "import csv\n",
    "import numpy as np\n",
    "from nltk.tokenize import RegexpTokenizer\n",
    "from nltk.stem import SnowballStemmer\n",
    "import nltk\n",
    "import spacy\n",
    "from collections import Counter\n",
    "from statistics import mean\n",
    "from profanity_check import predict, predict_prob\n",
    "from google.oauth2 import service_account\n",
    "from textblob import TextBlob\n",
    "from google.cloud import translate_v2 as translate\n",
    "from google.cloud import storage\n",
    "nlp = spacy.load('de_core_news_sm')\n",
    "snowStemmer = SnowballStemmer(language='german')\n",
    "RAW_DATA_PATH = 'data/raw/'"
   ]
  },
  {
   "cell_type": "markdown",
   "metadata": {},
   "source": [
    "Helper Functions"
   ]
  },
  {
   "cell_type": "code",
   "execution_count": 62,
   "metadata": {},
   "outputs": [],
   "source": [
    "def flatten(l):\n",
    "    return [item for sublist in l for item in sublist]"
   ]
  },
  {
   "cell_type": "code",
   "execution_count": 63,
   "outputs": [],
   "source": [
    "def find_longest_word(word_list):\n",
    "    longest_word =  max(word_list, key=len)\n",
    "    return len(longest_word)"
   ],
   "metadata": {
    "collapsed": false
   }
  },
  {
   "cell_type": "code",
   "execution_count": 64,
   "outputs": [],
   "source": [
    "def lemmatize_string(input_text):\n",
    "    doc = nlp(input_text.lower())\n",
    "    result = ' '.join([x.lemma_ for x in doc])\n",
    "    doc = nlp(result.title())\n",
    "    result = ' '.join([x.lemma_ for x in doc]).upper()\n",
    "    return result"
   ],
   "metadata": {
    "collapsed": false
   }
  },
  {
   "cell_type": "code",
   "execution_count": 65,
   "outputs": [],
   "source": [
    "def stemm_List_of_Words(input_text):\n",
    "    result = [snowStemmer.stem(word).upper() for word in input_text]\n",
    "    return result"
   ],
   "metadata": {
    "collapsed": false
   }
  },
  {
   "cell_type": "code",
   "execution_count": 66,
   "outputs": [],
   "source": [
    "def contains_song(ID, JAHR, MONAT):\n",
    "    return  len(df.loc[(df['ID'] == ID) & (df['JAHR'] == JAHR) & (df['MONAT'] == MONAT)]) >= 1"
   ],
   "metadata": {
    "collapsed": false
   }
  },
  {
   "cell_type": "code",
   "execution_count": 99,
   "outputs": [],
   "source": [
    "def isSeasonal():\n",
    "    for index, row in df.iterrows():\n",
    "        if np.isnan(row['SEASONAL?']) or False:\n",
    "            df.loc[(df['ID'] == row['ID']), 'SEASONAL?'] = contains_song(row['ID'], row['JAHR'] + 1, row['MONAT'])"
   ],
   "metadata": {
    "collapsed": false
   }
  },
  {
   "cell_type": "markdown",
   "metadata": {},
   "source": [
    "Data Extraction"
   ]
  },
  {
   "cell_type": "code",
   "execution_count": 68,
   "metadata": {},
   "outputs": [],
   "source": [
    "df_Lied = pd.read_csv(RAW_DATA_PATH + 'LIED.csv', usecols=['ID','INTERPRET', 'TITEL', 'SPRACHE_DEUTSCH', 'TEXT_TEIL1', 'TEXT_TEIL2', 'TEXT_TEIL3', 'TEXT_TEIL4'])\n",
    "#print(df_Lied.head())\n",
    "\n",
    "df_Chart_Position = pd.read_csv(RAW_DATA_PATH + 'CHART_POSITION.csv', usecols=['LIED_ID', 'POSITION', 'DATUM_VON', 'DATUM_BIS'])\n",
    "#print(df_Chart_Position.head())\n",
    "\n",
    "#get stopword-list\n",
    "with open(RAW_DATA_PATH+'Stoppwords.csv', newline='', encoding='UTF-8') as f:\n",
    "    stopwords_list = list(csv.reader(f))\n",
    "stopwords_list = [word.upper() for word in flatten(stopwords_list)]"
   ]
  },
  {
   "cell_type": "markdown",
   "metadata": {},
   "source": [
    "Data Conversion"
   ]
  },
  {
   "cell_type": "code",
   "execution_count": 69,
   "metadata": {},
   "outputs": [],
   "source": [
    "df_Lied['TEXT'] = df_Lied['TEXT_TEIL1'].fillna('') + df_Lied['TEXT_TEIL2'].fillna('') + df_Lied['TEXT_TEIL3'].fillna('') + df_Lied['TEXT_TEIL4'].fillna('')\n",
    "\n",
    "df_Chart_Position['DATUM_VON'] = pd.to_datetime(df_Chart_Position['DATUM_VON'])\n",
    "df_Chart_Position['DATUM_BIS'] = pd.to_datetime(df_Chart_Position['DATUM_BIS'])\n",
    "df_Chart_Position['DAUER'] = (df_Chart_Position['DATUM_BIS'] - df_Chart_Position['DATUM_VON']).dt.days.astype('int16')\n",
    "df_Chart_Position['JAHR'] = df_Chart_Position['DATUM_BIS'].dt.year.astype('int16')\n",
    "df_Chart_Position['MONAT'] =  df_Chart_Position['DATUM_BIS'].dt.month.astype('int16')"
   ]
  },
  {
   "cell_type": "markdown",
   "metadata": {},
   "source": [
    "Text Preprocessing"
   ]
  },
  {
   "cell_type": "code",
   "execution_count": 70,
   "metadata": {},
   "outputs": [],
   "source": [
    "df_Lied['processed_TEXT'] = df_Lied['TEXT']\n",
    "\n",
    "#lemmatization\n",
    "#df_Lied['processed_TEXT'] = df_Lied.processed_TEXT.apply(lambda text: lemmatize_string(text))\n",
    "\n",
    "# tokenize\n",
    "df_Lied['processed_TEXT'] = df_Lied.processed_TEXT.apply(lambda text: nltk.word_tokenize(text))\n",
    "\n",
    "#Stemming\n",
    "df_Lied['processed_TEXT'] = df_Lied.processed_TEXT.apply(lambda text: stemm_List_of_Words(text))\n",
    "\n",
    "#remove stopwords\n",
    "df_Lied['processed_TEXT'] = df_Lied.processed_TEXT.apply(lambda x: [item for item in x if item not in stopwords_list])\n",
    "\n",
    "#remove numbers\n",
    "df_Lied['processed_TEXT'] = df_Lied.processed_TEXT.apply(lambda word_list : [re.sub('\\w*\\d\\w*','', word) for word in word_list])"
   ]
  },
  {
   "cell_type": "code",
   "execution_count": 71,
   "outputs": [
    {
     "name": "stdout",
     "output_type": "stream",
     "text": [
      "['LASS', 'STRAND', 'WEISST', 'WELCH', 'BRAUCH', 'MAL', 'WIED', 'MEER', 'SAND', 'YEAH', 'BRAUCH', 'MAL', 'WIEDERGRUND', 'BLEIB', 'AI', 'UHR', 'FAELLT', 'BLAU', 'SEH', 'VERSINKT', 'SETZT', 'LANGSAM', 'WASS', 'SPIEGELGLATT', 'BLINKT', 'WOLL', 'SEHNSUCHT', 'MORG', 'HEUT', 'PERFEKT', 'IS', 'SEHNSUCHT', 'MORG', 'HEUT', 'PERFEKT', 'IS', 'STEH', 'NEB', 'ZEIG', 'ECHT', 'LICHT', 'STADT', 'VERBRANNT', 'LASS', 'STRAND', 'KOMM', 'STEIG', 'LEUCHT', 'DIAMANT', 'YEH', 'ALL', 'SALZ', 'HAUT', 'AI', 'SEH', 'GESTOCH', 'SCHARF', 'TUT', 'FAST', 'AUG', 'WEH', 'ENDLICH', 'NOCH', 'NIE', 'GESEH', 'YEHI', 'WOLL', 'SEHNSUCHT', 'MORG', 'HEUT', 'PERFEKT', 'IS', 'SEHNSUCHT', 'MORG', 'HEUT', 'PERFEKT', 'IS', 'STEH', 'NEB', 'ZEIG', 'ECHT', 'LICHT', 'STADT', 'VERBRANNT', 'LASS', 'STRAND', 'LASS', 'STRAND', 'WEISST', 'WELCH', 'LASS', 'STRAND', 'YEAH', 'BRAUCHGRUND', 'BLEIB', 'AI', 'LASS', 'STRAND', 'WEISST', 'WELCH', 'BRAUCH', 'MAL', 'WIED', 'MEER', 'SAND', 'YEAH', 'BRAUCH', 'MAL', 'WIEDERGRUND', 'BLEIB', 'OUH', 'LASS', 'STRAND']\n"
     ]
    }
   ],
   "source": [
    "print(df_Lied['processed_TEXT'][0])"
   ],
   "metadata": {
    "collapsed": false
   }
  },
  {
   "cell_type": "code",
   "execution_count": 72,
   "outputs": [
    {
     "name": "stdout",
     "output_type": "stream",
     "text": [
      "LASS UNS ZUM STRAND DU WEISST WELCHEN ICH MEIN ICH BRAUCH MAL WIEDER MEER UND SAND  YEAH BRAUCH MAL WIEDERGRUND ZU BLEIBEN  AI DEINE UHR FAELLT INS BLAU WIR SEHEN  WIE DIE ZEIT VERSINKT WIR SETZTEN LANGSAM AUF DAS WASSER SPIEGELGLATT UND BLINKT  WIR WOLLEN DIE SEHNSUCHT NACH MORGEN  WEIL ES HEUTE PERFEKT IS SEHNSUCHT NACH MORGEN  WEIL ES HEUTE PERFEKT IS DU STEHST NEBEN MIR  ZEIGST MIR  DASS ES ECHT IST DIE LICHTER MEINER STADT SIND VERBRANNT LASS UNS ZUM STRAND    KOMM WIR STEIGEN AUS DU LEUCHTEST WIE AUS DIAMANT  YEHE MIT ALL DEM SALZ AUF DER HAUT  AI ICH SEH DICH GESTOCHEN SCHARF ES TUT FAST DEN AUGEN WEH UND ENDLICH BIST DU DA SO HABE ICH DICH NOCH NIE GESEHEN  YEHI  WIR WOLLEN DIE SEHNSUCHT NACH MORGEN  WEIL ES HEUTE PERFEKT IS SEHNSUCHT NACH MORGEN  WEIL ES HEUTE PERFEKT IS DU STEHST NEBEN MIR  ZEIGST MIR  DASS ES ECHT IST DIE LICHTER MEINER STADT SIND VERBRANNT LASS UNS ZUM STRAND   LASS UNS ZUM STRAND DU WEISST WELCHEN ICH MEIN LASS UNS ZUM STRAND  YEAH ICH BRAUCHGRUND ZU BLEIBEN  AI LASS UNS ZUM STRAND DU WEISST WELCHEN ICH MEIN ICH BRAUCH MAL WIEDER MEER UND SAND  YEAH BRAUCH MAL WIEDERGRUND ZU BLEIBEN  OUH LASS UNS ZUM STRAND \n"
     ]
    }
   ],
   "source": [
    "print(df_Lied['TEXT'][0])"
   ],
   "metadata": {
    "collapsed": false
   }
  },
  {
   "cell_type": "markdown",
   "source": [
    "Data Selection"
   ],
   "metadata": {
    "collapsed": false
   }
  },
  {
   "cell_type": "code",
   "execution_count": 75,
   "outputs": [
    {
     "name": "stdout",
     "output_type": "stream",
     "text": [
      "       ID       INTERPRET   TITEL  \\\n",
      "7219  408     Rumpelstilz  Kiosk    \n",
      "7220  408     Rumpelstilz  Kiosk    \n",
      "7763  425  Costa Cordalis  Anita    \n",
      "7762  425  Costa Cordalis  Anita    \n",
      "7761  425  Costa Cordalis  Anita    \n",
      "\n",
      "                                                   TEXT  \\\n",
      "7219  ALSO ER SAMMLE FUER EINEN GUTEN ZWECK  SAGT DE...   \n",
      "7220  ALSO ER SAMMLE FUER EINEN GUTEN ZWECK  SAGT DE...   \n",
      "7763  JVUIOUGIVTOH ICH FAND SIE IRGENDWO  ALLEIN IN ...   \n",
      "7762  JVUIOUGIVTOH ICH FAND SIE IRGENDWO  ALLEIN IN ...   \n",
      "7761  JVUIOUGIVTOH ICH FAND SIE IRGENDWO  ALLEIN IN ...   \n",
      "\n",
      "                                         processed_TEXT  POSITION  DATUM_VON  \\\n",
      "7219  [ALSO, SAMML, FUER, GUT, ZWECK, SAGT, FRITZ, S...        50 2009-03-06   \n",
      "7220  [ALSO, SAMML, FUER, GUT, ZWECK, SAGT, FRITZ, S...         4 1984-10-22   \n",
      "7763  [JVUIOUGIVTOH, FAND, IRGENDWO, ALLEIN, MEXIKO,...        23 2003-08-25   \n",
      "7762  [JVUIOUGIVTOH, FAND, IRGENDWO, ALLEIN, MEXIKO,...        39 2003-07-28   \n",
      "7761  [JVUIOUGIVTOH, FAND, IRGENDWO, ALLEIN, MEXIKO,...        27 2003-07-28   \n",
      "\n",
      "      DATUM_BIS  DAUER  JAHR  MONAT  seasonal?  \n",
      "7219 2009-03-12      6  2009      3        NaN  \n",
      "7220 1984-10-28      6  1984     10        NaN  \n",
      "7763 2003-08-31      6  2003      8        NaN  \n",
      "7762 2003-08-03      6  2003      8        NaN  \n",
      "7761 2003-08-03      6  2003      8        NaN  \n"
     ]
    }
   ],
   "source": [
    "df_Lied.drop(['TEXT_TEIL1','TEXT_TEIL2', 'TEXT_TEIL3', 'TEXT_TEIL4', 'SPRACHE_DEUTSCH'], axis=1, inplace=True)\n",
    "df_Date = df_Chart_Position[['LIED_ID', 'DATUM_VON', 'DATUM_BIS', 'DAUER','JAHR', 'MONAT']]\n",
    "\n",
    "#not used anymore:\n",
    "#df_Chart_Position = df_Chart_Position.groupby('LIED_ID').agg({'POSITION':'mean','DAUER':'sum'}).reset_index()\n",
    "#df_Chart_Position['POSITION'] = df_Chart_Position.POSITION.apply(lambda pos: round(pos))\n",
    "#----\n",
    "\n",
    "df_Lied.sort_values(by='ID', inplace=True)\n",
    "df_Chart_Position.sort_values(by='LIED_ID', inplace=True)\n",
    "df = pd.concat([df_Lied, df_Chart_Position], axis='columns')\n",
    "df.drop('LIED_ID', axis=1, inplace=True)\n",
    "print(df.head())"
   ],
   "metadata": {
    "collapsed": false
   }
  },
  {
   "cell_type": "code",
   "execution_count": 77,
   "outputs": [],
   "source": [
    "df['ANZ_UNIQUE_WOERTER'] = list(len(set(word)) for word in df['processed_TEXT'])\n",
    "df['MAX_WORT_WDH'] = [max(Counter(text).values()) for text in df['processed_TEXT']]\n",
    "df['AVG_WORT_WDH'] = [mean(Counter(text).values()) for text in df['processed_TEXT']]\n",
    "df['LAENGE_LAENGSTES_WORT'] = list(len(max(set(word), key=len)) for word in df['processed_TEXT'])\n",
    "\n",
    "MAX_RANK = 50\n",
    "df['RANK_SCORE'] = MAX_RANK - df['POSITION'] + 1"
   ],
   "metadata": {
    "collapsed": false
   }
  },
  {
   "cell_type": "code",
   "execution_count": 78,
   "outputs": [],
   "source": [
    "titel_List = set(df.TITEL.tolist())\n",
    "for titel in titel_List:\n",
    "    df.loc[df.TITEL == titel,'RANK_SCORE'] = round(mean(df.loc[df.TITEL == titel,'RANK_SCORE'].tolist()))"
   ],
   "metadata": {
    "collapsed": false
   }
  },
  {
   "cell_type": "code",
   "execution_count": 79,
   "outputs": [
    {
     "name": "stdout",
     "output_type": "stream",
     "text": [
      "7219      6\n",
      "7220      6\n",
      "7763     16\n",
      "7762     16\n",
      "7761     16\n",
      "         ..\n",
      "22129    11\n",
      "22014    42\n",
      "22651    28\n",
      "21906    67\n",
      "22150    31\n",
      "Name: MAX_WORT_WDH, Length: 22762, dtype: int64\n"
     ]
    }
   ],
   "source": [
    "print(df['MAX_WORT_WDH'])"
   ],
   "metadata": {
    "collapsed": false
   }
  },
  {
   "cell_type": "markdown",
   "metadata": {},
   "source": [
    "profanity check"
   ]
  },
  {
   "cell_type": "code",
   "execution_count": 80,
   "metadata": {},
   "outputs": [],
   "source": [
    "with open(RAW_DATA_PATH+'german-profanity-list.csv', newline='', encoding='UTF-8') as f:\n",
    "    profanity_list = list(csv.reader(f))\n",
    "\n",
    "profanity.load_words(flatten(profanity_list))\n",
    "\n",
    "for text in df['processed_TEXT']:\n",
    "    profanities = 0\n",
    "    for word in text:\n",
    "        if word.upper() in profanity_list:\n",
    "            profanities +=1\n",
    "            print(word)\n",
    "            print(text)\n",
    "            print(profanities)"
   ]
  },
  {
   "cell_type": "markdown",
   "source": [
    "Percentage of Stopwords"
   ],
   "metadata": {
    "collapsed": false
   }
  },
  {
   "cell_type": "code",
   "execution_count": 81,
   "outputs": [
    {
     "name": "stdout",
     "output_type": "stream",
     "text": [
      "7219    0.00211\n",
      "7220    0.00211\n",
      "7763    0.00189\n",
      "7762    0.00189\n",
      "7761    0.00189\n",
      "7760    0.00189\n",
      "7743    0.00189\n",
      "7744    0.00189\n",
      "7745    0.00189\n",
      "7746    0.00189\n",
      "7747    0.00189\n",
      "7748    0.00189\n",
      "7749    0.00189\n",
      "7751    0.00189\n",
      "7752    0.00189\n",
      "7753    0.00189\n",
      "7754    0.00189\n",
      "7755    0.00189\n",
      "7756    0.00189\n",
      "7757    0.00189\n",
      "Name: STOPWORD_PERCENTAGE, dtype: float64\n"
     ]
    }
   ],
   "source": [
    "df['NUMBER_OF_STOPWORDS'] = df.TEXT.str.split().apply(lambda x: len(set(x) & set(stopwords_list)))\n",
    "df['STOPWORD_PERCENTAGE'] = df.NUMBER_OF_STOPWORDS.apply(lambda row: round(row/len(df['TEXT']), ndigits=5))\n",
    "print(df['STOPWORD_PERCENTAGE'].head(20))"
   ],
   "metadata": {
    "collapsed": false
   }
  },
  {
   "cell_type": "markdown",
   "metadata": {},
   "source": [
    "Sentiment Analysis"
   ]
  },
  {
   "cell_type": "code",
   "execution_count": 82,
   "metadata": {},
   "outputs": [],
   "source": [
    "df['SUBJECTIVITY'] = df.processed_TEXT.apply(lambda text: TextBlob(str(text)).sentiment.subjectivity)\n",
    "df['POLARITY'] = df.processed_TEXT.apply(lambda text: TextBlob(str(text)).sentiment.polarity)"
   ]
  },
  {
   "cell_type": "code",
   "execution_count": 83,
   "outputs": [
    {
     "name": "stdout",
     "output_type": "stream",
     "text": [
      "    ID       INTERPRET   TITEL  \\\n",
      "0  408     Rumpelstilz  Kiosk    \n",
      "1  408     Rumpelstilz  Kiosk    \n",
      "2  425  Costa Cordalis  Anita    \n",
      "3  425  Costa Cordalis  Anita    \n",
      "4  425  Costa Cordalis  Anita    \n",
      "\n",
      "                                                TEXT  \\\n",
      "0  ALSO ER SAMMLE FUER EINEN GUTEN ZWECK  SAGT DE...   \n",
      "1  ALSO ER SAMMLE FUER EINEN GUTEN ZWECK  SAGT DE...   \n",
      "2  JVUIOUGIVTOH ICH FAND SIE IRGENDWO  ALLEIN IN ...   \n",
      "3  JVUIOUGIVTOH ICH FAND SIE IRGENDWO  ALLEIN IN ...   \n",
      "4  JVUIOUGIVTOH ICH FAND SIE IRGENDWO  ALLEIN IN ...   \n",
      "\n",
      "                                      processed_TEXT  POSITION  DATUM_VON  \\\n",
      "0  [ALSO, SAMML, FUER, GUT, ZWECK, SAGT, FRITZ, S...        50 2009-03-06   \n",
      "1  [ALSO, SAMML, FUER, GUT, ZWECK, SAGT, FRITZ, S...         4 1984-10-22   \n",
      "2  [JVUIOUGIVTOH, FAND, IRGENDWO, ALLEIN, MEXIKO,...        23 2003-08-25   \n",
      "3  [JVUIOUGIVTOH, FAND, IRGENDWO, ALLEIN, MEXIKO,...        39 2003-07-28   \n",
      "4  [JVUIOUGIVTOH, FAND, IRGENDWO, ALLEIN, MEXIKO,...        27 2003-07-28   \n",
      "\n",
      "   DATUM_BIS  DAUER  JAHR  ...  seasonal?  ANZ_UNIQUE_WOERTER  MAX_WORT_WDH  \\\n",
      "0 2009-03-12      6  2009  ...        NaN                  83             6   \n",
      "1 1984-10-28      6  1984  ...        NaN                  83             6   \n",
      "2 2003-08-31      6  2003  ...        NaN                  73            16   \n",
      "3 2003-08-03      6  2003  ...        NaN                  73            16   \n",
      "4 2003-08-03      6  2003  ...        NaN                  73            16   \n",
      "\n",
      "   AVG_WORT_WDH  LAENGE_LAENGSTES_WORT  RANK_SCORE  NUMBER_OF_STOPWORDS  \\\n",
      "0      1.277108                     13          24                   48   \n",
      "1      1.277108                     13          24                   48   \n",
      "2      1.931507                     12          27                   43   \n",
      "3      1.931507                     12          27                   43   \n",
      "4      1.931507                     12          27                   43   \n",
      "\n",
      "   STOPWORD_PERCENTAGE  SUBJECTIVITY  POLARITY  \n",
      "0              0.00211           0.4       0.1  \n",
      "1              0.00211           0.4       0.1  \n",
      "2              0.00189           0.0       0.0  \n",
      "3              0.00189           0.0       0.0  \n",
      "4              0.00189           0.0       0.0  \n",
      "\n",
      "[5 rows x 21 columns]\n"
     ]
    }
   ],
   "source": [
    "df.reset_index(inplace=True)\n",
    "df.drop('index',axis=1, inplace=True)\n",
    "print(df.head())"
   ],
   "metadata": {
    "collapsed": false
   }
  },
  {
   "cell_type": "markdown",
   "metadata": {},
   "source": [
    "LDA (BoW) - Title"
   ]
  },
  {
   "cell_type": "code",
   "execution_count": 58,
   "metadata": {},
   "outputs": [],
   "source": []
  },
  {
   "cell_type": "markdown",
   "metadata": {},
   "source": [
    "Named Entity Recognition"
   ]
  },
  {
   "cell_type": "code",
   "execution_count": 32,
   "metadata": {},
   "outputs": [
    {
     "ename": "KeyboardInterrupt",
     "evalue": "",
     "output_type": "error",
     "traceback": [
      "\u001B[1;31m---------------------------------------------------------------------------\u001B[0m",
      "\u001B[1;31mKeyboardInterrupt\u001B[0m                         Traceback (most recent call last)",
      "Cell \u001B[1;32mIn [32], line 1\u001B[0m\n\u001B[1;32m----> 1\u001B[0m test \u001B[38;5;241m=\u001B[39m \u001B[43m[\u001B[49m\u001B[43mword\u001B[49m\u001B[43m \u001B[49m\u001B[38;5;28;43;01mfor\u001B[39;49;00m\u001B[43m \u001B[49m\u001B[43mtext\u001B[49m\u001B[43m \u001B[49m\u001B[38;5;129;43;01min\u001B[39;49;00m\u001B[43m \u001B[49m\u001B[43mdf_Lied\u001B[49m\u001B[43m[\u001B[49m\u001B[38;5;124;43m'\u001B[39;49m\u001B[38;5;124;43mText\u001B[39;49m\u001B[38;5;124;43m'\u001B[39;49m\u001B[43m]\u001B[49m\u001B[43m \u001B[49m\u001B[38;5;28;43;01mfor\u001B[39;49;00m\u001B[43m \u001B[49m\u001B[43mword\u001B[49m\u001B[43m \u001B[49m\u001B[38;5;129;43;01min\u001B[39;49;00m\u001B[43m \u001B[49m\u001B[43mnlp\u001B[49m\u001B[43m(\u001B[49m\u001B[43mtext\u001B[49m\u001B[43m)\u001B[49m\u001B[38;5;241;43m.\u001B[39;49m\u001B[43ments\u001B[49m\u001B[43m]\u001B[49m\n\u001B[0;32m      2\u001B[0m \u001B[38;5;28mprint\u001B[39m(test[\u001B[38;5;241m0\u001B[39m])\n",
      "Cell \u001B[1;32mIn [32], line 1\u001B[0m, in \u001B[0;36m<listcomp>\u001B[1;34m(.0)\u001B[0m\n\u001B[1;32m----> 1\u001B[0m test \u001B[38;5;241m=\u001B[39m [word \u001B[38;5;28;01mfor\u001B[39;00m text \u001B[38;5;129;01min\u001B[39;00m df_Lied[\u001B[38;5;124m'\u001B[39m\u001B[38;5;124mText\u001B[39m\u001B[38;5;124m'\u001B[39m] \u001B[38;5;28;01mfor\u001B[39;00m word \u001B[38;5;129;01min\u001B[39;00m \u001B[43mnlp\u001B[49m\u001B[43m(\u001B[49m\u001B[43mtext\u001B[49m\u001B[43m)\u001B[49m\u001B[38;5;241m.\u001B[39ments]\n\u001B[0;32m      2\u001B[0m \u001B[38;5;28mprint\u001B[39m(test[\u001B[38;5;241m0\u001B[39m])\n",
      "File \u001B[1;32m~\\AppData\\Roaming\\JetBrains\\DataSpell2022.2\\projects\\workspace\\venv\\Lib\\site-packages\\spacy\\language.py:1026\u001B[0m, in \u001B[0;36mLanguage.__call__\u001B[1;34m(self, text, disable, component_cfg)\u001B[0m\n\u001B[0;32m   1024\u001B[0m     error_handler \u001B[38;5;241m=\u001B[39m proc\u001B[38;5;241m.\u001B[39mget_error_handler()\n\u001B[0;32m   1025\u001B[0m \u001B[38;5;28;01mtry\u001B[39;00m:\n\u001B[1;32m-> 1026\u001B[0m     doc \u001B[38;5;241m=\u001B[39m \u001B[43mproc\u001B[49m\u001B[43m(\u001B[49m\u001B[43mdoc\u001B[49m\u001B[43m,\u001B[49m\u001B[43m \u001B[49m\u001B[38;5;241;43m*\u001B[39;49m\u001B[38;5;241;43m*\u001B[39;49m\u001B[43mcomponent_cfg\u001B[49m\u001B[38;5;241;43m.\u001B[39;49m\u001B[43mget\u001B[49m\u001B[43m(\u001B[49m\u001B[43mname\u001B[49m\u001B[43m,\u001B[49m\u001B[43m \u001B[49m\u001B[43m{\u001B[49m\u001B[43m}\u001B[49m\u001B[43m)\u001B[49m\u001B[43m)\u001B[49m  \u001B[38;5;66;03m# type: ignore[call-arg]\u001B[39;00m\n\u001B[0;32m   1027\u001B[0m \u001B[38;5;28;01mexcept\u001B[39;00m \u001B[38;5;167;01mKeyError\u001B[39;00m \u001B[38;5;28;01mas\u001B[39;00m e:\n\u001B[0;32m   1028\u001B[0m     \u001B[38;5;66;03m# This typically happens if a component is not initialized\u001B[39;00m\n\u001B[0;32m   1029\u001B[0m     \u001B[38;5;28;01mraise\u001B[39;00m \u001B[38;5;167;01mValueError\u001B[39;00m(Errors\u001B[38;5;241m.\u001B[39mE109\u001B[38;5;241m.\u001B[39mformat(name\u001B[38;5;241m=\u001B[39mname)) \u001B[38;5;28;01mfrom\u001B[39;00m \u001B[38;5;21;01me\u001B[39;00m\n",
      "File \u001B[1;32m~\\AppData\\Roaming\\JetBrains\\DataSpell2022.2\\projects\\workspace\\venv\\Lib\\site-packages\\spacy\\pipeline\\trainable_pipe.pyx:52\u001B[0m, in \u001B[0;36mspacy.pipeline.trainable_pipe.TrainablePipe.__call__\u001B[1;34m()\u001B[0m\n",
      "File \u001B[1;32m~\\AppData\\Roaming\\JetBrains\\DataSpell2022.2\\projects\\workspace\\venv\\Lib\\site-packages\\spacy\\pipeline\\edit_tree_lemmatizer.py:154\u001B[0m, in \u001B[0;36mEditTreeLemmatizer.predict\u001B[1;34m(self, docs)\u001B[0m\n\u001B[0;32m    152\u001B[0m     \u001B[38;5;28;01massert\u001B[39;00m \u001B[38;5;28mlen\u001B[39m(guesses) \u001B[38;5;241m==\u001B[39m n_docs\n\u001B[0;32m    153\u001B[0m     \u001B[38;5;28;01mreturn\u001B[39;00m guesses\n\u001B[1;32m--> 154\u001B[0m scores \u001B[38;5;241m=\u001B[39m \u001B[38;5;28;43mself\u001B[39;49m\u001B[38;5;241;43m.\u001B[39;49m\u001B[43mmodel\u001B[49m\u001B[38;5;241;43m.\u001B[39;49m\u001B[43mpredict\u001B[49m\u001B[43m(\u001B[49m\u001B[43mdocs\u001B[49m\u001B[43m)\u001B[49m\n\u001B[0;32m    155\u001B[0m \u001B[38;5;28;01massert\u001B[39;00m \u001B[38;5;28mlen\u001B[39m(scores) \u001B[38;5;241m==\u001B[39m n_docs\n\u001B[0;32m    156\u001B[0m guesses \u001B[38;5;241m=\u001B[39m \u001B[38;5;28mself\u001B[39m\u001B[38;5;241m.\u001B[39m_scores2guesses(docs, scores)\n",
      "File \u001B[1;32m~\\AppData\\Roaming\\JetBrains\\DataSpell2022.2\\projects\\workspace\\venv\\Lib\\site-packages\\thinc\\model.py:315\u001B[0m, in \u001B[0;36mModel.predict\u001B[1;34m(self, X)\u001B[0m\n\u001B[0;32m    311\u001B[0m \u001B[38;5;28;01mdef\u001B[39;00m \u001B[38;5;21mpredict\u001B[39m(\u001B[38;5;28mself\u001B[39m, X: InT) \u001B[38;5;241m-\u001B[39m\u001B[38;5;241m>\u001B[39m OutT:\n\u001B[0;32m    312\u001B[0m     \u001B[38;5;124;03m\"\"\"Call the model's `forward` function with `is_train=False`, and return\u001B[39;00m\n\u001B[0;32m    313\u001B[0m \u001B[38;5;124;03m    only the output, instead of the `(output, callback)` tuple.\u001B[39;00m\n\u001B[0;32m    314\u001B[0m \u001B[38;5;124;03m    \"\"\"\u001B[39;00m\n\u001B[1;32m--> 315\u001B[0m     \u001B[38;5;28;01mreturn\u001B[39;00m \u001B[38;5;28;43mself\u001B[39;49m\u001B[38;5;241;43m.\u001B[39;49m\u001B[43m_func\u001B[49m\u001B[43m(\u001B[49m\u001B[38;5;28;43mself\u001B[39;49m\u001B[43m,\u001B[49m\u001B[43m \u001B[49m\u001B[43mX\u001B[49m\u001B[43m,\u001B[49m\u001B[43m \u001B[49m\u001B[43mis_train\u001B[49m\u001B[38;5;241;43m=\u001B[39;49m\u001B[38;5;28;43;01mFalse\u001B[39;49;00m\u001B[43m)\u001B[49m[\u001B[38;5;241m0\u001B[39m]\n",
      "File \u001B[1;32m~\\AppData\\Roaming\\JetBrains\\DataSpell2022.2\\projects\\workspace\\venv\\Lib\\site-packages\\thinc\\layers\\chain.py:55\u001B[0m, in \u001B[0;36mforward\u001B[1;34m(model, X, is_train)\u001B[0m\n\u001B[0;32m     53\u001B[0m callbacks \u001B[38;5;241m=\u001B[39m []\n\u001B[0;32m     54\u001B[0m \u001B[38;5;28;01mfor\u001B[39;00m layer \u001B[38;5;129;01min\u001B[39;00m model\u001B[38;5;241m.\u001B[39mlayers:\n\u001B[1;32m---> 55\u001B[0m     Y, inc_layer_grad \u001B[38;5;241m=\u001B[39m \u001B[43mlayer\u001B[49m\u001B[43m(\u001B[49m\u001B[43mX\u001B[49m\u001B[43m,\u001B[49m\u001B[43m \u001B[49m\u001B[43mis_train\u001B[49m\u001B[38;5;241;43m=\u001B[39;49m\u001B[43mis_train\u001B[49m\u001B[43m)\u001B[49m\n\u001B[0;32m     56\u001B[0m     callbacks\u001B[38;5;241m.\u001B[39mappend(inc_layer_grad)\n\u001B[0;32m     57\u001B[0m     X \u001B[38;5;241m=\u001B[39m Y\n",
      "File \u001B[1;32m~\\AppData\\Roaming\\JetBrains\\DataSpell2022.2\\projects\\workspace\\venv\\Lib\\site-packages\\thinc\\model.py:291\u001B[0m, in \u001B[0;36mModel.__call__\u001B[1;34m(self, X, is_train)\u001B[0m\n\u001B[0;32m    288\u001B[0m \u001B[38;5;28;01mdef\u001B[39;00m \u001B[38;5;21m__call__\u001B[39m(\u001B[38;5;28mself\u001B[39m, X: InT, is_train: \u001B[38;5;28mbool\u001B[39m) \u001B[38;5;241m-\u001B[39m\u001B[38;5;241m>\u001B[39m Tuple[OutT, Callable]:\n\u001B[0;32m    289\u001B[0m     \u001B[38;5;124;03m\"\"\"Call the model's `forward` function, returning the output and a\u001B[39;00m\n\u001B[0;32m    290\u001B[0m \u001B[38;5;124;03m    callback to compute the gradients via backpropagation.\"\"\"\u001B[39;00m\n\u001B[1;32m--> 291\u001B[0m     \u001B[38;5;28;01mreturn\u001B[39;00m \u001B[38;5;28;43mself\u001B[39;49m\u001B[38;5;241;43m.\u001B[39;49m\u001B[43m_func\u001B[49m\u001B[43m(\u001B[49m\u001B[38;5;28;43mself\u001B[39;49m\u001B[43m,\u001B[49m\u001B[43m \u001B[49m\u001B[43mX\u001B[49m\u001B[43m,\u001B[49m\u001B[43m \u001B[49m\u001B[43mis_train\u001B[49m\u001B[38;5;241;43m=\u001B[39;49m\u001B[43mis_train\u001B[49m\u001B[43m)\u001B[49m\n",
      "File \u001B[1;32m~\\AppData\\Roaming\\JetBrains\\DataSpell2022.2\\projects\\workspace\\venv\\Lib\\site-packages\\thinc\\layers\\with_array.py:38\u001B[0m, in \u001B[0;36mforward\u001B[1;34m(model, Xseq, is_train)\u001B[0m\n\u001B[0;32m     36\u001B[0m     \u001B[38;5;28;01mreturn\u001B[39;00m model\u001B[38;5;241m.\u001B[39mlayers[\u001B[38;5;241m0\u001B[39m](Xseq, is_train)\n\u001B[0;32m     37\u001B[0m \u001B[38;5;28;01melse\u001B[39;00m:\n\u001B[1;32m---> 38\u001B[0m     \u001B[38;5;28;01mreturn\u001B[39;00m cast(Tuple[SeqT, Callable], \u001B[43m_list_forward\u001B[49m\u001B[43m(\u001B[49m\u001B[43mmodel\u001B[49m\u001B[43m,\u001B[49m\u001B[43m \u001B[49m\u001B[43mXseq\u001B[49m\u001B[43m,\u001B[49m\u001B[43m \u001B[49m\u001B[43mis_train\u001B[49m\u001B[43m)\u001B[49m)\n",
      "File \u001B[1;32m~\\AppData\\Roaming\\JetBrains\\DataSpell2022.2\\projects\\workspace\\venv\\Lib\\site-packages\\thinc\\layers\\with_array.py:73\u001B[0m, in \u001B[0;36m_list_forward\u001B[1;34m(model, Xs, is_train)\u001B[0m\n\u001B[0;32m     71\u001B[0m lengths \u001B[38;5;241m=\u001B[39m layer\u001B[38;5;241m.\u001B[39mops\u001B[38;5;241m.\u001B[39masarray1i([\u001B[38;5;28mlen\u001B[39m(seq) \u001B[38;5;28;01mfor\u001B[39;00m seq \u001B[38;5;129;01min\u001B[39;00m Xs])\n\u001B[0;32m     72\u001B[0m Xf \u001B[38;5;241m=\u001B[39m layer\u001B[38;5;241m.\u001B[39mops\u001B[38;5;241m.\u001B[39mflatten(Xs, pad\u001B[38;5;241m=\u001B[39mpad)\n\u001B[1;32m---> 73\u001B[0m Yf, get_dXf \u001B[38;5;241m=\u001B[39m \u001B[43mlayer\u001B[49m\u001B[43m(\u001B[49m\u001B[43mXf\u001B[49m\u001B[43m,\u001B[49m\u001B[43m \u001B[49m\u001B[43mis_train\u001B[49m\u001B[43m)\u001B[49m\n\u001B[0;32m     75\u001B[0m \u001B[38;5;28;01mdef\u001B[39;00m \u001B[38;5;21mbackprop\u001B[39m(dYs: ListXd) \u001B[38;5;241m-\u001B[39m\u001B[38;5;241m>\u001B[39m ListXd:\n\u001B[0;32m     76\u001B[0m     dYf \u001B[38;5;241m=\u001B[39m layer\u001B[38;5;241m.\u001B[39mops\u001B[38;5;241m.\u001B[39mflatten(dYs, pad\u001B[38;5;241m=\u001B[39mpad)\n",
      "File \u001B[1;32m~\\AppData\\Roaming\\JetBrains\\DataSpell2022.2\\projects\\workspace\\venv\\Lib\\site-packages\\thinc\\model.py:291\u001B[0m, in \u001B[0;36mModel.__call__\u001B[1;34m(self, X, is_train)\u001B[0m\n\u001B[0;32m    288\u001B[0m \u001B[38;5;28;01mdef\u001B[39;00m \u001B[38;5;21m__call__\u001B[39m(\u001B[38;5;28mself\u001B[39m, X: InT, is_train: \u001B[38;5;28mbool\u001B[39m) \u001B[38;5;241m-\u001B[39m\u001B[38;5;241m>\u001B[39m Tuple[OutT, Callable]:\n\u001B[0;32m    289\u001B[0m     \u001B[38;5;124;03m\"\"\"Call the model's `forward` function, returning the output and a\u001B[39;00m\n\u001B[0;32m    290\u001B[0m \u001B[38;5;124;03m    callback to compute the gradients via backpropagation.\"\"\"\u001B[39;00m\n\u001B[1;32m--> 291\u001B[0m     \u001B[38;5;28;01mreturn\u001B[39;00m \u001B[38;5;28;43mself\u001B[39;49m\u001B[38;5;241;43m.\u001B[39;49m\u001B[43m_func\u001B[49m\u001B[43m(\u001B[49m\u001B[38;5;28;43mself\u001B[39;49m\u001B[43m,\u001B[49m\u001B[43m \u001B[49m\u001B[43mX\u001B[49m\u001B[43m,\u001B[49m\u001B[43m \u001B[49m\u001B[43mis_train\u001B[49m\u001B[38;5;241;43m=\u001B[39;49m\u001B[43mis_train\u001B[49m\u001B[43m)\u001B[49m\n",
      "File \u001B[1;32m~\\AppData\\Roaming\\JetBrains\\DataSpell2022.2\\projects\\workspace\\venv\\Lib\\site-packages\\thinc\\layers\\softmax.py:64\u001B[0m, in \u001B[0;36mforward\u001B[1;34m(model, X, is_train)\u001B[0m\n\u001B[0;32m     62\u001B[0m W \u001B[38;5;241m=\u001B[39m cast(Floats2d, model\u001B[38;5;241m.\u001B[39mget_param(\u001B[38;5;124m\"\u001B[39m\u001B[38;5;124mW\u001B[39m\u001B[38;5;124m\"\u001B[39m))\n\u001B[0;32m     63\u001B[0m b \u001B[38;5;241m=\u001B[39m cast(Floats1d, model\u001B[38;5;241m.\u001B[39mget_param(\u001B[38;5;124m\"\u001B[39m\u001B[38;5;124mb\u001B[39m\u001B[38;5;124m\"\u001B[39m))\n\u001B[1;32m---> 64\u001B[0m Y \u001B[38;5;241m=\u001B[39m \u001B[43mmodel\u001B[49m\u001B[38;5;241;43m.\u001B[39;49m\u001B[43mops\u001B[49m\u001B[38;5;241;43m.\u001B[39;49m\u001B[43maffine\u001B[49m\u001B[43m(\u001B[49m\u001B[43mX\u001B[49m\u001B[43m,\u001B[49m\u001B[43m \u001B[49m\u001B[43mW\u001B[49m\u001B[43m,\u001B[49m\u001B[43m \u001B[49m\u001B[43mb\u001B[49m\u001B[43m)\u001B[49m\n\u001B[0;32m     66\u001B[0m \u001B[38;5;28;01mif\u001B[39;00m normalize:\n\u001B[0;32m     67\u001B[0m     Y \u001B[38;5;241m=\u001B[39m model\u001B[38;5;241m.\u001B[39mops\u001B[38;5;241m.\u001B[39msoftmax(Y, temperature\u001B[38;5;241m=\u001B[39mtemperature)\n",
      "File \u001B[1;32m~\\AppData\\Roaming\\JetBrains\\DataSpell2022.2\\projects\\workspace\\venv\\Lib\\site-packages\\thinc\\backends\\ops.py:228\u001B[0m, in \u001B[0;36mOps.affine\u001B[1;34m(self, X, W, b)\u001B[0m\n\u001B[0;32m    224\u001B[0m \u001B[38;5;28;01mdef\u001B[39;00m \u001B[38;5;21maffine\u001B[39m(\u001B[38;5;28mself\u001B[39m, X: Floats2d, W: Floats2d, b: Floats1d) \u001B[38;5;241m-\u001B[39m\u001B[38;5;241m>\u001B[39m Floats2d:\n\u001B[0;32m    225\u001B[0m     \u001B[38;5;124;03m\"\"\"Apply a weights layer and a bias to some inputs, i.e.\u001B[39;00m\n\u001B[0;32m    226\u001B[0m \u001B[38;5;124;03m    Y = X @ W.T + b\u001B[39;00m\n\u001B[0;32m    227\u001B[0m \u001B[38;5;124;03m    \"\"\"\u001B[39;00m\n\u001B[1;32m--> 228\u001B[0m     Y \u001B[38;5;241m=\u001B[39m \u001B[38;5;28;43mself\u001B[39;49m\u001B[38;5;241;43m.\u001B[39;49m\u001B[43mgemm\u001B[49m\u001B[43m(\u001B[49m\u001B[43mX\u001B[49m\u001B[43m,\u001B[49m\u001B[43m \u001B[49m\u001B[43mW\u001B[49m\u001B[43m,\u001B[49m\u001B[43m \u001B[49m\u001B[43mtrans2\u001B[49m\u001B[38;5;241;43m=\u001B[39;49m\u001B[38;5;28;43;01mTrue\u001B[39;49;00m\u001B[43m)\u001B[49m\n\u001B[0;32m    229\u001B[0m     Y \u001B[38;5;241m+\u001B[39m\u001B[38;5;241m=\u001B[39m b\n\u001B[0;32m    230\u001B[0m     \u001B[38;5;28;01mreturn\u001B[39;00m Y\n",
      "\u001B[1;31mKeyboardInterrupt\u001B[0m: "
     ]
    }
   ],
   "source": [
    "test = [word for text in df_Lied['TEXT'] for word in nlp(text).ents]\n",
    "print(test[0])"
   ]
  },
  {
   "cell_type": "markdown",
   "metadata": {},
   "source": [
    "Readability analysis"
   ]
  },
  {
   "cell_type": "code",
   "execution_count": 31,
   "metadata": {},
   "outputs": [
    {
     "data": {
      "text/plain": "     ID          INTERPRET                                TITEL  \\\n0   408        Rumpelstilz                               Kiosk    \n1   408        Rumpelstilz                               Kiosk    \n2   425     Costa Cordalis                               Anita    \n3   425     Costa Cordalis                               Anita    \n4   425     Costa Cordalis                               Anita    \n5   425     Costa Cordalis                               Anita    \n6   425     Costa Cordalis                               Anita    \n7   425     Costa Cordalis                               Anita    \n8   425     Costa Cordalis                               Anita    \n9   425     Costa Cordalis                               Anita    \n10  425     Costa Cordalis                               Anita    \n11  425     Costa Cordalis                               Anita    \n12  425     Costa Cordalis                               Anita    \n13  425     Costa Cordalis                               Anita    \n14  425     Costa Cordalis                               Anita    \n15  425     Costa Cordalis                               Anita    \n16  425     Costa Cordalis                               Anita    \n17  425     Costa Cordalis                               Anita    \n18  425     Costa Cordalis                               Anita    \n19  425     Costa Cordalis                               Anita    \n20  425     Costa Cordalis                               Anita    \n21  425     Costa Cordalis                               Anita    \n22  425     Costa Cordalis                               Anita    \n23  428       Peter Maffay                   Und es war Sommer    \n24  428       Peter Maffay                   Und es war Sommer    \n25  428       Peter Maffay                   Und es war Sommer    \n26  428       Peter Maffay                   Und es war Sommer    \n27  428       Peter Maffay                   Und es war Sommer    \n28  428       Peter Maffay                   Und es war Sommer    \n29  428       Peter Maffay                   Und es war Sommer    \n30  428       Peter Maffay                   Und es war Sommer    \n31  428       Peter Maffay                   Und es war Sommer    \n32  428       Peter Maffay                   Und es war Sommer    \n33  434  Howard Carpendale                Tür an Tür mit Alice    \n34  434  Howard Carpendale                Tür an Tür mit Alice    \n35  434  Howard Carpendale                Tür an Tür mit Alice    \n36  434  Howard Carpendale                Tür an Tür mit Alice    \n37  434  Howard Carpendale                Tür an Tür mit Alice    \n38  434  Howard Carpendale                Tür an Tür mit Alice    \n39  434  Howard Carpendale                Tür an Tür mit Alice    \n40  434  Howard Carpendale                Tür an Tür mit Alice    \n41  434  Howard Carpendale                Tür an Tür mit Alice    \n42  434  Howard Carpendale                Tür an Tür mit Alice    \n43  434  Howard Carpendale                Tür an Tür mit Alice    \n44  434  Howard Carpendale                Tür an Tür mit Alice    \n45  434  Howard Carpendale                Tür an Tür mit Alice    \n46  434  Howard Carpendale                Tür an Tür mit Alice    \n47  434  Howard Carpendale                Tür an Tür mit Alice    \n48  434  Howard Carpendale                Tür an Tür mit Alice    \n49  437     Vicky Leandros  Auf dem Mond da blühen keine Rosen    \n\n                                                 Text  \\\n0   ALSO ER SAMMLE FUER EINEN GUTEN ZWECK  SAGT DE...   \n1   ALSO ER SAMMLE FUER EINEN GUTEN ZWECK  SAGT DE...   \n2   JVUIOUGIVTOH ICH FAND SIE IRGENDWO  ALLEIN IN ...   \n3   JVUIOUGIVTOH ICH FAND SIE IRGENDWO  ALLEIN IN ...   \n4   JVUIOUGIVTOH ICH FAND SIE IRGENDWO  ALLEIN IN ...   \n5   JVUIOUGIVTOH ICH FAND SIE IRGENDWO  ALLEIN IN ...   \n6   JVUIOUGIVTOH ICH FAND SIE IRGENDWO  ALLEIN IN ...   \n7   JVUIOUGIVTOH ICH FAND SIE IRGENDWO  ALLEIN IN ...   \n8   JVUIOUGIVTOH ICH FAND SIE IRGENDWO  ALLEIN IN ...   \n9   JVUIOUGIVTOH ICH FAND SIE IRGENDWO  ALLEIN IN ...   \n10  JVUIOUGIVTOH ICH FAND SIE IRGENDWO  ALLEIN IN ...   \n11  JVUIOUGIVTOH ICH FAND SIE IRGENDWO  ALLEIN IN ...   \n12  JVUIOUGIVTOH ICH FAND SIE IRGENDWO  ALLEIN IN ...   \n13  JVUIOUGIVTOH ICH FAND SIE IRGENDWO  ALLEIN IN ...   \n14  JVUIOUGIVTOH ICH FAND SIE IRGENDWO  ALLEIN IN ...   \n15  JVUIOUGIVTOH ICH FAND SIE IRGENDWO  ALLEIN IN ...   \n16  JVUIOUGIVTOH ICH FAND SIE IRGENDWO  ALLEIN IN ...   \n17  JVUIOUGIVTOH ICH FAND SIE IRGENDWO  ALLEIN IN ...   \n18  JVUIOUGIVTOH ICH FAND SIE IRGENDWO  ALLEIN IN ...   \n19  JVUIOUGIVTOH ICH FAND SIE IRGENDWO  ALLEIN IN ...   \n20  JVUIOUGIVTOH ICH FAND SIE IRGENDWO  ALLEIN IN ...   \n21  JVUIOUGIVTOH ICH FAND SIE IRGENDWO  ALLEIN IN ...   \n22  JVUIOUGIVTOH ICH FAND SIE IRGENDWO  ALLEIN IN ...   \n23  ES WAR EIN SCHOENER TAG DER LETZTE IM AUGUST D...   \n24  ES WAR EIN SCHOENER TAG DER LETZTE IM AUGUST D...   \n25  ES WAR EIN SCHOENER TAG DER LETZTE IM AUGUST D...   \n26  ES WAR EIN SCHOENER TAG DER LETZTE IM AUGUST D...   \n27  ES WAR EIN SCHOENER TAG DER LETZTE IM AUGUST D...   \n28  ES WAR EIN SCHOENER TAG DER LETZTE IM AUGUST D...   \n29  ES WAR EIN SCHOENER TAG DER LETZTE IM AUGUST D...   \n30  ES WAR EIN SCHOENER TAG DER LETZTE IM AUGUST D...   \n31  ES WAR EIN SCHOENER TAG DER LETZTE IM AUGUST D...   \n32  ES WAR EIN SCHOENER TAG DER LETZTE IM AUGUST D...   \n33  EIN FREUND RIEF AN  MIT LEISEM TON SAGT ER ER ...   \n34  EIN FREUND RIEF AN  MIT LEISEM TON SAGT ER ER ...   \n35  EIN FREUND RIEF AN  MIT LEISEM TON SAGT ER ER ...   \n36  EIN FREUND RIEF AN  MIT LEISEM TON SAGT ER ER ...   \n37  EIN FREUND RIEF AN  MIT LEISEM TON SAGT ER ER ...   \n38  EIN FREUND RIEF AN  MIT LEISEM TON SAGT ER ER ...   \n39  EIN FREUND RIEF AN  MIT LEISEM TON SAGT ER ER ...   \n40  EIN FREUND RIEF AN  MIT LEISEM TON SAGT ER ER ...   \n41  EIN FREUND RIEF AN  MIT LEISEM TON SAGT ER ER ...   \n42  EIN FREUND RIEF AN  MIT LEISEM TON SAGT ER ER ...   \n43  EIN FREUND RIEF AN  MIT LEISEM TON SAGT ER ER ...   \n44  EIN FREUND RIEF AN  MIT LEISEM TON SAGT ER ER ...   \n45  EIN FREUND RIEF AN  MIT LEISEM TON SAGT ER ER ...   \n46  EIN FREUND RIEF AN  MIT LEISEM TON SAGT ER ER ...   \n47  EIN FREUND RIEF AN  MIT LEISEM TON SAGT ER ER ...   \n48  EIN FREUND RIEF AN  MIT LEISEM TON SAGT ER ER ...   \n49  WENN EIN ASTRONAUT MIR SAGTE   KOMM  ICH FAHR ...   \n\n                                       processed_Text  POSITION  DATUM_VON  \\\n0   [ALSO, SAMMLE, FUER, GUT, ZWECK, SAGEN, FRITZ,...        50 2009-03-06   \n1   [ALSO, SAMMLE, FUER, GUT, ZWECK, SAGEN, FRITZ,...         4 1984-10-22   \n2   [JVUIOUGIVTOH, FINDEN, IRGENDWO, ALLEIN, MEXIK...        23 2003-08-25   \n3   [JVUIOUGIVTOH, FINDEN, IRGENDWO, ALLEIN, MEXIK...        39 2003-07-28   \n4   [JVUIOUGIVTOH, FINDEN, IRGENDWO, ALLEIN, MEXIK...        27 2003-07-28   \n5   [JVUIOUGIVTOH, FINDEN, IRGENDWO, ALLEIN, MEXIK...        19 2003-07-28   \n6   [JVUIOUGIVTOH, FINDEN, IRGENDWO, ALLEIN, MEXIK...        18 2016-07-08   \n7   [JVUIOUGIVTOH, FINDEN, IRGENDWO, ALLEIN, MEXIK...        37 2016-07-08   \n8   [JVUIOUGIVTOH, FINDEN, IRGENDWO, ALLEIN, MEXIK...        20 2016-09-16   \n9   [JVUIOUGIVTOH, FINDEN, IRGENDWO, ALLEIN, MEXIK...        18 2016-09-23   \n10  [JVUIOUGIVTOH, FINDEN, IRGENDWO, ALLEIN, MEXIK...        26 2016-10-14   \n11  [JVUIOUGIVTOH, FINDEN, IRGENDWO, ALLEIN, MEXIK...        28 2016-10-14   \n12  [JVUIOUGIVTOH, FINDEN, IRGENDWO, ALLEIN, MEXIK...        41 2012-09-21   \n13  [JVUIOUGIVTOH, FINDEN, IRGENDWO, ALLEIN, MEXIK...        26 2012-10-05   \n14  [JVUIOUGIVTOH, FINDEN, IRGENDWO, ALLEIN, MEXIK...        31 2012-10-05   \n15  [JVUIOUGIVTOH, FINDEN, IRGENDWO, ALLEIN, MEXIK...        47 2012-10-12   \n16  [JVUIOUGIVTOH, FINDEN, IRGENDWO, ALLEIN, MEXIK...        35 2012-10-19   \n17  [JVUIOUGIVTOH, FINDEN, IRGENDWO, ALLEIN, MEXIK...         4 2012-10-26   \n18  [JVUIOUGIVTOH, FINDEN, IRGENDWO, ALLEIN, MEXIK...        23 2012-11-30   \n19  [JVUIOUGIVTOH, FINDEN, IRGENDWO, ALLEIN, MEXIK...        15 2012-12-07   \n20  [JVUIOUGIVTOH, FINDEN, IRGENDWO, ALLEIN, MEXIK...        15 2003-07-21   \n21  [JVUIOUGIVTOH, FINDEN, IRGENDWO, ALLEIN, MEXIK...         2 2003-07-28   \n22  [JVUIOUGIVTOH, FINDEN, IRGENDWO, ALLEIN, MEXIK...        16 2012-10-05   \n23  [SCHOEN, TAG, LETZTER, AUGUST, SONNE, BRENN, H...        36 2010-04-23   \n24  [SCHOEN, TAG, LETZTER, AUGUST, SONNE, BRENN, H...        18 2010-04-16   \n25  [SCHOEN, TAG, LETZTER, AUGUST, SONNE, BRENN, H...        19 2010-02-12   \n26  [SCHOEN, TAG, LETZTER, AUGUST, SONNE, BRENN, H...        31 2010-02-19   \n27  [SCHOEN, TAG, LETZTER, AUGUST, SONNE, BRENN, H...        49 2010-02-19   \n28  [SCHOEN, TAG, LETZTER, AUGUST, SONNE, BRENN, H...        24 2010-03-05   \n29  [SCHOEN, TAG, LETZTER, AUGUST, SONNE, BRENN, H...        13 2010-03-12   \n30  [SCHOEN, TAG, LETZTER, AUGUST, SONNE, BRENN, H...        43 2010-04-09   \n31  [SCHOEN, TAG, LETZTER, AUGUST, SONNE, BRENN, H...        45 2010-04-09   \n32  [SCHOEN, TAG, LETZTER, AUGUST, SONNE, BRENN, H...        25 2010-02-19   \n33  [FREUND, RUFE, LEISEM, TON, SAGEN, WEISST, WOH...        32 2006-11-24   \n34  [FREUND, RUFE, LEISEM, TON, SAGEN, WEISST, WOH...        34 2006-09-29   \n35  [FREUND, RUFE, LEISEM, TON, SAGEN, WEISST, WOH...        14 2006-10-06   \n36  [FREUND, RUFE, LEISEM, TON, SAGEN, WEISST, WOH...        17 2006-10-20   \n37  [FREUND, RUFE, LEISEM, TON, SAGEN, WEISST, WOH...        23 2006-10-20   \n38  [FREUND, RUFE, LEISEM, TON, SAGEN, WEISST, WOH...        26 2006-11-03   \n39  [FREUND, RUFE, LEISEM, TON, SAGEN, WEISST, WOH...         1 2006-12-08   \n40  [FREUND, RUFE, LEISEM, TON, SAGEN, WEISST, WOH...        49 2006-12-08   \n41  [FREUND, RUFE, LEISEM, TON, SAGEN, WEISST, WOH...        40 2006-12-15   \n42  [FREUND, RUFE, LEISEM, TON, SAGEN, WEISST, WOH...         1 2006-11-17   \n43  [FREUND, RUFE, LEISEM, TON, SAGEN, WEISST, WOH...         2 2006-11-17   \n44  [FREUND, RUFE, LEISEM, TON, SAGEN, WEISST, WOH...         1 2007-02-09   \n45  [FREUND, RUFE, LEISEM, TON, SAGEN, WEISST, WOH...        26 2007-01-12   \n46  [FREUND, RUFE, LEISEM, TON, SAGEN, WEISST, WOH...        38 2007-01-12   \n47  [FREUND, RUFE, LEISEM, TON, SAGEN, WEISST, WOH...        47 2007-02-02   \n48  [FREUND, RUFE, LEISEM, TON, SAGEN, WEISST, WOH...        34 2007-01-26   \n49  [ASTRONAUT, SAGEN, KOMM, FAHR, MOND, STEIG, DO...        20 1981-08-31   \n\n    DATUM_BIS  DAUER  Jahr  ...  seasonal? ANZ_UNIQUE_WOERTER  \\\n0  2009-03-12      6  2009  ...      False                 82   \n1  1984-10-28      6  1984  ...      False                 82   \n2  2003-08-31      6  2003  ...      False                 74   \n3  2003-08-03      6  2003  ...      False                 74   \n4  2003-08-03      6  2003  ...      False                 74   \n5  2003-08-03      6  2003  ...      False                 74   \n6  2016-07-14      6  2016  ...      False                 74   \n7  2016-07-14      6  2016  ...      False                 74   \n8  2016-09-22      6  2016  ...      False                 74   \n9  2016-09-29      6  2016  ...      False                 74   \n10 2016-10-20      6  2016  ...      False                 74   \n11 2016-10-20      6  2016  ...      False                 74   \n12 2012-09-27      6  2012  ...      False                 74   \n13 2012-10-11      6  2012  ...      False                 74   \n14 2012-10-11      6  2012  ...      False                 74   \n15 2012-10-18      6  2012  ...      False                 74   \n16 2012-10-25      6  2012  ...      False                 74   \n17 2012-11-01      6  2012  ...      False                 74   \n18 2012-12-06      6  2012  ...      False                 74   \n19 2012-12-13      6  2012  ...      False                 74   \n20 2003-07-27      6  2003  ...      False                 74   \n21 2003-08-03      6  2003  ...      False                 74   \n22 2012-10-11      6  2012  ...      False                 74   \n23 2010-04-29      6  2010  ...      False                 68   \n24 2010-04-22      6  2010  ...      False                 68   \n25 2010-02-18      6  2010  ...      False                 68   \n26 2010-02-25      6  2010  ...      False                 68   \n27 2010-02-25      6  2010  ...      False                 68   \n28 2010-03-11      6  2010  ...      False                 68   \n29 2010-03-18      6  2010  ...      False                 68   \n30 2010-04-15      6  2010  ...      False                 68   \n31 2010-04-15      6  2010  ...      False                 68   \n32 2010-02-25      6  2010  ...      False                 68   \n33 2006-11-30      6  2006  ...      False                 56   \n34 2006-10-05      6  2006  ...      False                 56   \n35 2006-10-12      6  2006  ...      False                 56   \n36 2006-10-26      6  2006  ...      False                 56   \n37 2006-10-26      6  2006  ...      False                 56   \n38 2006-11-09      6  2006  ...      False                 56   \n39 2006-12-14      6  2006  ...      False                 56   \n40 2006-12-14      6  2006  ...      False                 56   \n41 2006-12-21      6  2006  ...      False                 56   \n42 2006-11-23      6  2006  ...      False                 56   \n43 2006-11-23      6  2006  ...      False                 56   \n44 2007-02-15      6  2007  ...      False                 56   \n45 2007-01-18      6  2007  ...      False                 56   \n46 2007-01-18      6  2007  ...      False                 56   \n47 2007-02-08      6  2007  ...      False                 56   \n48 2007-02-01      6  2007  ...      False                 56   \n49 1981-09-06      6  1981  ...      False                 48   \n\n    LAENGE_LAENGSTES_WORT  RANK_SCORE  Number_of_Stopwords  \\\n0                      15           1                   48   \n1                      15          47                   48   \n2                      12          28                   43   \n3                      12          12                   43   \n4                      12          24                   43   \n5                      12          32                   43   \n6                      12          33                   43   \n7                      12          14                   43   \n8                      12          31                   43   \n9                      12          33                   43   \n10                     12          25                   43   \n11                     12          23                   43   \n12                     12          10                   43   \n13                     12          25                   43   \n14                     12          20                   43   \n15                     12           4                   43   \n16                     12          16                   43   \n17                     12          47                   43   \n18                     12          28                   43   \n19                     12          36                   43   \n20                     12          36                   43   \n21                     12          49                   43   \n22                     12          35                   43   \n23                     14          15                   47   \n24                     14          33                   47   \n25                     14          32                   47   \n26                     14          20                   47   \n27                     14           2                   47   \n28                     14          27                   47   \n29                     14          38                   47   \n30                     14           8                   47   \n31                     14           6                   47   \n32                     14          26                   47   \n33                     12          19                   39   \n34                     12          17                   39   \n35                     12          37                   39   \n36                     12          34                   39   \n37                     12          28                   39   \n38                     12          25                   39   \n39                     12          50                   39   \n40                     12           2                   39   \n41                     12          11                   39   \n42                     12          50                   39   \n43                     12          49                   39   \n44                     12          50                   39   \n45                     12          25                   39   \n46                     12          13                   39   \n47                     12           4                   39   \n48                     12          17                   39   \n49                     12          31                   39   \n\n    Stopword_Percentage  SUBJEKTIVITY  POLARITY       processed_Title  \\\n0               0.00211          0.40       0.1               [Kiosk]   \n1               0.00211          0.40       0.1               [Kiosk]   \n2               0.00189          0.00       0.0               [Anita]   \n3               0.00189          0.00       0.0               [Anita]   \n4               0.00189          0.00       0.0               [Anita]   \n5               0.00189          0.00       0.0               [Anita]   \n6               0.00189          0.00       0.0               [Anita]   \n7               0.00189          0.00       0.0               [Anita]   \n8               0.00189          0.00       0.0               [Anita]   \n9               0.00189          0.00       0.0               [Anita]   \n10              0.00189          0.00       0.0               [Anita]   \n11              0.00189          0.00       0.0               [Anita]   \n12              0.00189          0.00       0.0               [Anita]   \n13              0.00189          0.00       0.0               [Anita]   \n14              0.00189          0.00       0.0               [Anita]   \n15              0.00189          0.00       0.0               [Anita]   \n16              0.00189          0.00       0.0               [Anita]   \n17              0.00189          0.00       0.0               [Anita]   \n18              0.00189          0.00       0.0               [Anita]   \n19              0.00189          0.00       0.0               [Anita]   \n20              0.00189          0.00       0.0               [Anita]   \n21              0.00189          0.00       0.0               [Anita]   \n22              0.00189          0.00       0.0               [Anita]   \n23              0.00206          0.90       0.6              [Sommer]   \n24              0.00206          0.90       0.6              [Sommer]   \n25              0.00206          0.90       0.6              [Sommer]   \n26              0.00206          0.90       0.6              [Sommer]   \n27              0.00206          0.90       0.6              [Sommer]   \n28              0.00206          0.90       0.6              [Sommer]   \n29              0.00206          0.90       0.6              [Sommer]   \n30              0.00206          0.90       0.6              [Sommer]   \n31              0.00206          0.90       0.6              [Sommer]   \n32              0.00206          0.90       0.6              [Sommer]   \n33              0.00171          0.60       0.2     [Tür, Tür, Alice]   \n34              0.00171          0.60       0.2     [Tür, Tür, Alice]   \n35              0.00171          0.60       0.2     [Tür, Tür, Alice]   \n36              0.00171          0.60       0.2     [Tür, Tür, Alice]   \n37              0.00171          0.60       0.2     [Tür, Tür, Alice]   \n38              0.00171          0.60       0.2     [Tür, Tür, Alice]   \n39              0.00171          0.60       0.2     [Tür, Tür, Alice]   \n40              0.00171          0.60       0.2     [Tür, Tür, Alice]   \n41              0.00171          0.60       0.2     [Tür, Tür, Alice]   \n42              0.00171          0.60       0.2     [Tür, Tür, Alice]   \n43              0.00171          0.60       0.2     [Tür, Tür, Alice]   \n44              0.00171          0.60       0.2     [Tür, Tür, Alice]   \n45              0.00171          0.60       0.2     [Tür, Tür, Alice]   \n46              0.00171          0.60       0.2     [Tür, Tür, Alice]   \n47              0.00171          0.60       0.2     [Tür, Tür, Alice]   \n48              0.00171          0.60       0.2     [Tür, Tür, Alice]   \n49              0.00171          0.95       0.6  [Mond, blühen, Rose]   \n\n   Title_length  \n0             6  \n1             6  \n2             6  \n3             6  \n4             6  \n5             6  \n6             6  \n7             6  \n8             6  \n9             6  \n10            6  \n11            6  \n12            6  \n13            6  \n14            6  \n15            6  \n16            6  \n17            6  \n18            6  \n19            6  \n20            6  \n21            6  \n22            6  \n23           18  \n24           18  \n25           18  \n26           18  \n27           18  \n28           18  \n29           18  \n30           18  \n31           18  \n32           18  \n33           21  \n34           21  \n35           21  \n36           21  \n37           21  \n38           21  \n39           21  \n40           21  \n41           21  \n42           21  \n43           21  \n44           21  \n45           21  \n46           21  \n47           21  \n48           21  \n49           35  \n\n[50 rows x 21 columns]",
      "text/html": "<div>\n<style scoped>\n    .dataframe tbody tr th:only-of-type {\n        vertical-align: middle;\n    }\n\n    .dataframe tbody tr th {\n        vertical-align: top;\n    }\n\n    .dataframe thead th {\n        text-align: right;\n    }\n</style>\n<table border=\"1\" class=\"dataframe\">\n  <thead>\n    <tr style=\"text-align: right;\">\n      <th></th>\n      <th>ID</th>\n      <th>INTERPRET</th>\n      <th>TITEL</th>\n      <th>Text</th>\n      <th>processed_Text</th>\n      <th>POSITION</th>\n      <th>DATUM_VON</th>\n      <th>DATUM_BIS</th>\n      <th>DAUER</th>\n      <th>Jahr</th>\n      <th>...</th>\n      <th>seasonal?</th>\n      <th>ANZ_UNIQUE_WOERTER</th>\n      <th>LAENGE_LAENGSTES_WORT</th>\n      <th>RANK_SCORE</th>\n      <th>Number_of_Stopwords</th>\n      <th>Stopword_Percentage</th>\n      <th>SUBJEKTIVITY</th>\n      <th>POLARITY</th>\n      <th>processed_Title</th>\n      <th>Title_length</th>\n    </tr>\n  </thead>\n  <tbody>\n    <tr>\n      <th>0</th>\n      <td>408</td>\n      <td>Rumpelstilz</td>\n      <td>Kiosk</td>\n      <td>ALSO ER SAMMLE FUER EINEN GUTEN ZWECK  SAGT DE...</td>\n      <td>[ALSO, SAMMLE, FUER, GUT, ZWECK, SAGEN, FRITZ,...</td>\n      <td>50</td>\n      <td>2009-03-06</td>\n      <td>2009-03-12</td>\n      <td>6</td>\n      <td>2009</td>\n      <td>...</td>\n      <td>False</td>\n      <td>82</td>\n      <td>15</td>\n      <td>1</td>\n      <td>48</td>\n      <td>0.00211</td>\n      <td>0.40</td>\n      <td>0.1</td>\n      <td>[Kiosk]</td>\n      <td>6</td>\n    </tr>\n    <tr>\n      <th>1</th>\n      <td>408</td>\n      <td>Rumpelstilz</td>\n      <td>Kiosk</td>\n      <td>ALSO ER SAMMLE FUER EINEN GUTEN ZWECK  SAGT DE...</td>\n      <td>[ALSO, SAMMLE, FUER, GUT, ZWECK, SAGEN, FRITZ,...</td>\n      <td>4</td>\n      <td>1984-10-22</td>\n      <td>1984-10-28</td>\n      <td>6</td>\n      <td>1984</td>\n      <td>...</td>\n      <td>False</td>\n      <td>82</td>\n      <td>15</td>\n      <td>47</td>\n      <td>48</td>\n      <td>0.00211</td>\n      <td>0.40</td>\n      <td>0.1</td>\n      <td>[Kiosk]</td>\n      <td>6</td>\n    </tr>\n    <tr>\n      <th>2</th>\n      <td>425</td>\n      <td>Costa Cordalis</td>\n      <td>Anita</td>\n      <td>JVUIOUGIVTOH ICH FAND SIE IRGENDWO  ALLEIN IN ...</td>\n      <td>[JVUIOUGIVTOH, FINDEN, IRGENDWO, ALLEIN, MEXIK...</td>\n      <td>23</td>\n      <td>2003-08-25</td>\n      <td>2003-08-31</td>\n      <td>6</td>\n      <td>2003</td>\n      <td>...</td>\n      <td>False</td>\n      <td>74</td>\n      <td>12</td>\n      <td>28</td>\n      <td>43</td>\n      <td>0.00189</td>\n      <td>0.00</td>\n      <td>0.0</td>\n      <td>[Anita]</td>\n      <td>6</td>\n    </tr>\n    <tr>\n      <th>3</th>\n      <td>425</td>\n      <td>Costa Cordalis</td>\n      <td>Anita</td>\n      <td>JVUIOUGIVTOH ICH FAND SIE IRGENDWO  ALLEIN IN ...</td>\n      <td>[JVUIOUGIVTOH, FINDEN, IRGENDWO, ALLEIN, MEXIK...</td>\n      <td>39</td>\n      <td>2003-07-28</td>\n      <td>2003-08-03</td>\n      <td>6</td>\n      <td>2003</td>\n      <td>...</td>\n      <td>False</td>\n      <td>74</td>\n      <td>12</td>\n      <td>12</td>\n      <td>43</td>\n      <td>0.00189</td>\n      <td>0.00</td>\n      <td>0.0</td>\n      <td>[Anita]</td>\n      <td>6</td>\n    </tr>\n    <tr>\n      <th>4</th>\n      <td>425</td>\n      <td>Costa Cordalis</td>\n      <td>Anita</td>\n      <td>JVUIOUGIVTOH ICH FAND SIE IRGENDWO  ALLEIN IN ...</td>\n      <td>[JVUIOUGIVTOH, FINDEN, IRGENDWO, ALLEIN, MEXIK...</td>\n      <td>27</td>\n      <td>2003-07-28</td>\n      <td>2003-08-03</td>\n      <td>6</td>\n      <td>2003</td>\n      <td>...</td>\n      <td>False</td>\n      <td>74</td>\n      <td>12</td>\n      <td>24</td>\n      <td>43</td>\n      <td>0.00189</td>\n      <td>0.00</td>\n      <td>0.0</td>\n      <td>[Anita]</td>\n      <td>6</td>\n    </tr>\n    <tr>\n      <th>5</th>\n      <td>425</td>\n      <td>Costa Cordalis</td>\n      <td>Anita</td>\n      <td>JVUIOUGIVTOH ICH FAND SIE IRGENDWO  ALLEIN IN ...</td>\n      <td>[JVUIOUGIVTOH, FINDEN, IRGENDWO, ALLEIN, MEXIK...</td>\n      <td>19</td>\n      <td>2003-07-28</td>\n      <td>2003-08-03</td>\n      <td>6</td>\n      <td>2003</td>\n      <td>...</td>\n      <td>False</td>\n      <td>74</td>\n      <td>12</td>\n      <td>32</td>\n      <td>43</td>\n      <td>0.00189</td>\n      <td>0.00</td>\n      <td>0.0</td>\n      <td>[Anita]</td>\n      <td>6</td>\n    </tr>\n    <tr>\n      <th>6</th>\n      <td>425</td>\n      <td>Costa Cordalis</td>\n      <td>Anita</td>\n      <td>JVUIOUGIVTOH ICH FAND SIE IRGENDWO  ALLEIN IN ...</td>\n      <td>[JVUIOUGIVTOH, FINDEN, IRGENDWO, ALLEIN, MEXIK...</td>\n      <td>18</td>\n      <td>2016-07-08</td>\n      <td>2016-07-14</td>\n      <td>6</td>\n      <td>2016</td>\n      <td>...</td>\n      <td>False</td>\n      <td>74</td>\n      <td>12</td>\n      <td>33</td>\n      <td>43</td>\n      <td>0.00189</td>\n      <td>0.00</td>\n      <td>0.0</td>\n      <td>[Anita]</td>\n      <td>6</td>\n    </tr>\n    <tr>\n      <th>7</th>\n      <td>425</td>\n      <td>Costa Cordalis</td>\n      <td>Anita</td>\n      <td>JVUIOUGIVTOH ICH FAND SIE IRGENDWO  ALLEIN IN ...</td>\n      <td>[JVUIOUGIVTOH, FINDEN, IRGENDWO, ALLEIN, MEXIK...</td>\n      <td>37</td>\n      <td>2016-07-08</td>\n      <td>2016-07-14</td>\n      <td>6</td>\n      <td>2016</td>\n      <td>...</td>\n      <td>False</td>\n      <td>74</td>\n      <td>12</td>\n      <td>14</td>\n      <td>43</td>\n      <td>0.00189</td>\n      <td>0.00</td>\n      <td>0.0</td>\n      <td>[Anita]</td>\n      <td>6</td>\n    </tr>\n    <tr>\n      <th>8</th>\n      <td>425</td>\n      <td>Costa Cordalis</td>\n      <td>Anita</td>\n      <td>JVUIOUGIVTOH ICH FAND SIE IRGENDWO  ALLEIN IN ...</td>\n      <td>[JVUIOUGIVTOH, FINDEN, IRGENDWO, ALLEIN, MEXIK...</td>\n      <td>20</td>\n      <td>2016-09-16</td>\n      <td>2016-09-22</td>\n      <td>6</td>\n      <td>2016</td>\n      <td>...</td>\n      <td>False</td>\n      <td>74</td>\n      <td>12</td>\n      <td>31</td>\n      <td>43</td>\n      <td>0.00189</td>\n      <td>0.00</td>\n      <td>0.0</td>\n      <td>[Anita]</td>\n      <td>6</td>\n    </tr>\n    <tr>\n      <th>9</th>\n      <td>425</td>\n      <td>Costa Cordalis</td>\n      <td>Anita</td>\n      <td>JVUIOUGIVTOH ICH FAND SIE IRGENDWO  ALLEIN IN ...</td>\n      <td>[JVUIOUGIVTOH, FINDEN, IRGENDWO, ALLEIN, MEXIK...</td>\n      <td>18</td>\n      <td>2016-09-23</td>\n      <td>2016-09-29</td>\n      <td>6</td>\n      <td>2016</td>\n      <td>...</td>\n      <td>False</td>\n      <td>74</td>\n      <td>12</td>\n      <td>33</td>\n      <td>43</td>\n      <td>0.00189</td>\n      <td>0.00</td>\n      <td>0.0</td>\n      <td>[Anita]</td>\n      <td>6</td>\n    </tr>\n    <tr>\n      <th>10</th>\n      <td>425</td>\n      <td>Costa Cordalis</td>\n      <td>Anita</td>\n      <td>JVUIOUGIVTOH ICH FAND SIE IRGENDWO  ALLEIN IN ...</td>\n      <td>[JVUIOUGIVTOH, FINDEN, IRGENDWO, ALLEIN, MEXIK...</td>\n      <td>26</td>\n      <td>2016-10-14</td>\n      <td>2016-10-20</td>\n      <td>6</td>\n      <td>2016</td>\n      <td>...</td>\n      <td>False</td>\n      <td>74</td>\n      <td>12</td>\n      <td>25</td>\n      <td>43</td>\n      <td>0.00189</td>\n      <td>0.00</td>\n      <td>0.0</td>\n      <td>[Anita]</td>\n      <td>6</td>\n    </tr>\n    <tr>\n      <th>11</th>\n      <td>425</td>\n      <td>Costa Cordalis</td>\n      <td>Anita</td>\n      <td>JVUIOUGIVTOH ICH FAND SIE IRGENDWO  ALLEIN IN ...</td>\n      <td>[JVUIOUGIVTOH, FINDEN, IRGENDWO, ALLEIN, MEXIK...</td>\n      <td>28</td>\n      <td>2016-10-14</td>\n      <td>2016-10-20</td>\n      <td>6</td>\n      <td>2016</td>\n      <td>...</td>\n      <td>False</td>\n      <td>74</td>\n      <td>12</td>\n      <td>23</td>\n      <td>43</td>\n      <td>0.00189</td>\n      <td>0.00</td>\n      <td>0.0</td>\n      <td>[Anita]</td>\n      <td>6</td>\n    </tr>\n    <tr>\n      <th>12</th>\n      <td>425</td>\n      <td>Costa Cordalis</td>\n      <td>Anita</td>\n      <td>JVUIOUGIVTOH ICH FAND SIE IRGENDWO  ALLEIN IN ...</td>\n      <td>[JVUIOUGIVTOH, FINDEN, IRGENDWO, ALLEIN, MEXIK...</td>\n      <td>41</td>\n      <td>2012-09-21</td>\n      <td>2012-09-27</td>\n      <td>6</td>\n      <td>2012</td>\n      <td>...</td>\n      <td>False</td>\n      <td>74</td>\n      <td>12</td>\n      <td>10</td>\n      <td>43</td>\n      <td>0.00189</td>\n      <td>0.00</td>\n      <td>0.0</td>\n      <td>[Anita]</td>\n      <td>6</td>\n    </tr>\n    <tr>\n      <th>13</th>\n      <td>425</td>\n      <td>Costa Cordalis</td>\n      <td>Anita</td>\n      <td>JVUIOUGIVTOH ICH FAND SIE IRGENDWO  ALLEIN IN ...</td>\n      <td>[JVUIOUGIVTOH, FINDEN, IRGENDWO, ALLEIN, MEXIK...</td>\n      <td>26</td>\n      <td>2012-10-05</td>\n      <td>2012-10-11</td>\n      <td>6</td>\n      <td>2012</td>\n      <td>...</td>\n      <td>False</td>\n      <td>74</td>\n      <td>12</td>\n      <td>25</td>\n      <td>43</td>\n      <td>0.00189</td>\n      <td>0.00</td>\n      <td>0.0</td>\n      <td>[Anita]</td>\n      <td>6</td>\n    </tr>\n    <tr>\n      <th>14</th>\n      <td>425</td>\n      <td>Costa Cordalis</td>\n      <td>Anita</td>\n      <td>JVUIOUGIVTOH ICH FAND SIE IRGENDWO  ALLEIN IN ...</td>\n      <td>[JVUIOUGIVTOH, FINDEN, IRGENDWO, ALLEIN, MEXIK...</td>\n      <td>31</td>\n      <td>2012-10-05</td>\n      <td>2012-10-11</td>\n      <td>6</td>\n      <td>2012</td>\n      <td>...</td>\n      <td>False</td>\n      <td>74</td>\n      <td>12</td>\n      <td>20</td>\n      <td>43</td>\n      <td>0.00189</td>\n      <td>0.00</td>\n      <td>0.0</td>\n      <td>[Anita]</td>\n      <td>6</td>\n    </tr>\n    <tr>\n      <th>15</th>\n      <td>425</td>\n      <td>Costa Cordalis</td>\n      <td>Anita</td>\n      <td>JVUIOUGIVTOH ICH FAND SIE IRGENDWO  ALLEIN IN ...</td>\n      <td>[JVUIOUGIVTOH, FINDEN, IRGENDWO, ALLEIN, MEXIK...</td>\n      <td>47</td>\n      <td>2012-10-12</td>\n      <td>2012-10-18</td>\n      <td>6</td>\n      <td>2012</td>\n      <td>...</td>\n      <td>False</td>\n      <td>74</td>\n      <td>12</td>\n      <td>4</td>\n      <td>43</td>\n      <td>0.00189</td>\n      <td>0.00</td>\n      <td>0.0</td>\n      <td>[Anita]</td>\n      <td>6</td>\n    </tr>\n    <tr>\n      <th>16</th>\n      <td>425</td>\n      <td>Costa Cordalis</td>\n      <td>Anita</td>\n      <td>JVUIOUGIVTOH ICH FAND SIE IRGENDWO  ALLEIN IN ...</td>\n      <td>[JVUIOUGIVTOH, FINDEN, IRGENDWO, ALLEIN, MEXIK...</td>\n      <td>35</td>\n      <td>2012-10-19</td>\n      <td>2012-10-25</td>\n      <td>6</td>\n      <td>2012</td>\n      <td>...</td>\n      <td>False</td>\n      <td>74</td>\n      <td>12</td>\n      <td>16</td>\n      <td>43</td>\n      <td>0.00189</td>\n      <td>0.00</td>\n      <td>0.0</td>\n      <td>[Anita]</td>\n      <td>6</td>\n    </tr>\n    <tr>\n      <th>17</th>\n      <td>425</td>\n      <td>Costa Cordalis</td>\n      <td>Anita</td>\n      <td>JVUIOUGIVTOH ICH FAND SIE IRGENDWO  ALLEIN IN ...</td>\n      <td>[JVUIOUGIVTOH, FINDEN, IRGENDWO, ALLEIN, MEXIK...</td>\n      <td>4</td>\n      <td>2012-10-26</td>\n      <td>2012-11-01</td>\n      <td>6</td>\n      <td>2012</td>\n      <td>...</td>\n      <td>False</td>\n      <td>74</td>\n      <td>12</td>\n      <td>47</td>\n      <td>43</td>\n      <td>0.00189</td>\n      <td>0.00</td>\n      <td>0.0</td>\n      <td>[Anita]</td>\n      <td>6</td>\n    </tr>\n    <tr>\n      <th>18</th>\n      <td>425</td>\n      <td>Costa Cordalis</td>\n      <td>Anita</td>\n      <td>JVUIOUGIVTOH ICH FAND SIE IRGENDWO  ALLEIN IN ...</td>\n      <td>[JVUIOUGIVTOH, FINDEN, IRGENDWO, ALLEIN, MEXIK...</td>\n      <td>23</td>\n      <td>2012-11-30</td>\n      <td>2012-12-06</td>\n      <td>6</td>\n      <td>2012</td>\n      <td>...</td>\n      <td>False</td>\n      <td>74</td>\n      <td>12</td>\n      <td>28</td>\n      <td>43</td>\n      <td>0.00189</td>\n      <td>0.00</td>\n      <td>0.0</td>\n      <td>[Anita]</td>\n      <td>6</td>\n    </tr>\n    <tr>\n      <th>19</th>\n      <td>425</td>\n      <td>Costa Cordalis</td>\n      <td>Anita</td>\n      <td>JVUIOUGIVTOH ICH FAND SIE IRGENDWO  ALLEIN IN ...</td>\n      <td>[JVUIOUGIVTOH, FINDEN, IRGENDWO, ALLEIN, MEXIK...</td>\n      <td>15</td>\n      <td>2012-12-07</td>\n      <td>2012-12-13</td>\n      <td>6</td>\n      <td>2012</td>\n      <td>...</td>\n      <td>False</td>\n      <td>74</td>\n      <td>12</td>\n      <td>36</td>\n      <td>43</td>\n      <td>0.00189</td>\n      <td>0.00</td>\n      <td>0.0</td>\n      <td>[Anita]</td>\n      <td>6</td>\n    </tr>\n    <tr>\n      <th>20</th>\n      <td>425</td>\n      <td>Costa Cordalis</td>\n      <td>Anita</td>\n      <td>JVUIOUGIVTOH ICH FAND SIE IRGENDWO  ALLEIN IN ...</td>\n      <td>[JVUIOUGIVTOH, FINDEN, IRGENDWO, ALLEIN, MEXIK...</td>\n      <td>15</td>\n      <td>2003-07-21</td>\n      <td>2003-07-27</td>\n      <td>6</td>\n      <td>2003</td>\n      <td>...</td>\n      <td>False</td>\n      <td>74</td>\n      <td>12</td>\n      <td>36</td>\n      <td>43</td>\n      <td>0.00189</td>\n      <td>0.00</td>\n      <td>0.0</td>\n      <td>[Anita]</td>\n      <td>6</td>\n    </tr>\n    <tr>\n      <th>21</th>\n      <td>425</td>\n      <td>Costa Cordalis</td>\n      <td>Anita</td>\n      <td>JVUIOUGIVTOH ICH FAND SIE IRGENDWO  ALLEIN IN ...</td>\n      <td>[JVUIOUGIVTOH, FINDEN, IRGENDWO, ALLEIN, MEXIK...</td>\n      <td>2</td>\n      <td>2003-07-28</td>\n      <td>2003-08-03</td>\n      <td>6</td>\n      <td>2003</td>\n      <td>...</td>\n      <td>False</td>\n      <td>74</td>\n      <td>12</td>\n      <td>49</td>\n      <td>43</td>\n      <td>0.00189</td>\n      <td>0.00</td>\n      <td>0.0</td>\n      <td>[Anita]</td>\n      <td>6</td>\n    </tr>\n    <tr>\n      <th>22</th>\n      <td>425</td>\n      <td>Costa Cordalis</td>\n      <td>Anita</td>\n      <td>JVUIOUGIVTOH ICH FAND SIE IRGENDWO  ALLEIN IN ...</td>\n      <td>[JVUIOUGIVTOH, FINDEN, IRGENDWO, ALLEIN, MEXIK...</td>\n      <td>16</td>\n      <td>2012-10-05</td>\n      <td>2012-10-11</td>\n      <td>6</td>\n      <td>2012</td>\n      <td>...</td>\n      <td>False</td>\n      <td>74</td>\n      <td>12</td>\n      <td>35</td>\n      <td>43</td>\n      <td>0.00189</td>\n      <td>0.00</td>\n      <td>0.0</td>\n      <td>[Anita]</td>\n      <td>6</td>\n    </tr>\n    <tr>\n      <th>23</th>\n      <td>428</td>\n      <td>Peter Maffay</td>\n      <td>Und es war Sommer</td>\n      <td>ES WAR EIN SCHOENER TAG DER LETZTE IM AUGUST D...</td>\n      <td>[SCHOEN, TAG, LETZTER, AUGUST, SONNE, BRENN, H...</td>\n      <td>36</td>\n      <td>2010-04-23</td>\n      <td>2010-04-29</td>\n      <td>6</td>\n      <td>2010</td>\n      <td>...</td>\n      <td>False</td>\n      <td>68</td>\n      <td>14</td>\n      <td>15</td>\n      <td>47</td>\n      <td>0.00206</td>\n      <td>0.90</td>\n      <td>0.6</td>\n      <td>[Sommer]</td>\n      <td>18</td>\n    </tr>\n    <tr>\n      <th>24</th>\n      <td>428</td>\n      <td>Peter Maffay</td>\n      <td>Und es war Sommer</td>\n      <td>ES WAR EIN SCHOENER TAG DER LETZTE IM AUGUST D...</td>\n      <td>[SCHOEN, TAG, LETZTER, AUGUST, SONNE, BRENN, H...</td>\n      <td>18</td>\n      <td>2010-04-16</td>\n      <td>2010-04-22</td>\n      <td>6</td>\n      <td>2010</td>\n      <td>...</td>\n      <td>False</td>\n      <td>68</td>\n      <td>14</td>\n      <td>33</td>\n      <td>47</td>\n      <td>0.00206</td>\n      <td>0.90</td>\n      <td>0.6</td>\n      <td>[Sommer]</td>\n      <td>18</td>\n    </tr>\n    <tr>\n      <th>25</th>\n      <td>428</td>\n      <td>Peter Maffay</td>\n      <td>Und es war Sommer</td>\n      <td>ES WAR EIN SCHOENER TAG DER LETZTE IM AUGUST D...</td>\n      <td>[SCHOEN, TAG, LETZTER, AUGUST, SONNE, BRENN, H...</td>\n      <td>19</td>\n      <td>2010-02-12</td>\n      <td>2010-02-18</td>\n      <td>6</td>\n      <td>2010</td>\n      <td>...</td>\n      <td>False</td>\n      <td>68</td>\n      <td>14</td>\n      <td>32</td>\n      <td>47</td>\n      <td>0.00206</td>\n      <td>0.90</td>\n      <td>0.6</td>\n      <td>[Sommer]</td>\n      <td>18</td>\n    </tr>\n    <tr>\n      <th>26</th>\n      <td>428</td>\n      <td>Peter Maffay</td>\n      <td>Und es war Sommer</td>\n      <td>ES WAR EIN SCHOENER TAG DER LETZTE IM AUGUST D...</td>\n      <td>[SCHOEN, TAG, LETZTER, AUGUST, SONNE, BRENN, H...</td>\n      <td>31</td>\n      <td>2010-02-19</td>\n      <td>2010-02-25</td>\n      <td>6</td>\n      <td>2010</td>\n      <td>...</td>\n      <td>False</td>\n      <td>68</td>\n      <td>14</td>\n      <td>20</td>\n      <td>47</td>\n      <td>0.00206</td>\n      <td>0.90</td>\n      <td>0.6</td>\n      <td>[Sommer]</td>\n      <td>18</td>\n    </tr>\n    <tr>\n      <th>27</th>\n      <td>428</td>\n      <td>Peter Maffay</td>\n      <td>Und es war Sommer</td>\n      <td>ES WAR EIN SCHOENER TAG DER LETZTE IM AUGUST D...</td>\n      <td>[SCHOEN, TAG, LETZTER, AUGUST, SONNE, BRENN, H...</td>\n      <td>49</td>\n      <td>2010-02-19</td>\n      <td>2010-02-25</td>\n      <td>6</td>\n      <td>2010</td>\n      <td>...</td>\n      <td>False</td>\n      <td>68</td>\n      <td>14</td>\n      <td>2</td>\n      <td>47</td>\n      <td>0.00206</td>\n      <td>0.90</td>\n      <td>0.6</td>\n      <td>[Sommer]</td>\n      <td>18</td>\n    </tr>\n    <tr>\n      <th>28</th>\n      <td>428</td>\n      <td>Peter Maffay</td>\n      <td>Und es war Sommer</td>\n      <td>ES WAR EIN SCHOENER TAG DER LETZTE IM AUGUST D...</td>\n      <td>[SCHOEN, TAG, LETZTER, AUGUST, SONNE, BRENN, H...</td>\n      <td>24</td>\n      <td>2010-03-05</td>\n      <td>2010-03-11</td>\n      <td>6</td>\n      <td>2010</td>\n      <td>...</td>\n      <td>False</td>\n      <td>68</td>\n      <td>14</td>\n      <td>27</td>\n      <td>47</td>\n      <td>0.00206</td>\n      <td>0.90</td>\n      <td>0.6</td>\n      <td>[Sommer]</td>\n      <td>18</td>\n    </tr>\n    <tr>\n      <th>29</th>\n      <td>428</td>\n      <td>Peter Maffay</td>\n      <td>Und es war Sommer</td>\n      <td>ES WAR EIN SCHOENER TAG DER LETZTE IM AUGUST D...</td>\n      <td>[SCHOEN, TAG, LETZTER, AUGUST, SONNE, BRENN, H...</td>\n      <td>13</td>\n      <td>2010-03-12</td>\n      <td>2010-03-18</td>\n      <td>6</td>\n      <td>2010</td>\n      <td>...</td>\n      <td>False</td>\n      <td>68</td>\n      <td>14</td>\n      <td>38</td>\n      <td>47</td>\n      <td>0.00206</td>\n      <td>0.90</td>\n      <td>0.6</td>\n      <td>[Sommer]</td>\n      <td>18</td>\n    </tr>\n    <tr>\n      <th>30</th>\n      <td>428</td>\n      <td>Peter Maffay</td>\n      <td>Und es war Sommer</td>\n      <td>ES WAR EIN SCHOENER TAG DER LETZTE IM AUGUST D...</td>\n      <td>[SCHOEN, TAG, LETZTER, AUGUST, SONNE, BRENN, H...</td>\n      <td>43</td>\n      <td>2010-04-09</td>\n      <td>2010-04-15</td>\n      <td>6</td>\n      <td>2010</td>\n      <td>...</td>\n      <td>False</td>\n      <td>68</td>\n      <td>14</td>\n      <td>8</td>\n      <td>47</td>\n      <td>0.00206</td>\n      <td>0.90</td>\n      <td>0.6</td>\n      <td>[Sommer]</td>\n      <td>18</td>\n    </tr>\n    <tr>\n      <th>31</th>\n      <td>428</td>\n      <td>Peter Maffay</td>\n      <td>Und es war Sommer</td>\n      <td>ES WAR EIN SCHOENER TAG DER LETZTE IM AUGUST D...</td>\n      <td>[SCHOEN, TAG, LETZTER, AUGUST, SONNE, BRENN, H...</td>\n      <td>45</td>\n      <td>2010-04-09</td>\n      <td>2010-04-15</td>\n      <td>6</td>\n      <td>2010</td>\n      <td>...</td>\n      <td>False</td>\n      <td>68</td>\n      <td>14</td>\n      <td>6</td>\n      <td>47</td>\n      <td>0.00206</td>\n      <td>0.90</td>\n      <td>0.6</td>\n      <td>[Sommer]</td>\n      <td>18</td>\n    </tr>\n    <tr>\n      <th>32</th>\n      <td>428</td>\n      <td>Peter Maffay</td>\n      <td>Und es war Sommer</td>\n      <td>ES WAR EIN SCHOENER TAG DER LETZTE IM AUGUST D...</td>\n      <td>[SCHOEN, TAG, LETZTER, AUGUST, SONNE, BRENN, H...</td>\n      <td>25</td>\n      <td>2010-02-19</td>\n      <td>2010-02-25</td>\n      <td>6</td>\n      <td>2010</td>\n      <td>...</td>\n      <td>False</td>\n      <td>68</td>\n      <td>14</td>\n      <td>26</td>\n      <td>47</td>\n      <td>0.00206</td>\n      <td>0.90</td>\n      <td>0.6</td>\n      <td>[Sommer]</td>\n      <td>18</td>\n    </tr>\n    <tr>\n      <th>33</th>\n      <td>434</td>\n      <td>Howard Carpendale</td>\n      <td>Tür an Tür mit Alice</td>\n      <td>EIN FREUND RIEF AN  MIT LEISEM TON SAGT ER ER ...</td>\n      <td>[FREUND, RUFE, LEISEM, TON, SAGEN, WEISST, WOH...</td>\n      <td>32</td>\n      <td>2006-11-24</td>\n      <td>2006-11-30</td>\n      <td>6</td>\n      <td>2006</td>\n      <td>...</td>\n      <td>False</td>\n      <td>56</td>\n      <td>12</td>\n      <td>19</td>\n      <td>39</td>\n      <td>0.00171</td>\n      <td>0.60</td>\n      <td>0.2</td>\n      <td>[Tür, Tür, Alice]</td>\n      <td>21</td>\n    </tr>\n    <tr>\n      <th>34</th>\n      <td>434</td>\n      <td>Howard Carpendale</td>\n      <td>Tür an Tür mit Alice</td>\n      <td>EIN FREUND RIEF AN  MIT LEISEM TON SAGT ER ER ...</td>\n      <td>[FREUND, RUFE, LEISEM, TON, SAGEN, WEISST, WOH...</td>\n      <td>34</td>\n      <td>2006-09-29</td>\n      <td>2006-10-05</td>\n      <td>6</td>\n      <td>2006</td>\n      <td>...</td>\n      <td>False</td>\n      <td>56</td>\n      <td>12</td>\n      <td>17</td>\n      <td>39</td>\n      <td>0.00171</td>\n      <td>0.60</td>\n      <td>0.2</td>\n      <td>[Tür, Tür, Alice]</td>\n      <td>21</td>\n    </tr>\n    <tr>\n      <th>35</th>\n      <td>434</td>\n      <td>Howard Carpendale</td>\n      <td>Tür an Tür mit Alice</td>\n      <td>EIN FREUND RIEF AN  MIT LEISEM TON SAGT ER ER ...</td>\n      <td>[FREUND, RUFE, LEISEM, TON, SAGEN, WEISST, WOH...</td>\n      <td>14</td>\n      <td>2006-10-06</td>\n      <td>2006-10-12</td>\n      <td>6</td>\n      <td>2006</td>\n      <td>...</td>\n      <td>False</td>\n      <td>56</td>\n      <td>12</td>\n      <td>37</td>\n      <td>39</td>\n      <td>0.00171</td>\n      <td>0.60</td>\n      <td>0.2</td>\n      <td>[Tür, Tür, Alice]</td>\n      <td>21</td>\n    </tr>\n    <tr>\n      <th>36</th>\n      <td>434</td>\n      <td>Howard Carpendale</td>\n      <td>Tür an Tür mit Alice</td>\n      <td>EIN FREUND RIEF AN  MIT LEISEM TON SAGT ER ER ...</td>\n      <td>[FREUND, RUFE, LEISEM, TON, SAGEN, WEISST, WOH...</td>\n      <td>17</td>\n      <td>2006-10-20</td>\n      <td>2006-10-26</td>\n      <td>6</td>\n      <td>2006</td>\n      <td>...</td>\n      <td>False</td>\n      <td>56</td>\n      <td>12</td>\n      <td>34</td>\n      <td>39</td>\n      <td>0.00171</td>\n      <td>0.60</td>\n      <td>0.2</td>\n      <td>[Tür, Tür, Alice]</td>\n      <td>21</td>\n    </tr>\n    <tr>\n      <th>37</th>\n      <td>434</td>\n      <td>Howard Carpendale</td>\n      <td>Tür an Tür mit Alice</td>\n      <td>EIN FREUND RIEF AN  MIT LEISEM TON SAGT ER ER ...</td>\n      <td>[FREUND, RUFE, LEISEM, TON, SAGEN, WEISST, WOH...</td>\n      <td>23</td>\n      <td>2006-10-20</td>\n      <td>2006-10-26</td>\n      <td>6</td>\n      <td>2006</td>\n      <td>...</td>\n      <td>False</td>\n      <td>56</td>\n      <td>12</td>\n      <td>28</td>\n      <td>39</td>\n      <td>0.00171</td>\n      <td>0.60</td>\n      <td>0.2</td>\n      <td>[Tür, Tür, Alice]</td>\n      <td>21</td>\n    </tr>\n    <tr>\n      <th>38</th>\n      <td>434</td>\n      <td>Howard Carpendale</td>\n      <td>Tür an Tür mit Alice</td>\n      <td>EIN FREUND RIEF AN  MIT LEISEM TON SAGT ER ER ...</td>\n      <td>[FREUND, RUFE, LEISEM, TON, SAGEN, WEISST, WOH...</td>\n      <td>26</td>\n      <td>2006-11-03</td>\n      <td>2006-11-09</td>\n      <td>6</td>\n      <td>2006</td>\n      <td>...</td>\n      <td>False</td>\n      <td>56</td>\n      <td>12</td>\n      <td>25</td>\n      <td>39</td>\n      <td>0.00171</td>\n      <td>0.60</td>\n      <td>0.2</td>\n      <td>[Tür, Tür, Alice]</td>\n      <td>21</td>\n    </tr>\n    <tr>\n      <th>39</th>\n      <td>434</td>\n      <td>Howard Carpendale</td>\n      <td>Tür an Tür mit Alice</td>\n      <td>EIN FREUND RIEF AN  MIT LEISEM TON SAGT ER ER ...</td>\n      <td>[FREUND, RUFE, LEISEM, TON, SAGEN, WEISST, WOH...</td>\n      <td>1</td>\n      <td>2006-12-08</td>\n      <td>2006-12-14</td>\n      <td>6</td>\n      <td>2006</td>\n      <td>...</td>\n      <td>False</td>\n      <td>56</td>\n      <td>12</td>\n      <td>50</td>\n      <td>39</td>\n      <td>0.00171</td>\n      <td>0.60</td>\n      <td>0.2</td>\n      <td>[Tür, Tür, Alice]</td>\n      <td>21</td>\n    </tr>\n    <tr>\n      <th>40</th>\n      <td>434</td>\n      <td>Howard Carpendale</td>\n      <td>Tür an Tür mit Alice</td>\n      <td>EIN FREUND RIEF AN  MIT LEISEM TON SAGT ER ER ...</td>\n      <td>[FREUND, RUFE, LEISEM, TON, SAGEN, WEISST, WOH...</td>\n      <td>49</td>\n      <td>2006-12-08</td>\n      <td>2006-12-14</td>\n      <td>6</td>\n      <td>2006</td>\n      <td>...</td>\n      <td>False</td>\n      <td>56</td>\n      <td>12</td>\n      <td>2</td>\n      <td>39</td>\n      <td>0.00171</td>\n      <td>0.60</td>\n      <td>0.2</td>\n      <td>[Tür, Tür, Alice]</td>\n      <td>21</td>\n    </tr>\n    <tr>\n      <th>41</th>\n      <td>434</td>\n      <td>Howard Carpendale</td>\n      <td>Tür an Tür mit Alice</td>\n      <td>EIN FREUND RIEF AN  MIT LEISEM TON SAGT ER ER ...</td>\n      <td>[FREUND, RUFE, LEISEM, TON, SAGEN, WEISST, WOH...</td>\n      <td>40</td>\n      <td>2006-12-15</td>\n      <td>2006-12-21</td>\n      <td>6</td>\n      <td>2006</td>\n      <td>...</td>\n      <td>False</td>\n      <td>56</td>\n      <td>12</td>\n      <td>11</td>\n      <td>39</td>\n      <td>0.00171</td>\n      <td>0.60</td>\n      <td>0.2</td>\n      <td>[Tür, Tür, Alice]</td>\n      <td>21</td>\n    </tr>\n    <tr>\n      <th>42</th>\n      <td>434</td>\n      <td>Howard Carpendale</td>\n      <td>Tür an Tür mit Alice</td>\n      <td>EIN FREUND RIEF AN  MIT LEISEM TON SAGT ER ER ...</td>\n      <td>[FREUND, RUFE, LEISEM, TON, SAGEN, WEISST, WOH...</td>\n      <td>1</td>\n      <td>2006-11-17</td>\n      <td>2006-11-23</td>\n      <td>6</td>\n      <td>2006</td>\n      <td>...</td>\n      <td>False</td>\n      <td>56</td>\n      <td>12</td>\n      <td>50</td>\n      <td>39</td>\n      <td>0.00171</td>\n      <td>0.60</td>\n      <td>0.2</td>\n      <td>[Tür, Tür, Alice]</td>\n      <td>21</td>\n    </tr>\n    <tr>\n      <th>43</th>\n      <td>434</td>\n      <td>Howard Carpendale</td>\n      <td>Tür an Tür mit Alice</td>\n      <td>EIN FREUND RIEF AN  MIT LEISEM TON SAGT ER ER ...</td>\n      <td>[FREUND, RUFE, LEISEM, TON, SAGEN, WEISST, WOH...</td>\n      <td>2</td>\n      <td>2006-11-17</td>\n      <td>2006-11-23</td>\n      <td>6</td>\n      <td>2006</td>\n      <td>...</td>\n      <td>False</td>\n      <td>56</td>\n      <td>12</td>\n      <td>49</td>\n      <td>39</td>\n      <td>0.00171</td>\n      <td>0.60</td>\n      <td>0.2</td>\n      <td>[Tür, Tür, Alice]</td>\n      <td>21</td>\n    </tr>\n    <tr>\n      <th>44</th>\n      <td>434</td>\n      <td>Howard Carpendale</td>\n      <td>Tür an Tür mit Alice</td>\n      <td>EIN FREUND RIEF AN  MIT LEISEM TON SAGT ER ER ...</td>\n      <td>[FREUND, RUFE, LEISEM, TON, SAGEN, WEISST, WOH...</td>\n      <td>1</td>\n      <td>2007-02-09</td>\n      <td>2007-02-15</td>\n      <td>6</td>\n      <td>2007</td>\n      <td>...</td>\n      <td>False</td>\n      <td>56</td>\n      <td>12</td>\n      <td>50</td>\n      <td>39</td>\n      <td>0.00171</td>\n      <td>0.60</td>\n      <td>0.2</td>\n      <td>[Tür, Tür, Alice]</td>\n      <td>21</td>\n    </tr>\n    <tr>\n      <th>45</th>\n      <td>434</td>\n      <td>Howard Carpendale</td>\n      <td>Tür an Tür mit Alice</td>\n      <td>EIN FREUND RIEF AN  MIT LEISEM TON SAGT ER ER ...</td>\n      <td>[FREUND, RUFE, LEISEM, TON, SAGEN, WEISST, WOH...</td>\n      <td>26</td>\n      <td>2007-01-12</td>\n      <td>2007-01-18</td>\n      <td>6</td>\n      <td>2007</td>\n      <td>...</td>\n      <td>False</td>\n      <td>56</td>\n      <td>12</td>\n      <td>25</td>\n      <td>39</td>\n      <td>0.00171</td>\n      <td>0.60</td>\n      <td>0.2</td>\n      <td>[Tür, Tür, Alice]</td>\n      <td>21</td>\n    </tr>\n    <tr>\n      <th>46</th>\n      <td>434</td>\n      <td>Howard Carpendale</td>\n      <td>Tür an Tür mit Alice</td>\n      <td>EIN FREUND RIEF AN  MIT LEISEM TON SAGT ER ER ...</td>\n      <td>[FREUND, RUFE, LEISEM, TON, SAGEN, WEISST, WOH...</td>\n      <td>38</td>\n      <td>2007-01-12</td>\n      <td>2007-01-18</td>\n      <td>6</td>\n      <td>2007</td>\n      <td>...</td>\n      <td>False</td>\n      <td>56</td>\n      <td>12</td>\n      <td>13</td>\n      <td>39</td>\n      <td>0.00171</td>\n      <td>0.60</td>\n      <td>0.2</td>\n      <td>[Tür, Tür, Alice]</td>\n      <td>21</td>\n    </tr>\n    <tr>\n      <th>47</th>\n      <td>434</td>\n      <td>Howard Carpendale</td>\n      <td>Tür an Tür mit Alice</td>\n      <td>EIN FREUND RIEF AN  MIT LEISEM TON SAGT ER ER ...</td>\n      <td>[FREUND, RUFE, LEISEM, TON, SAGEN, WEISST, WOH...</td>\n      <td>47</td>\n      <td>2007-02-02</td>\n      <td>2007-02-08</td>\n      <td>6</td>\n      <td>2007</td>\n      <td>...</td>\n      <td>False</td>\n      <td>56</td>\n      <td>12</td>\n      <td>4</td>\n      <td>39</td>\n      <td>0.00171</td>\n      <td>0.60</td>\n      <td>0.2</td>\n      <td>[Tür, Tür, Alice]</td>\n      <td>21</td>\n    </tr>\n    <tr>\n      <th>48</th>\n      <td>434</td>\n      <td>Howard Carpendale</td>\n      <td>Tür an Tür mit Alice</td>\n      <td>EIN FREUND RIEF AN  MIT LEISEM TON SAGT ER ER ...</td>\n      <td>[FREUND, RUFE, LEISEM, TON, SAGEN, WEISST, WOH...</td>\n      <td>34</td>\n      <td>2007-01-26</td>\n      <td>2007-02-01</td>\n      <td>6</td>\n      <td>2007</td>\n      <td>...</td>\n      <td>False</td>\n      <td>56</td>\n      <td>12</td>\n      <td>17</td>\n      <td>39</td>\n      <td>0.00171</td>\n      <td>0.60</td>\n      <td>0.2</td>\n      <td>[Tür, Tür, Alice]</td>\n      <td>21</td>\n    </tr>\n    <tr>\n      <th>49</th>\n      <td>437</td>\n      <td>Vicky Leandros</td>\n      <td>Auf dem Mond da blühen keine Rosen</td>\n      <td>WENN EIN ASTRONAUT MIR SAGTE   KOMM  ICH FAHR ...</td>\n      <td>[ASTRONAUT, SAGEN, KOMM, FAHR, MOND, STEIG, DO...</td>\n      <td>20</td>\n      <td>1981-08-31</td>\n      <td>1981-09-06</td>\n      <td>6</td>\n      <td>1981</td>\n      <td>...</td>\n      <td>False</td>\n      <td>48</td>\n      <td>12</td>\n      <td>31</td>\n      <td>39</td>\n      <td>0.00171</td>\n      <td>0.95</td>\n      <td>0.6</td>\n      <td>[Mond, blühen, Rose]</td>\n      <td>35</td>\n    </tr>\n  </tbody>\n</table>\n<p>50 rows × 21 columns</p>\n</div>"
     },
     "execution_count": 31,
     "metadata": {},
     "output_type": "execute_result"
    }
   ],
   "source": [
    "df.head(50)"
   ]
  },
  {
   "cell_type": "markdown",
   "metadata": {},
   "source": [
    "Title Analysis"
   ]
  },
  {
   "cell_type": "code",
   "execution_count": 90,
   "metadata": {},
   "outputs": [],
   "source": [
    "#lemmatize title\n",
    "#df['processed_TITLE'] = df.TITEL.apply(lambda titel: ' '.join([x.lemma_ for x in nlp(titel)]))\n",
    "#print(df['processed_TITLE'].head())\n",
    "\n",
    "#tokenize title\n",
    "tokenizer = RegexpTokenizer(r'\\w+')\n",
    "df['processed_TITLE'] = df.TITEL.apply(lambda titel: [word for word in tokenizer.tokenize(titel)])\n",
    "\n",
    "#Stemming\n",
    "df['processed_TITLE'] = df.processed_TITLE.apply(lambda titel: stemm_List_of_Words(titel))\n",
    "\n",
    "#remove stopwords\n",
    "df['processed_TITLE'] = df.processed_TITLE.apply(lambda titel: [word for word in titel if word.upper() not in stopwords_list])\n",
    "\n",
    "#remove numbers\n",
    "df['processed_TITLE'] = df.processed_TITLE.apply(lambda word_list : [re.sub('\\w*\\d\\w*','', word) for word in word_list])"
   ]
  },
  {
   "cell_type": "code",
   "execution_count": 104,
   "outputs": [
    {
     "ename": "TypeError",
     "evalue": "unhashable type: 'list'",
     "output_type": "error",
     "traceback": [
      "\u001B[1;31m---------------------------------------------------------------------------\u001B[0m",
      "\u001B[1;31mTypeError\u001B[0m                                 Traceback (most recent call last)",
      "Cell \u001B[1;32mIn [104], line 2\u001B[0m\n\u001B[0;32m      1\u001B[0m df[\u001B[38;5;124m'\u001B[39m\u001B[38;5;124mLENGTH_TITLE\u001B[39m\u001B[38;5;124m'\u001B[39m] \u001B[38;5;241m=\u001B[39m df\u001B[38;5;241m.\u001B[39mTITEL\u001B[38;5;241m.\u001B[39mapply(\u001B[38;5;28;01mlambda\u001B[39;00m titel: \u001B[38;5;28mlen\u001B[39m(titel))\n\u001B[1;32m----> 2\u001B[0m counter \u001B[38;5;241m=\u001B[39m \u001B[43mCounter\u001B[49m\u001B[43m(\u001B[49m\u001B[43mdf\u001B[49m\u001B[43m[\u001B[49m\u001B[38;5;124;43m'\u001B[39;49m\u001B[38;5;124;43mprocessed_TITLE\u001B[39;49m\u001B[38;5;124;43m'\u001B[39;49m\u001B[43m]\u001B[49m\u001B[43m)\u001B[49m\n\u001B[0;32m      3\u001B[0m df[\u001B[38;5;124m'\u001B[39m\u001B[38;5;124mTITEL_WORDS\u001B[39m\u001B[38;5;124m'\u001B[39m] \u001B[38;5;241m=\u001B[39m counter\u001B[38;5;241m.\u001B[39mitems()\n\u001B[0;32m      4\u001B[0m df[\u001B[38;5;124m'\u001B[39m\u001B[38;5;124mTITEL_WORD_FREQ\u001B[39m\u001B[38;5;124m'\u001B[39m] \u001B[38;5;241m=\u001B[39m counter\u001B[38;5;241m.\u001B[39mvalues()\n",
      "File \u001B[1;32m~\\AppData\\Local\\Programs\\Python\\Python311\\Lib\\collections\\__init__.py:597\u001B[0m, in \u001B[0;36mCounter.__init__\u001B[1;34m(self, iterable, **kwds)\u001B[0m\n\u001B[0;32m    586\u001B[0m \u001B[38;5;124;03m'''Create a new, empty Counter object.  And if given, count elements\u001B[39;00m\n\u001B[0;32m    587\u001B[0m \u001B[38;5;124;03mfrom an input iterable.  Or, initialize the count from another mapping\u001B[39;00m\n\u001B[0;32m    588\u001B[0m \u001B[38;5;124;03mof elements to their counts.\u001B[39;00m\n\u001B[1;32m   (...)\u001B[0m\n\u001B[0;32m    594\u001B[0m \n\u001B[0;32m    595\u001B[0m \u001B[38;5;124;03m'''\u001B[39;00m\n\u001B[0;32m    596\u001B[0m \u001B[38;5;28msuper\u001B[39m()\u001B[38;5;241m.\u001B[39m\u001B[38;5;21m__init__\u001B[39m()\n\u001B[1;32m--> 597\u001B[0m \u001B[38;5;28;43mself\u001B[39;49m\u001B[38;5;241;43m.\u001B[39;49m\u001B[43mupdate\u001B[49m\u001B[43m(\u001B[49m\u001B[43miterable\u001B[49m\u001B[43m,\u001B[49m\u001B[43m \u001B[49m\u001B[38;5;241;43m*\u001B[39;49m\u001B[38;5;241;43m*\u001B[39;49m\u001B[43mkwds\u001B[49m\u001B[43m)\u001B[49m\n",
      "File \u001B[1;32m~\\AppData\\Local\\Programs\\Python\\Python311\\Lib\\collections\\__init__.py:688\u001B[0m, in \u001B[0;36mCounter.update\u001B[1;34m(self, iterable, **kwds)\u001B[0m\n\u001B[0;32m    686\u001B[0m             \u001B[38;5;28msuper\u001B[39m()\u001B[38;5;241m.\u001B[39mupdate(iterable)\n\u001B[0;32m    687\u001B[0m     \u001B[38;5;28;01melse\u001B[39;00m:\n\u001B[1;32m--> 688\u001B[0m         _count_elements(\u001B[38;5;28mself\u001B[39m, iterable)\n\u001B[0;32m    689\u001B[0m \u001B[38;5;28;01mif\u001B[39;00m kwds:\n\u001B[0;32m    690\u001B[0m     \u001B[38;5;28mself\u001B[39m\u001B[38;5;241m.\u001B[39mupdate(kwds)\n",
      "\u001B[1;31mTypeError\u001B[0m: unhashable type: 'list'"
     ]
    }
   ],
   "source": [
    "df['LENGTH_TITLE'] = df.TITEL.apply(lambda titel: len(titel))\n",
    "list_words = [Counter(titel).items() for titel in df['processed_TITLE']]\n",
    "\n",
    "\n",
    "df['TITEL_WORDS'] = list_words\n",
    "df['TITEL_WORD_FREQ'] = counter.values()"
   ],
   "metadata": {
    "collapsed": false
   }
  },
  {
   "cell_type": "markdown",
   "metadata": {},
   "source": [
    "Seasonal determination"
   ]
  },
  {
   "cell_type": "code",
   "execution_count": 101,
   "metadata": {},
   "outputs": [
    {
     "data": {
      "text/plain": "0        False\n1        False\n2        False\n3        False\n4        False\n         ...  \n22757    False\n22758    False\n22759    False\n22760    False\n22761    False\nName: SEASONAL?, Length: 22762, dtype: object"
     },
     "execution_count": 101,
     "metadata": {},
     "output_type": "execute_result"
    }
   ],
   "source": [
    "df['SEASONAL?'] = np.nan\n",
    "isSeasonal()\n",
    "df['SEASONAL?']"
   ]
  },
  {
   "cell_type": "markdown",
   "metadata": {},
   "source": [
    "Boosted Words -Analysis"
   ]
  },
  {
   "cell_type": "code",
   "execution_count": 72,
   "metadata": {},
   "outputs": [
    {
     "name": "stdout",
     "output_type": "stream",
     "text": [
      "<class 'pandas.core.series.Series'>\n"
     ]
    }
   ],
   "source": []
  },
  {
   "cell_type": "markdown",
   "source": [
    "Language detection\n",
    "Idea -> Mulitlangual classification boolean & Probability of German"
   ],
   "metadata": {
    "collapsed": false
   }
  },
  {
   "cell_type": "code",
   "execution_count": 5,
   "outputs": [
    {
     "ename": "DefaultCredentialsError",
     "evalue": "Could not automatically determine credentials. Please set GOOGLE_APPLICATION_CREDENTIALS or explicitly create credentials and re-run the application. For more information, please see https://cloud.google.com/docs/authentication/getting-started",
     "output_type": "error",
     "traceback": [
      "\u001B[1;31m---------------------------------------------------------------------------\u001B[0m",
      "\u001B[1;31mDefaultCredentialsError\u001B[0m                   Traceback (most recent call last)",
      "Cell \u001B[1;32mIn [5], line 3\u001B[0m\n\u001B[0;32m      1\u001B[0m \u001B[38;5;66;03m#b = TextBlob(\"bonjour\")\u001B[39;00m\n\u001B[0;32m      2\u001B[0m \u001B[38;5;66;03m#b.detect_language()\u001B[39;00m\n\u001B[1;32m----> 3\u001B[0m \u001B[43mdetect_language\u001B[49m\u001B[43m(\u001B[49m\u001B[38;5;124;43m'\u001B[39;49m\u001B[38;5;124;43mbonjour\u001B[39;49m\u001B[38;5;124;43m'\u001B[39;49m\u001B[43m)\u001B[49m\n",
      "Cell \u001B[1;32mIn [4], line 3\u001B[0m, in \u001B[0;36mdetect_language\u001B[1;34m(text)\u001B[0m\n\u001B[0;32m      1\u001B[0m \u001B[38;5;28;01mdef\u001B[39;00m \u001B[38;5;21mdetect_language\u001B[39m(text):\n\u001B[0;32m      2\u001B[0m     \u001B[38;5;124;03m\"\"\"Detects the text's language.\"\"\"\u001B[39;00m\n\u001B[1;32m----> 3\u001B[0m     translate_client \u001B[38;5;241m=\u001B[39m \u001B[43mtranslate\u001B[49m\u001B[38;5;241;43m.\u001B[39;49m\u001B[43mClient\u001B[49m\u001B[43m(\u001B[49m\u001B[43m)\u001B[49m\n\u001B[0;32m      5\u001B[0m     \u001B[38;5;66;03m# Text can also be a sequence of strings, in which case this method\u001B[39;00m\n\u001B[0;32m      6\u001B[0m     \u001B[38;5;66;03m# will return a sequence of results for each text.\u001B[39;00m\n\u001B[0;32m      7\u001B[0m     result \u001B[38;5;241m=\u001B[39m translate_client\u001B[38;5;241m.\u001B[39mdetect_language(text)\n",
      "File \u001B[1;32m~\\AppData\\Roaming\\JetBrains\\DataSpell2022.2\\projects\\workspace\\venv\\Lib\\site-packages\\google\\cloud\\translate_v2\\client.py:82\u001B[0m, in \u001B[0;36mClient.__init__\u001B[1;34m(self, target_language, credentials, _http, client_info, client_options)\u001B[0m\n\u001B[0;32m     73\u001B[0m \u001B[38;5;28;01mdef\u001B[39;00m \u001B[38;5;21m__init__\u001B[39m(\n\u001B[0;32m     74\u001B[0m     \u001B[38;5;28mself\u001B[39m,\n\u001B[0;32m     75\u001B[0m     target_language\u001B[38;5;241m=\u001B[39mENGLISH_ISO_639,\n\u001B[1;32m   (...)\u001B[0m\n\u001B[0;32m     79\u001B[0m     client_options\u001B[38;5;241m=\u001B[39m\u001B[38;5;28;01mNone\u001B[39;00m,\n\u001B[0;32m     80\u001B[0m ):\n\u001B[0;32m     81\u001B[0m     \u001B[38;5;28mself\u001B[39m\u001B[38;5;241m.\u001B[39mtarget_language \u001B[38;5;241m=\u001B[39m target_language\n\u001B[1;32m---> 82\u001B[0m     \u001B[38;5;28;43msuper\u001B[39;49m\u001B[43m(\u001B[49m\u001B[43mClient\u001B[49m\u001B[43m,\u001B[49m\u001B[43m \u001B[49m\u001B[38;5;28;43mself\u001B[39;49m\u001B[43m)\u001B[49m\u001B[38;5;241;43m.\u001B[39;49m\u001B[38;5;21;43m__init__\u001B[39;49m\u001B[43m(\u001B[49m\u001B[43mcredentials\u001B[49m\u001B[38;5;241;43m=\u001B[39;49m\u001B[43mcredentials\u001B[49m\u001B[43m,\u001B[49m\u001B[43m \u001B[49m\u001B[43m_http\u001B[49m\u001B[38;5;241;43m=\u001B[39;49m\u001B[43m_http\u001B[49m\u001B[43m)\u001B[49m\n\u001B[0;32m     84\u001B[0m     kw_args \u001B[38;5;241m=\u001B[39m {\u001B[38;5;124m\"\u001B[39m\u001B[38;5;124mclient_info\u001B[39m\u001B[38;5;124m\"\u001B[39m: client_info}\n\u001B[0;32m     85\u001B[0m     \u001B[38;5;28;01mif\u001B[39;00m client_options:\n",
      "File \u001B[1;32m~\\AppData\\Roaming\\JetBrains\\DataSpell2022.2\\projects\\workspace\\venv\\Lib\\site-packages\\google\\cloud\\client.py:178\u001B[0m, in \u001B[0;36mClient.__init__\u001B[1;34m(self, credentials, _http, client_options)\u001B[0m\n\u001B[0;32m    174\u001B[0m         credentials, _ \u001B[38;5;241m=\u001B[39m google\u001B[38;5;241m.\u001B[39mauth\u001B[38;5;241m.\u001B[39mload_credentials_from_file(\n\u001B[0;32m    175\u001B[0m             client_options\u001B[38;5;241m.\u001B[39mcredentials_file, scopes\u001B[38;5;241m=\u001B[39mscopes\n\u001B[0;32m    176\u001B[0m         )\n\u001B[0;32m    177\u001B[0m     \u001B[38;5;28;01melse\u001B[39;00m:\n\u001B[1;32m--> 178\u001B[0m         credentials, _ \u001B[38;5;241m=\u001B[39m \u001B[43mgoogle\u001B[49m\u001B[38;5;241;43m.\u001B[39;49m\u001B[43mauth\u001B[49m\u001B[38;5;241;43m.\u001B[39;49m\u001B[43mdefault\u001B[49m\u001B[43m(\u001B[49m\u001B[43mscopes\u001B[49m\u001B[38;5;241;43m=\u001B[39;49m\u001B[43mscopes\u001B[49m\u001B[43m)\u001B[49m\n\u001B[0;32m    180\u001B[0m \u001B[38;5;28mself\u001B[39m\u001B[38;5;241m.\u001B[39m_credentials \u001B[38;5;241m=\u001B[39m google\u001B[38;5;241m.\u001B[39mauth\u001B[38;5;241m.\u001B[39mcredentials\u001B[38;5;241m.\u001B[39mwith_scopes_if_required(\n\u001B[0;32m    181\u001B[0m     credentials, scopes\u001B[38;5;241m=\u001B[39mscopes\n\u001B[0;32m    182\u001B[0m )\n\u001B[0;32m    184\u001B[0m \u001B[38;5;28;01mif\u001B[39;00m client_options\u001B[38;5;241m.\u001B[39mquota_project_id:\n",
      "File \u001B[1;32m~\\AppData\\Roaming\\JetBrains\\DataSpell2022.2\\projects\\workspace\\venv\\Lib\\site-packages\\google\\auth\\_default.py:488\u001B[0m, in \u001B[0;36mdefault\u001B[1;34m(scopes, request, quota_project_id, default_scopes)\u001B[0m\n\u001B[0;32m    480\u001B[0m             _LOGGER\u001B[38;5;241m.\u001B[39mwarning(\n\u001B[0;32m    481\u001B[0m                 \u001B[38;5;124m\"\u001B[39m\u001B[38;5;124mNo project ID could be determined. Consider running \u001B[39m\u001B[38;5;124m\"\u001B[39m\n\u001B[0;32m    482\u001B[0m                 \u001B[38;5;124m\"\u001B[39m\u001B[38;5;124m`gcloud config set project` or setting the \u001B[39m\u001B[38;5;132;01m%s\u001B[39;00m\u001B[38;5;124m \u001B[39m\u001B[38;5;124m\"\u001B[39m\n\u001B[0;32m    483\u001B[0m                 \u001B[38;5;124m\"\u001B[39m\u001B[38;5;124menvironment variable\u001B[39m\u001B[38;5;124m\"\u001B[39m,\n\u001B[0;32m    484\u001B[0m                 environment_vars\u001B[38;5;241m.\u001B[39mPROJECT,\n\u001B[0;32m    485\u001B[0m             )\n\u001B[0;32m    486\u001B[0m         \u001B[38;5;28;01mreturn\u001B[39;00m credentials, effective_project_id\n\u001B[1;32m--> 488\u001B[0m \u001B[38;5;28;01mraise\u001B[39;00m exceptions\u001B[38;5;241m.\u001B[39mDefaultCredentialsError(_HELP_MESSAGE)\n",
      "\u001B[1;31mDefaultCredentialsError\u001B[0m: Could not automatically determine credentials. Please set GOOGLE_APPLICATION_CREDENTIALS or explicitly create credentials and re-run the application. For more information, please see https://cloud.google.com/docs/authentication/getting-started"
     ]
    }
   ],
   "source": [
    "#b = TextBlob(\"bonjour\")\n",
    "#b.detect_language()\n",
    "detect_language('bonjour')\n"
   ],
   "metadata": {
    "collapsed": false
   }
  },
  {
   "cell_type": "code",
   "execution_count": 4,
   "outputs": [],
   "source": [
    "def detect_language(text):\n",
    "    \"\"\"Detects the text's language.\"\"\"\n",
    "    translate_client = translate.Client()\n",
    "\n",
    "    # Text can also be a sequence of strings, in which case this method\n",
    "    # will return a sequence of results for each text.\n",
    "    result = translate_client.detect_language(text)\n",
    "\n",
    "    print(\"Text: {}\".format(text))\n",
    "    print(\"Confidence: {}\".format(result[\"confidence\"]))\n",
    "    print(\"Language: {}\".format(result[\"language\"]))\n"
   ],
   "metadata": {
    "collapsed": false
   }
  },
  {
   "cell_type": "code",
   "execution_count": 13,
   "outputs": [
    {
     "ename": "DefaultCredentialsError",
     "evalue": "Could not automatically determine credentials. Please set GOOGLE_APPLICATION_CREDENTIALS or explicitly create credentials and re-run the application. For more information, please see https://cloud.google.com/docs/authentication/getting-started",
     "output_type": "error",
     "traceback": [
      "\u001B[1;31m---------------------------------------------------------------------------\u001B[0m",
      "\u001B[1;31mDefaultCredentialsError\u001B[0m                   Traceback (most recent call last)",
      "Cell \u001B[1;32mIn [13], line 1\u001B[0m\n\u001B[1;32m----> 1\u001B[0m \u001B[43mauthenticate_implicit_with_adc\u001B[49m\u001B[43m(\u001B[49m\u001B[43m)\u001B[49m\n",
      "Cell \u001B[1;32mIn [12], line 20\u001B[0m, in \u001B[0;36mauthenticate_implicit_with_adc\u001B[1;34m(project_id)\u001B[0m\n\u001B[0;32m      2\u001B[0m \u001B[38;5;124;03m\"\"\"\u001B[39;00m\n\u001B[0;32m      3\u001B[0m \u001B[38;5;124;03mWhen interacting with Google Cloud Client libraries, the library can auto-detect the\u001B[39;00m\n\u001B[0;32m      4\u001B[0m \u001B[38;5;124;03mcredentials to use.\u001B[39;00m\n\u001B[1;32m   (...)\u001B[0m\n\u001B[0;32m     13\u001B[0m \u001B[38;5;124;03m    project_id: The project id of your Google Cloud project.\u001B[39;00m\n\u001B[0;32m     14\u001B[0m \u001B[38;5;124;03m\"\"\"\u001B[39;00m\n\u001B[0;32m     16\u001B[0m \u001B[38;5;66;03m# This snippet demonstrates how to list buckets.\u001B[39;00m\n\u001B[0;32m     17\u001B[0m \u001B[38;5;66;03m# *NOTE*: Replace the client created below with the client required for your application.\u001B[39;00m\n\u001B[0;32m     18\u001B[0m \u001B[38;5;66;03m# Note that the credentials are not specified when constructing the client.\u001B[39;00m\n\u001B[0;32m     19\u001B[0m \u001B[38;5;66;03m# Hence, the client library will look for credentials using ADC.\u001B[39;00m\n\u001B[1;32m---> 20\u001B[0m storage_client \u001B[38;5;241m=\u001B[39m \u001B[43mstorage\u001B[49m\u001B[38;5;241;43m.\u001B[39;49m\u001B[43mClient\u001B[49m\u001B[43m(\u001B[49m\u001B[43mproject\u001B[49m\u001B[38;5;241;43m=\u001B[39;49m\u001B[43mproject_id\u001B[49m\u001B[43m)\u001B[49m\n\u001B[0;32m     21\u001B[0m buckets \u001B[38;5;241m=\u001B[39m storage_client\u001B[38;5;241m.\u001B[39mlist_buckets()\n\u001B[0;32m     22\u001B[0m \u001B[38;5;28mprint\u001B[39m(\u001B[38;5;124m\"\u001B[39m\u001B[38;5;124mBuckets:\u001B[39m\u001B[38;5;124m\"\u001B[39m)\n",
      "File \u001B[1;32m~\\AppData\\Roaming\\JetBrains\\DataSpell2022.2\\projects\\workspace\\venv\\Lib\\site-packages\\google\\cloud\\storage\\client.py:161\u001B[0m, in \u001B[0;36mClient.__init__\u001B[1;34m(self, project, credentials, _http, client_info, client_options)\u001B[0m\n\u001B[0;32m    158\u001B[0m         no_project \u001B[38;5;241m=\u001B[39m \u001B[38;5;28;01mTrue\u001B[39;00m\n\u001B[0;32m    159\u001B[0m         project \u001B[38;5;241m=\u001B[39m \u001B[38;5;124m\"\u001B[39m\u001B[38;5;124m<none>\u001B[39m\u001B[38;5;124m\"\u001B[39m\n\u001B[1;32m--> 161\u001B[0m \u001B[38;5;28;43msuper\u001B[39;49m\u001B[43m(\u001B[49m\u001B[43mClient\u001B[49m\u001B[43m,\u001B[49m\u001B[43m \u001B[49m\u001B[38;5;28;43mself\u001B[39;49m\u001B[43m)\u001B[49m\u001B[38;5;241;43m.\u001B[39;49m\u001B[38;5;21;43m__init__\u001B[39;49m\u001B[43m(\u001B[49m\n\u001B[0;32m    162\u001B[0m \u001B[43m    \u001B[49m\u001B[43mproject\u001B[49m\u001B[38;5;241;43m=\u001B[39;49m\u001B[43mproject\u001B[49m\u001B[43m,\u001B[49m\n\u001B[0;32m    163\u001B[0m \u001B[43m    \u001B[49m\u001B[43mcredentials\u001B[49m\u001B[38;5;241;43m=\u001B[39;49m\u001B[43mcredentials\u001B[49m\u001B[43m,\u001B[49m\n\u001B[0;32m    164\u001B[0m \u001B[43m    \u001B[49m\u001B[43mclient_options\u001B[49m\u001B[38;5;241;43m=\u001B[39;49m\u001B[43mclient_options\u001B[49m\u001B[43m,\u001B[49m\n\u001B[0;32m    165\u001B[0m \u001B[43m    \u001B[49m\u001B[43m_http\u001B[49m\u001B[38;5;241;43m=\u001B[39;49m\u001B[43m_http\u001B[49m\u001B[43m,\u001B[49m\n\u001B[0;32m    166\u001B[0m \u001B[43m\u001B[49m\u001B[43m)\u001B[49m\n\u001B[0;32m    168\u001B[0m \u001B[38;5;28;01mif\u001B[39;00m no_project:\n\u001B[0;32m    169\u001B[0m     \u001B[38;5;28mself\u001B[39m\u001B[38;5;241m.\u001B[39mproject \u001B[38;5;241m=\u001B[39m \u001B[38;5;28;01mNone\u001B[39;00m\n",
      "File \u001B[1;32m~\\AppData\\Roaming\\JetBrains\\DataSpell2022.2\\projects\\workspace\\venv\\Lib\\site-packages\\google\\cloud\\client.py:319\u001B[0m, in \u001B[0;36mClientWithProject.__init__\u001B[1;34m(self, project, credentials, client_options, _http)\u001B[0m\n\u001B[0;32m    317\u001B[0m \u001B[38;5;28;01mdef\u001B[39;00m \u001B[38;5;21m__init__\u001B[39m(\u001B[38;5;28mself\u001B[39m, project\u001B[38;5;241m=\u001B[39m\u001B[38;5;28;01mNone\u001B[39;00m, credentials\u001B[38;5;241m=\u001B[39m\u001B[38;5;28;01mNone\u001B[39;00m, client_options\u001B[38;5;241m=\u001B[39m\u001B[38;5;28;01mNone\u001B[39;00m, _http\u001B[38;5;241m=\u001B[39m\u001B[38;5;28;01mNone\u001B[39;00m):\n\u001B[0;32m    318\u001B[0m     _ClientProjectMixin\u001B[38;5;241m.\u001B[39m\u001B[38;5;21m__init__\u001B[39m(\u001B[38;5;28mself\u001B[39m, project\u001B[38;5;241m=\u001B[39mproject, credentials\u001B[38;5;241m=\u001B[39mcredentials)\n\u001B[1;32m--> 319\u001B[0m     \u001B[43mClient\u001B[49m\u001B[38;5;241;43m.\u001B[39;49m\u001B[38;5;21;43m__init__\u001B[39;49m\u001B[43m(\u001B[49m\n\u001B[0;32m    320\u001B[0m \u001B[43m        \u001B[49m\u001B[38;5;28;43mself\u001B[39;49m\u001B[43m,\u001B[49m\u001B[43m \u001B[49m\u001B[43mcredentials\u001B[49m\u001B[38;5;241;43m=\u001B[39;49m\u001B[43mcredentials\u001B[49m\u001B[43m,\u001B[49m\u001B[43m \u001B[49m\u001B[43mclient_options\u001B[49m\u001B[38;5;241;43m=\u001B[39;49m\u001B[43mclient_options\u001B[49m\u001B[43m,\u001B[49m\u001B[43m \u001B[49m\u001B[43m_http\u001B[49m\u001B[38;5;241;43m=\u001B[39;49m\u001B[43m_http\u001B[49m\n\u001B[0;32m    321\u001B[0m \u001B[43m    \u001B[49m\u001B[43m)\u001B[49m\n",
      "File \u001B[1;32m~\\AppData\\Roaming\\JetBrains\\DataSpell2022.2\\projects\\workspace\\venv\\Lib\\site-packages\\google\\cloud\\client.py:178\u001B[0m, in \u001B[0;36mClient.__init__\u001B[1;34m(self, credentials, _http, client_options)\u001B[0m\n\u001B[0;32m    174\u001B[0m         credentials, _ \u001B[38;5;241m=\u001B[39m google\u001B[38;5;241m.\u001B[39mauth\u001B[38;5;241m.\u001B[39mload_credentials_from_file(\n\u001B[0;32m    175\u001B[0m             client_options\u001B[38;5;241m.\u001B[39mcredentials_file, scopes\u001B[38;5;241m=\u001B[39mscopes\n\u001B[0;32m    176\u001B[0m         )\n\u001B[0;32m    177\u001B[0m     \u001B[38;5;28;01melse\u001B[39;00m:\n\u001B[1;32m--> 178\u001B[0m         credentials, _ \u001B[38;5;241m=\u001B[39m \u001B[43mgoogle\u001B[49m\u001B[38;5;241;43m.\u001B[39;49m\u001B[43mauth\u001B[49m\u001B[38;5;241;43m.\u001B[39;49m\u001B[43mdefault\u001B[49m\u001B[43m(\u001B[49m\u001B[43mscopes\u001B[49m\u001B[38;5;241;43m=\u001B[39;49m\u001B[43mscopes\u001B[49m\u001B[43m)\u001B[49m\n\u001B[0;32m    180\u001B[0m \u001B[38;5;28mself\u001B[39m\u001B[38;5;241m.\u001B[39m_credentials \u001B[38;5;241m=\u001B[39m google\u001B[38;5;241m.\u001B[39mauth\u001B[38;5;241m.\u001B[39mcredentials\u001B[38;5;241m.\u001B[39mwith_scopes_if_required(\n\u001B[0;32m    181\u001B[0m     credentials, scopes\u001B[38;5;241m=\u001B[39mscopes\n\u001B[0;32m    182\u001B[0m )\n\u001B[0;32m    184\u001B[0m \u001B[38;5;28;01mif\u001B[39;00m client_options\u001B[38;5;241m.\u001B[39mquota_project_id:\n",
      "File \u001B[1;32m~\\AppData\\Roaming\\JetBrains\\DataSpell2022.2\\projects\\workspace\\venv\\Lib\\site-packages\\google\\auth\\_default.py:488\u001B[0m, in \u001B[0;36mdefault\u001B[1;34m(scopes, request, quota_project_id, default_scopes)\u001B[0m\n\u001B[0;32m    480\u001B[0m             _LOGGER\u001B[38;5;241m.\u001B[39mwarning(\n\u001B[0;32m    481\u001B[0m                 \u001B[38;5;124m\"\u001B[39m\u001B[38;5;124mNo project ID could be determined. Consider running \u001B[39m\u001B[38;5;124m\"\u001B[39m\n\u001B[0;32m    482\u001B[0m                 \u001B[38;5;124m\"\u001B[39m\u001B[38;5;124m`gcloud config set project` or setting the \u001B[39m\u001B[38;5;132;01m%s\u001B[39;00m\u001B[38;5;124m \u001B[39m\u001B[38;5;124m\"\u001B[39m\n\u001B[0;32m    483\u001B[0m                 \u001B[38;5;124m\"\u001B[39m\u001B[38;5;124menvironment variable\u001B[39m\u001B[38;5;124m\"\u001B[39m,\n\u001B[0;32m    484\u001B[0m                 environment_vars\u001B[38;5;241m.\u001B[39mPROJECT,\n\u001B[0;32m    485\u001B[0m             )\n\u001B[0;32m    486\u001B[0m         \u001B[38;5;28;01mreturn\u001B[39;00m credentials, effective_project_id\n\u001B[1;32m--> 488\u001B[0m \u001B[38;5;28;01mraise\u001B[39;00m exceptions\u001B[38;5;241m.\u001B[39mDefaultCredentialsError(_HELP_MESSAGE)\n",
      "\u001B[1;31mDefaultCredentialsError\u001B[0m: Could not automatically determine credentials. Please set GOOGLE_APPLICATION_CREDENTIALS or explicitly create credentials and re-run the application. For more information, please see https://cloud.google.com/docs/authentication/getting-started"
     ]
    }
   ],
   "source": [
    "authenticate_implicit_with_adc()"
   ],
   "metadata": {
    "collapsed": false
   }
  },
  {
   "cell_type": "code",
   "execution_count": 12,
   "outputs": [],
   "source": [
    "def authenticate_implicit_with_adc(project_id=\"subtle-seer-369823\"):\n",
    "    \"\"\"\n",
    "    When interacting with Google Cloud Client libraries, the library can auto-detect the\n",
    "    credentials to use.\n",
    "\n",
    "    // TODO(Developer):\n",
    "    //  1. Before running this sample,\n",
    "    //  set up ADC as described in https://cloud.google.com/docs/authentication/external/set-up-adc\n",
    "    //  2. Replace the project variable.\n",
    "    //  3. Make sure that the user account or service account that you are using\n",
    "    //  has the required permissions. For this sample, you must have \"storage.buckets.list\".\n",
    "    Args:\n",
    "        project_id: The project id of your Google Cloud project.\n",
    "    \"\"\"\n",
    "\n",
    "    # This snippet demonstrates how to list buckets.\n",
    "    # *NOTE*: Replace the client created below with the client required for your application.\n",
    "    # Note that the credentials are not specified when constructing the client.\n",
    "    # Hence, the client library will look for credentials using ADC.\n",
    "    storage_client = storage.Client(project=project_id)\n",
    "    buckets = storage_client.list_buckets()\n",
    "    print(\"Buckets:\")\n",
    "    for bucket in buckets:\n",
    "        print(bucket.name)\n",
    "    print(\"Listed all storage buckets.\")"
   ],
   "metadata": {
    "collapsed": false
   }
  },
  {
   "cell_type": "code",
   "execution_count": null,
   "metadata": {},
   "outputs": [],
   "source": [
    "from google.cloud import client\n",
    "client.\n"
   ]
  },
  {
   "cell_type": "markdown",
   "metadata": {},
   "source": [
    "Normalising"
   ]
  },
  {
   "cell_type": "markdown",
   "metadata": {},
   "source": [
    "Export"
   ]
  },
  {
   "cell_type": "code",
   "execution_count": 102,
   "metadata": {},
   "outputs": [],
   "source": [
    "df.to_csv('Data/processed/EDA.csv')\n",
    "df_Date.to_csv('Data/processed/DATE.csv')"
   ]
  }
 ],
 "metadata": {
  "kernelspec": {
   "display_name": "Python 3 (ipykernel)",
   "language": "python",
   "name": "python3"
  },
  "language_info": {
   "codemirror_mode": {
    "name": "ipython",
    "version": 3
   },
   "file_extension": ".py",
   "mimetype": "text/x-python",
   "name": "python",
   "nbconvert_exporter": "python",
   "pygments_lexer": "ipython3",
   "version": "3.11.0"
  }
 },
 "nbformat": 4,
 "nbformat_minor": 1
}
